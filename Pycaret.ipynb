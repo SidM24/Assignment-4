{
 "cells": [
  {
   "cell_type": "code",
   "execution_count": 1,
   "id": "a19c0d00-84ad-4fb0-93e3-3cec0e737c77",
   "metadata": {},
   "outputs": [
    {
     "name": "stdout",
     "output_type": "stream",
     "text": [
      "Collecting pycaret\n",
      "  Using cached pycaret-3.2.0-py3-none-any.whl.metadata (17 kB)\n",
      "Collecting category-encoders>=2.4.0 (from pycaret)\n",
      "  Using cached category_encoders-2.6.3-py2.py3-none-any.whl.metadata (8.0 kB)\n",
      "Collecting cloudpickle (from pycaret)\n",
      "  Using cached cloudpickle-3.0.0-py3-none-any.whl.metadata (7.0 kB)\n",
      "Collecting deprecation>=2.1.0 (from pycaret)\n",
      "  Using cached deprecation-2.1.0-py2.py3-none-any.whl (11 kB)\n",
      "Collecting imbalanced-learn>=0.8.1 (from pycaret)\n",
      "  Using cached imbalanced_learn-0.12.0-py3-none-any.whl.metadata (8.2 kB)\n",
      "Collecting importlib-metadata>=4.12.0 (from pycaret)\n",
      "  Using cached importlib_metadata-7.0.1-py3-none-any.whl.metadata (4.9 kB)\n",
      "Requirement already satisfied: ipython>=5.5.0 in c:\\users\\dell\\appdata\\local\\programs\\python\\python311\\lib\\site-packages (from pycaret) (8.21.0)\n",
      "Requirement already satisfied: ipywidgets>=7.6.5 in c:\\users\\dell\\appdata\\local\\programs\\python\\python311\\lib\\site-packages (from pycaret) (8.1.2)\n",
      "Requirement already satisfied: jinja2>=1.2 in c:\\users\\dell\\appdata\\local\\programs\\python\\python311\\lib\\site-packages (from pycaret) (3.1.3)\n",
      "Collecting joblib>=1.2.0 (from pycaret)\n",
      "  Using cached joblib-1.3.2-py3-none-any.whl.metadata (5.4 kB)\n",
      "Collecting kaleido>=0.2.1 (from pycaret)\n",
      "  Using cached kaleido-0.2.1-py2.py3-none-win_amd64.whl (65.9 MB)\n",
      "Collecting lightgbm>=3.0.0 (from pycaret)\n",
      "  Using cached lightgbm-4.3.0-py3-none-win_amd64.whl.metadata (19 kB)\n",
      "Requirement already satisfied: markupsafe>=2.0.1 in c:\\users\\dell\\appdata\\local\\programs\\python\\python311\\lib\\site-packages (from pycaret) (2.1.5)\n",
      "Collecting matplotlib<=3.6,>=3.3.0 (from pycaret)\n",
      "  Downloading matplotlib-3.6.0-cp311-cp311-win_amd64.whl (7.2 MB)\n",
      "     ---------------------------------------- 0.0/7.2 MB ? eta -:--:--\n",
      "     ---------------------------------------- 0.0/7.2 MB 1.3 MB/s eta 0:00:06\n",
      "      --------------------------------------- 0.1/7.2 MB 1.7 MB/s eta 0:00:05\n",
      "     - -------------------------------------- 0.4/7.2 MB 2.8 MB/s eta 0:00:03\n",
      "     --- ------------------------------------ 0.6/7.2 MB 3.7 MB/s eta 0:00:02\n",
      "     ----- ---------------------------------- 1.0/7.2 MB 4.3 MB/s eta 0:00:02\n",
      "     -------- ------------------------------- 1.5/7.2 MB 6.1 MB/s eta 0:00:01\n",
      "     --------- ------------------------------ 1.8/7.2 MB 5.7 MB/s eta 0:00:01\n",
      "     ---------- ----------------------------- 1.9/7.2 MB 5.4 MB/s eta 0:00:01\n",
      "     ----------- ---------------------------- 2.1/7.2 MB 5.2 MB/s eta 0:00:01\n",
      "     ------------ --------------------------- 2.3/7.2 MB 5.2 MB/s eta 0:00:01\n",
      "     ------------- -------------------------- 2.4/7.2 MB 5.1 MB/s eta 0:00:01\n",
      "     -------------- ------------------------- 2.6/7.2 MB 5.1 MB/s eta 0:00:01\n",
      "     --------------- ------------------------ 2.8/7.2 MB 4.8 MB/s eta 0:00:01\n",
      "     ---------------- ----------------------- 3.0/7.2 MB 4.8 MB/s eta 0:00:01\n",
      "     ----------------- ---------------------- 3.2/7.2 MB 4.7 MB/s eta 0:00:01\n",
      "     ------------------ --------------------- 3.4/7.2 MB 4.7 MB/s eta 0:00:01\n",
      "     ------------------- -------------------- 3.5/7.2 MB 4.6 MB/s eta 0:00:01\n",
      "     -------------------- ------------------- 3.7/7.2 MB 4.6 MB/s eta 0:00:01\n",
      "     --------------------- ------------------ 3.9/7.2 MB 4.5 MB/s eta 0:00:01\n",
      "     ---------------------- ----------------- 4.1/7.2 MB 4.5 MB/s eta 0:00:01\n",
      "     ----------------------- ---------------- 4.2/7.2 MB 4.5 MB/s eta 0:00:01\n",
      "     ------------------------ --------------- 4.5/7.2 MB 4.4 MB/s eta 0:00:01\n",
      "     ------------------------- -------------- 4.7/7.2 MB 4.4 MB/s eta 0:00:01\n",
      "     -------------------------- ------------- 4.7/7.2 MB 4.3 MB/s eta 0:00:01\n",
      "     --------------------------- ------------ 4.9/7.2 MB 4.4 MB/s eta 0:00:01\n",
      "     ---------------------------- ----------- 5.2/7.2 MB 4.3 MB/s eta 0:00:01\n",
      "     ----------------------------- ---------- 5.3/7.2 MB 4.3 MB/s eta 0:00:01\n",
      "     ------------------------------ --------- 5.5/7.2 MB 4.3 MB/s eta 0:00:01\n",
      "     ------------------------------- -------- 5.7/7.2 MB 4.2 MB/s eta 0:00:01\n",
      "     -------------------------------- ------- 5.9/7.2 MB 4.3 MB/s eta 0:00:01\n",
      "     --------------------------------- ------ 6.1/7.2 MB 4.2 MB/s eta 0:00:01\n",
      "     ---------------------------------- ----- 6.3/7.2 MB 4.3 MB/s eta 0:00:01\n",
      "     ----------------------------------- ---- 6.4/7.2 MB 4.2 MB/s eta 0:00:01\n",
      "     ------------------------------------ --- 6.6/7.2 MB 4.2 MB/s eta 0:00:01\n",
      "     ------------------------------------- -- 6.8/7.2 MB 4.2 MB/s eta 0:00:01\n",
      "     -------------------------------------- - 6.9/7.2 MB 4.2 MB/s eta 0:00:01\n",
      "     ---------------------------------------  7.1/7.2 MB 4.2 MB/s eta 0:00:01\n",
      "     ---------------------------------------- 7.2/7.2 MB 4.1 MB/s eta 0:00:00\n",
      "Requirement already satisfied: nbformat>=4.2.0 in c:\\users\\dell\\appdata\\local\\programs\\python\\python311\\lib\\site-packages (from pycaret) (5.9.2)\n",
      "Collecting numba>=0.55.0 (from pycaret)\n",
      "  Downloading numba-0.59.0-cp311-cp311-win_amd64.whl.metadata (2.8 kB)\n",
      "Collecting numpy<1.27,>=1.21 (from pycaret)\n",
      "  Downloading numpy-1.26.4-cp311-cp311-win_amd64.whl.metadata (61 kB)\n",
      "     ---------------------------------------- 0.0/61.0 kB ? eta -:--:--\n",
      "     ---------------------------------------- 61.0/61.0 kB ? eta 0:00:00\n",
      "Collecting pandas<2.0.0,>=1.3.0 (from pycaret)\n",
      "  Downloading pandas-1.5.3-cp311-cp311-win_amd64.whl.metadata (12 kB)\n",
      "Collecting plotly-resampler>=0.8.3.1 (from pycaret)\n",
      "  Using cached plotly_resampler-0.9.2-py3-none-any.whl.metadata (13 kB)\n",
      "Collecting plotly>=5.0.0 (from pycaret)\n",
      "  Using cached plotly-5.19.0-py3-none-any.whl.metadata (7.0 kB)\n",
      "Collecting pmdarima!=1.8.1,<3.0.0,>=1.8.0 (from pycaret)\n",
      "  Downloading pmdarima-2.0.4-cp311-cp311-win_amd64.whl.metadata (8.0 kB)\n",
      "Requirement already satisfied: psutil>=5.9.0 in c:\\users\\dell\\appdata\\local\\programs\\python\\python311\\lib\\site-packages (from pycaret) (5.9.8)\n",
      "Collecting pyod>=1.0.8 (from pycaret)\n",
      "  Using cached pyod-1.1.3.tar.gz (160 kB)\n",
      "  Installing build dependencies: started\n",
      "  Installing build dependencies: finished with status 'done'\n",
      "  Getting requirements to build wheel: started\n",
      "  Getting requirements to build wheel: finished with status 'done'\n",
      "  Installing backend dependencies: started\n",
      "  Installing backend dependencies: finished with status 'done'\n",
      "  Preparing metadata (pyproject.toml): started\n",
      "  Preparing metadata (pyproject.toml): finished with status 'done'\n",
      "Requirement already satisfied: requests>=2.27.1 in c:\\users\\dell\\appdata\\local\\programs\\python\\python311\\lib\\site-packages (from pycaret) (2.31.0)\n",
      "Collecting schemdraw==0.15 (from pycaret)\n",
      "  Using cached schemdraw-0.15-py3-none-any.whl (106 kB)\n",
      "Collecting scikit-learn<1.3.0,>=1.0 (from pycaret)\n",
      "  Downloading scikit_learn-1.2.2-cp311-cp311-win_amd64.whl.metadata (11 kB)\n",
      "Collecting scikit-plot>=0.3.7 (from pycaret)\n",
      "  Using cached scikit_plot-0.3.7-py3-none-any.whl (33 kB)\n",
      "Collecting scipy~=1.10.1 (from pycaret)\n",
      "  Downloading scipy-1.10.1-cp311-cp311-win_amd64.whl.metadata (58 kB)\n",
      "     ---------------------------------------- 0.0/59.0 kB ? eta -:--:--\n",
      "     ---------------------------------------- 59.0/59.0 kB ? eta 0:00:00\n",
      "Collecting sktime!=0.17.1,!=0.17.2,!=0.18.0,<0.22.0,>=0.16.1 (from pycaret)\n",
      "  Downloading sktime-0.21.1-py3-none-any.whl.metadata (25 kB)\n",
      "Collecting statsmodels>=0.12.1 (from pycaret)\n",
      "  Downloading statsmodels-0.14.1-cp311-cp311-win_amd64.whl.metadata (9.8 kB)\n",
      "Collecting tbats>=1.1.3 (from pycaret)\n",
      "  Downloading tbats-1.1.3-py3-none-any.whl.metadata (3.8 kB)\n",
      "Collecting tqdm>=4.62.0 (from pycaret)\n",
      "  Downloading tqdm-4.66.2-py3-none-any.whl.metadata (57 kB)\n",
      "     ---------------------------------------- 0.0/57.6 kB ? eta -:--:--\n",
      "     ---------------------------------------- 57.6/57.6 kB ? eta 0:00:00\n",
      "Collecting xxhash (from pycaret)\n",
      "  Downloading xxhash-3.4.1-cp311-cp311-win_amd64.whl.metadata (12 kB)\n",
      "Collecting yellowbrick>=1.4 (from pycaret)\n",
      "  Downloading yellowbrick-1.5-py3-none-any.whl (282 kB)\n",
      "     ---------------------------------------- 0.0/282.6 kB ? eta -:--:--\n",
      "     -------------------- ----------------- 153.6/282.6 kB 9.6 MB/s eta 0:00:01\n",
      "     -------------------------------------- 282.6/282.6 kB 5.8 MB/s eta 0:00:00\n",
      "Collecting patsy>=0.5.1 (from category-encoders>=2.4.0->pycaret)\n",
      "  Downloading patsy-0.5.6-py2.py3-none-any.whl.metadata (3.5 kB)\n",
      "Requirement already satisfied: packaging in c:\\users\\dell\\appdata\\local\\programs\\python\\python311\\lib\\site-packages (from deprecation>=2.1.0->pycaret) (23.2)\n",
      "Collecting threadpoolctl>=2.0.0 (from imbalanced-learn>=0.8.1->pycaret)\n",
      "  Downloading threadpoolctl-3.3.0-py3-none-any.whl.metadata (13 kB)\n",
      "Collecting zipp>=0.5 (from importlib-metadata>=4.12.0->pycaret)\n",
      "  Using cached zipp-3.17.0-py3-none-any.whl.metadata (3.7 kB)\n",
      "Requirement already satisfied: decorator in c:\\users\\dell\\appdata\\local\\programs\\python\\python311\\lib\\site-packages (from ipython>=5.5.0->pycaret) (5.1.1)\n",
      "Requirement already satisfied: jedi>=0.16 in c:\\users\\dell\\appdata\\local\\programs\\python\\python311\\lib\\site-packages (from ipython>=5.5.0->pycaret) (0.19.1)\n",
      "Requirement already satisfied: matplotlib-inline in c:\\users\\dell\\appdata\\local\\programs\\python\\python311\\lib\\site-packages (from ipython>=5.5.0->pycaret) (0.1.6)\n",
      "Requirement already satisfied: prompt-toolkit<3.1.0,>=3.0.41 in c:\\users\\dell\\appdata\\local\\programs\\python\\python311\\lib\\site-packages (from ipython>=5.5.0->pycaret) (3.0.43)\n",
      "Requirement already satisfied: pygments>=2.4.0 in c:\\users\\dell\\appdata\\local\\programs\\python\\python311\\lib\\site-packages (from ipython>=5.5.0->pycaret) (2.17.2)\n",
      "Requirement already satisfied: stack-data in c:\\users\\dell\\appdata\\local\\programs\\python\\python311\\lib\\site-packages (from ipython>=5.5.0->pycaret) (0.6.3)\n",
      "Requirement already satisfied: traitlets>=5 in c:\\users\\dell\\appdata\\local\\programs\\python\\python311\\lib\\site-packages (from ipython>=5.5.0->pycaret) (5.14.1)\n",
      "Requirement already satisfied: colorama in c:\\users\\dell\\appdata\\local\\programs\\python\\python311\\lib\\site-packages (from ipython>=5.5.0->pycaret) (0.4.6)\n",
      "Requirement already satisfied: comm>=0.1.3 in c:\\users\\dell\\appdata\\local\\programs\\python\\python311\\lib\\site-packages (from ipywidgets>=7.6.5->pycaret) (0.2.1)\n",
      "Requirement already satisfied: widgetsnbextension~=4.0.10 in c:\\users\\dell\\appdata\\local\\programs\\python\\python311\\lib\\site-packages (from ipywidgets>=7.6.5->pycaret) (4.0.10)\n",
      "Requirement already satisfied: jupyterlab-widgets~=3.0.10 in c:\\users\\dell\\appdata\\local\\programs\\python\\python311\\lib\\site-packages (from ipywidgets>=7.6.5->pycaret) (3.0.10)\n",
      "Collecting contourpy>=1.0.1 (from matplotlib<=3.6,>=3.3.0->pycaret)\n",
      "  Downloading contourpy-1.2.0-cp311-cp311-win_amd64.whl.metadata (5.8 kB)\n",
      "Collecting cycler>=0.10 (from matplotlib<=3.6,>=3.3.0->pycaret)\n",
      "  Using cached cycler-0.12.1-py3-none-any.whl.metadata (3.8 kB)\n",
      "Collecting fonttools>=4.22.0 (from matplotlib<=3.6,>=3.3.0->pycaret)\n",
      "  Downloading fonttools-4.49.0-cp311-cp311-win_amd64.whl.metadata (162 kB)\n",
      "     ---------------------------------------- 0.0/162.3 kB ? eta -:--:--\n",
      "     -------------------------------------- 162.3/162.3 kB 4.9 MB/s eta 0:00:00\n",
      "Collecting kiwisolver>=1.0.1 (from matplotlib<=3.6,>=3.3.0->pycaret)\n",
      "  Downloading kiwisolver-1.4.5-cp311-cp311-win_amd64.whl.metadata (6.5 kB)\n",
      "Collecting pillow>=6.2.0 (from matplotlib<=3.6,>=3.3.0->pycaret)\n",
      "  Downloading pillow-10.2.0-cp311-cp311-win_amd64.whl.metadata (9.9 kB)\n",
      "Collecting pyparsing>=2.2.1 (from matplotlib<=3.6,>=3.3.0->pycaret)\n",
      "  Using cached pyparsing-3.1.1-py3-none-any.whl.metadata (5.1 kB)\n",
      "Requirement already satisfied: python-dateutil>=2.7 in c:\\users\\dell\\appdata\\local\\programs\\python\\python311\\lib\\site-packages (from matplotlib<=3.6,>=3.3.0->pycaret) (2.8.2)\n",
      "Requirement already satisfied: fastjsonschema in c:\\users\\dell\\appdata\\local\\programs\\python\\python311\\lib\\site-packages (from nbformat>=4.2.0->pycaret) (2.19.1)\n",
      "Requirement already satisfied: jsonschema>=2.6 in c:\\users\\dell\\appdata\\local\\programs\\python\\python311\\lib\\site-packages (from nbformat>=4.2.0->pycaret) (4.21.1)\n",
      "Requirement already satisfied: jupyter-core in c:\\users\\dell\\appdata\\local\\programs\\python\\python311\\lib\\site-packages (from nbformat>=4.2.0->pycaret) (5.7.1)\n",
      "Collecting llvmlite<0.43,>=0.42.0dev0 (from numba>=0.55.0->pycaret)\n",
      "  Downloading llvmlite-0.42.0-cp311-cp311-win_amd64.whl.metadata (4.9 kB)\n",
      "Collecting pytz>=2020.1 (from pandas<2.0.0,>=1.3.0->pycaret)\n",
      "  Downloading pytz-2024.1-py2.py3-none-any.whl.metadata (22 kB)\n",
      "Collecting tenacity>=6.2.0 (from plotly>=5.0.0->pycaret)\n",
      "  Downloading tenacity-8.2.3-py3-none-any.whl.metadata (1.0 kB)\n",
      "Collecting dash>=2.9.0 (from plotly-resampler>=0.8.3.1->pycaret)\n",
      "  Downloading dash-2.15.0-py3-none-any.whl.metadata (11 kB)\n",
      "Collecting orjson<4.0.0,>=3.8.0 (from plotly-resampler>=0.8.3.1->pycaret)\n",
      "  Downloading orjson-3.9.14-cp311-none-win_amd64.whl.metadata (50 kB)\n",
      "     ---------------------------------------- 0.0/50.6 kB ? eta -:--:--\n",
      "     ---------------------------------------- 50.6/50.6 kB 2.5 MB/s eta 0:00:00\n",
      "Collecting tsdownsample==0.1.2 (from plotly-resampler>=0.8.3.1->pycaret)\n",
      "  Downloading tsdownsample-0.1.2-cp311-none-win_amd64.whl.metadata (7.1 kB)\n",
      "Collecting Cython!=0.29.18,!=0.29.31,>=0.29 (from pmdarima!=1.8.1,<3.0.0,>=1.8.0->pycaret)\n",
      "  Downloading Cython-3.0.8-cp311-cp311-win_amd64.whl.metadata (3.2 kB)\n",
      "Requirement already satisfied: urllib3 in c:\\users\\dell\\appdata\\local\\programs\\python\\python311\\lib\\site-packages (from pmdarima!=1.8.1,<3.0.0,>=1.8.0->pycaret) (2.2.1)\n",
      "Requirement already satisfied: setuptools!=50.0.0,>=38.6.0 in c:\\users\\dell\\appdata\\local\\programs\\python\\python311\\lib\\site-packages (from pmdarima!=1.8.1,<3.0.0,>=1.8.0->pycaret) (65.5.0)\n",
      "Requirement already satisfied: six in c:\\users\\dell\\appdata\\local\\programs\\python\\python311\\lib\\site-packages (from pyod>=1.0.8->pycaret) (1.16.0)\n",
      "Requirement already satisfied: charset-normalizer<4,>=2 in c:\\users\\dell\\appdata\\local\\programs\\python\\python311\\lib\\site-packages (from requests>=2.27.1->pycaret) (3.3.2)\n",
      "Requirement already satisfied: idna<4,>=2.5 in c:\\users\\dell\\appdata\\local\\programs\\python\\python311\\lib\\site-packages (from requests>=2.27.1->pycaret) (3.6)\n",
      "Requirement already satisfied: certifi>=2017.4.17 in c:\\users\\dell\\appdata\\local\\programs\\python\\python311\\lib\\site-packages (from requests>=2.27.1->pycaret) (2024.2.2)\n",
      "Collecting deprecated>=1.2.13 (from sktime!=0.17.1,!=0.17.2,!=0.18.0,<0.22.0,>=0.16.1->pycaret)\n",
      "  Downloading Deprecated-1.2.14-py2.py3-none-any.whl.metadata (5.4 kB)\n",
      "Collecting numpy<1.27,>=1.21 (from pycaret)\n",
      "  Downloading numpy-1.25.2-cp311-cp311-win_amd64.whl.metadata (5.7 kB)\n",
      "Collecting scikit-base<0.6.0 (from sktime!=0.17.1,!=0.17.2,!=0.18.0,<0.22.0,>=0.16.1->pycaret)\n",
      "  Downloading scikit_base-0.5.2-py3-none-any.whl.metadata (8.6 kB)\n",
      "Collecting Flask<3.1,>=1.0.4 (from dash>=2.9.0->plotly-resampler>=0.8.3.1->pycaret)\n",
      "  Downloading flask-3.0.2-py3-none-any.whl.metadata (3.6 kB)\n",
      "Collecting Werkzeug<3.1 (from dash>=2.9.0->plotly-resampler>=0.8.3.1->pycaret)\n",
      "  Downloading werkzeug-3.0.1-py3-none-any.whl.metadata (4.1 kB)\n",
      "Collecting dash-html-components==2.0.0 (from dash>=2.9.0->plotly-resampler>=0.8.3.1->pycaret)\n",
      "  Downloading dash_html_components-2.0.0-py3-none-any.whl (4.1 kB)\n",
      "Collecting dash-core-components==2.0.0 (from dash>=2.9.0->plotly-resampler>=0.8.3.1->pycaret)\n",
      "  Downloading dash_core_components-2.0.0-py3-none-any.whl (3.8 kB)\n",
      "Collecting dash-table==5.0.0 (from dash>=2.9.0->plotly-resampler>=0.8.3.1->pycaret)\n",
      "  Downloading dash_table-5.0.0-py3-none-any.whl (3.9 kB)\n",
      "Collecting typing-extensions>=4.1.1 (from dash>=2.9.0->plotly-resampler>=0.8.3.1->pycaret)\n",
      "  Using cached typing_extensions-4.9.0-py3-none-any.whl.metadata (3.0 kB)\n",
      "Collecting retrying (from dash>=2.9.0->plotly-resampler>=0.8.3.1->pycaret)\n",
      "  Downloading retrying-1.3.4-py3-none-any.whl (11 kB)\n",
      "Requirement already satisfied: nest-asyncio in c:\\users\\dell\\appdata\\local\\programs\\python\\python311\\lib\\site-packages (from dash>=2.9.0->plotly-resampler>=0.8.3.1->pycaret) (1.6.0)\n",
      "Collecting wrapt<2,>=1.10 (from deprecated>=1.2.13->sktime!=0.17.1,!=0.17.2,!=0.18.0,<0.22.0,>=0.16.1->pycaret)\n",
      "  Downloading wrapt-1.16.0-cp311-cp311-win_amd64.whl.metadata (6.8 kB)\n",
      "Requirement already satisfied: parso<0.9.0,>=0.8.3 in c:\\users\\dell\\appdata\\local\\programs\\python\\python311\\lib\\site-packages (from jedi>=0.16->ipython>=5.5.0->pycaret) (0.8.3)\n",
      "Requirement already satisfied: attrs>=22.2.0 in c:\\users\\dell\\appdata\\local\\programs\\python\\python311\\lib\\site-packages (from jsonschema>=2.6->nbformat>=4.2.0->pycaret) (23.2.0)\n",
      "Requirement already satisfied: jsonschema-specifications>=2023.03.6 in c:\\users\\dell\\appdata\\local\\programs\\python\\python311\\lib\\site-packages (from jsonschema>=2.6->nbformat>=4.2.0->pycaret) (2023.12.1)\n",
      "Requirement already satisfied: referencing>=0.28.4 in c:\\users\\dell\\appdata\\local\\programs\\python\\python311\\lib\\site-packages (from jsonschema>=2.6->nbformat>=4.2.0->pycaret) (0.33.0)\n",
      "Requirement already satisfied: rpds-py>=0.7.1 in c:\\users\\dell\\appdata\\local\\programs\\python\\python311\\lib\\site-packages (from jsonschema>=2.6->nbformat>=4.2.0->pycaret) (0.18.0)\n",
      "Requirement already satisfied: wcwidth in c:\\users\\dell\\appdata\\local\\programs\\python\\python311\\lib\\site-packages (from prompt-toolkit<3.1.0,>=3.0.41->ipython>=5.5.0->pycaret) (0.2.13)\n",
      "Requirement already satisfied: platformdirs>=2.5 in c:\\users\\dell\\appdata\\local\\programs\\python\\python311\\lib\\site-packages (from jupyter-core->nbformat>=4.2.0->pycaret) (4.2.0)\n",
      "Requirement already satisfied: pywin32>=300 in c:\\users\\dell\\appdata\\local\\programs\\python\\python311\\lib\\site-packages (from jupyter-core->nbformat>=4.2.0->pycaret) (306)\n",
      "Requirement already satisfied: executing>=1.2.0 in c:\\users\\dell\\appdata\\local\\programs\\python\\python311\\lib\\site-packages (from stack-data->ipython>=5.5.0->pycaret) (2.0.1)\n",
      "Requirement already satisfied: asttokens>=2.1.0 in c:\\users\\dell\\appdata\\local\\programs\\python\\python311\\lib\\site-packages (from stack-data->ipython>=5.5.0->pycaret) (2.4.1)\n",
      "Requirement already satisfied: pure-eval in c:\\users\\dell\\appdata\\local\\programs\\python\\python311\\lib\\site-packages (from stack-data->ipython>=5.5.0->pycaret) (0.2.2)\n",
      "Collecting itsdangerous>=2.1.2 (from Flask<3.1,>=1.0.4->dash>=2.9.0->plotly-resampler>=0.8.3.1->pycaret)\n",
      "  Downloading itsdangerous-2.1.2-py3-none-any.whl (15 kB)\n",
      "Collecting click>=8.1.3 (from Flask<3.1,>=1.0.4->dash>=2.9.0->plotly-resampler>=0.8.3.1->pycaret)\n",
      "  Using cached click-8.1.7-py3-none-any.whl.metadata (3.0 kB)\n",
      "Collecting blinker>=1.6.2 (from Flask<3.1,>=1.0.4->dash>=2.9.0->plotly-resampler>=0.8.3.1->pycaret)\n",
      "  Downloading blinker-1.7.0-py3-none-any.whl.metadata (1.9 kB)\n",
      "Downloading pycaret-3.2.0-py3-none-any.whl (484 kB)\n",
      "   ---------------------------------------- 0.0/484.7 kB ? eta -:--:--\n",
      "   ---------------------------------------- 0.0/484.7 kB ? eta -:--:--\n",
      "   ----- ---------------------------------- 61.4/484.7 kB 3.4 MB/s eta 0:00:01\n",
      "   -------------- ------------------------- 174.1/484.7 kB 3.5 MB/s eta 0:00:01\n",
      "   ---------------------------------------  481.3/484.7 kB 4.3 MB/s eta 0:00:01\n",
      "   ---------------------------------------- 484.7/484.7 kB 3.8 MB/s eta 0:00:00\n",
      "Downloading category_encoders-2.6.3-py2.py3-none-any.whl (81 kB)\n",
      "   ---------------------------------------- 0.0/81.9 kB ? eta -:--:--\n",
      "   ---------------------------------------- 81.9/81.9 kB 4.8 MB/s eta 0:00:00\n",
      "Using cached imbalanced_learn-0.12.0-py3-none-any.whl (257 kB)\n",
      "Using cached importlib_metadata-7.0.1-py3-none-any.whl (23 kB)\n",
      "Using cached joblib-1.3.2-py3-none-any.whl (302 kB)\n",
      "Downloading lightgbm-4.3.0-py3-none-win_amd64.whl (1.3 MB)\n",
      "   ---------------------------------------- 0.0/1.3 MB ? eta -:--:--\n",
      "   --------------- ------------------------ 0.5/1.3 MB 16.8 MB/s eta 0:00:01\n",
      "   ------------------------------- -------- 1.0/1.3 MB 13.3 MB/s eta 0:00:01\n",
      "   -------------------------------------- - 1.3/1.3 MB 10.2 MB/s eta 0:00:01\n",
      "   ---------------------------------------- 1.3/1.3 MB 8.5 MB/s eta 0:00:00\n",
      "Downloading numba-0.59.0-cp311-cp311-win_amd64.whl (2.6 MB)\n",
      "   ---------------------------------------- 0.0/2.6 MB ? eta -:--:--\n",
      "   ------ --------------------------------- 0.4/2.6 MB 8.3 MB/s eta 0:00:01\n",
      "   ------- -------------------------------- 0.5/2.6 MB 7.5 MB/s eta 0:00:01\n",
      "   --------- ------------------------------ 0.7/2.6 MB 5.9 MB/s eta 0:00:01\n",
      "   ------------ --------------------------- 0.8/2.6 MB 5.3 MB/s eta 0:00:01\n",
      "   ---------------- ----------------------- 1.1/2.6 MB 4.3 MB/s eta 0:00:01\n",
      "   -------------------- ------------------- 1.3/2.6 MB 4.7 MB/s eta 0:00:01\n",
      "   --------------------- ------------------ 1.4/2.6 MB 4.0 MB/s eta 0:00:01\n",
      "   ------------------------- -------------- 1.7/2.6 MB 4.5 MB/s eta 0:00:01\n",
      "   -------------------------- ------------- 1.8/2.6 MB 4.4 MB/s eta 0:00:01\n",
      "   ------------------------------ --------- 2.0/2.6 MB 4.3 MB/s eta 0:00:01\n",
      "   --------------------------------- ------ 2.2/2.6 MB 4.4 MB/s eta 0:00:01\n",
      "   ------------------------------------ --- 2.4/2.6 MB 4.3 MB/s eta 0:00:01\n",
      "   -------------------------------------- - 2.5/2.6 MB 4.1 MB/s eta 0:00:01\n",
      "   ---------------------------------------- 2.6/2.6 MB 4.0 MB/s eta 0:00:00\n",
      "Downloading pandas-1.5.3-cp311-cp311-win_amd64.whl (10.3 MB)\n",
      "   ---------------------------------------- 0.0/10.3 MB ? eta -:--:--\n",
      "   - -------------------------------------- 0.5/10.3 MB 14.5 MB/s eta 0:00:01\n",
      "   -- ------------------------------------- 0.6/10.3 MB 9.7 MB/s eta 0:00:01\n",
      "   --- ------------------------------------ 0.8/10.3 MB 6.6 MB/s eta 0:00:02\n",
      "   --- ------------------------------------ 0.9/10.3 MB 6.0 MB/s eta 0:00:02\n",
      "   ---- ----------------------------------- 1.2/10.3 MB 5.6 MB/s eta 0:00:02\n",
      "   ----- ---------------------------------- 1.4/10.3 MB 5.2 MB/s eta 0:00:02\n",
      "   ------ --------------------------------- 1.6/10.3 MB 5.0 MB/s eta 0:00:02\n",
      "   ------ --------------------------------- 1.7/10.3 MB 4.8 MB/s eta 0:00:02\n",
      "   ------- -------------------------------- 1.9/10.3 MB 4.7 MB/s eta 0:00:02\n",
      "   -------- ------------------------------- 2.1/10.3 MB 4.6 MB/s eta 0:00:02\n",
      "   -------- ------------------------------- 2.2/10.3 MB 4.5 MB/s eta 0:00:02\n",
      "   --------- ------------------------------ 2.4/10.3 MB 4.5 MB/s eta 0:00:02\n",
      "   ---------- ----------------------------- 2.6/10.3 MB 4.5 MB/s eta 0:00:02\n",
      "   ----------- ---------------------------- 2.9/10.3 MB 4.5 MB/s eta 0:00:02\n",
      "   ----------- ---------------------------- 3.0/10.3 MB 4.4 MB/s eta 0:00:02\n",
      "   ------------ --------------------------- 3.1/10.3 MB 4.3 MB/s eta 0:00:02\n",
      "   ------------ --------------------------- 3.3/10.3 MB 4.3 MB/s eta 0:00:02\n",
      "   ------------- -------------------------- 3.6/10.3 MB 4.3 MB/s eta 0:00:02\n",
      "   -------------- ------------------------- 3.7/10.3 MB 4.3 MB/s eta 0:00:02\n",
      "   -------------- ------------------------- 3.9/10.3 MB 4.2 MB/s eta 0:00:02\n",
      "   --------------- ------------------------ 4.1/10.3 MB 4.2 MB/s eta 0:00:02\n",
      "   ---------------- ----------------------- 4.2/10.3 MB 4.1 MB/s eta 0:00:02\n",
      "   ----------------- ---------------------- 4.5/10.3 MB 4.2 MB/s eta 0:00:02\n",
      "   ----------------- ---------------------- 4.6/10.3 MB 4.1 MB/s eta 0:00:02\n",
      "   ------------------ --------------------- 4.8/10.3 MB 4.1 MB/s eta 0:00:02\n",
      "   ------------------- -------------------- 4.9/10.3 MB 4.1 MB/s eta 0:00:02\n",
      "   ------------------- -------------------- 5.2/10.3 MB 4.2 MB/s eta 0:00:02\n",
      "   -------------------- ------------------- 5.3/10.3 MB 4.1 MB/s eta 0:00:02\n",
      "   -------------------- ------------------- 5.3/10.3 MB 4.1 MB/s eta 0:00:02\n",
      "   ---------------------- ----------------- 5.7/10.3 MB 4.1 MB/s eta 0:00:02\n",
      "   ---------------------- ----------------- 5.8/10.3 MB 4.1 MB/s eta 0:00:02\n",
      "   ----------------------- ---------------- 6.0/10.3 MB 4.1 MB/s eta 0:00:02\n",
      "   ------------------------ --------------- 6.2/10.3 MB 4.0 MB/s eta 0:00:02\n",
      "   ------------------------ --------------- 6.4/10.3 MB 4.1 MB/s eta 0:00:01\n",
      "   ------------------------- -------------- 6.5/10.3 MB 4.1 MB/s eta 0:00:01\n",
      "   -------------------------- ------------- 6.8/10.3 MB 4.1 MB/s eta 0:00:01\n",
      "   --------------------------- ------------ 7.0/10.3 MB 4.1 MB/s eta 0:00:01\n",
      "   --------------------------- ------------ 7.2/10.3 MB 4.1 MB/s eta 0:00:01\n",
      "   ---------------------------- ----------- 7.3/10.3 MB 4.0 MB/s eta 0:00:01\n",
      "   ---------------------------- ----------- 7.5/10.3 MB 4.0 MB/s eta 0:00:01\n",
      "   ----------------------------- ---------- 7.6/10.3 MB 4.0 MB/s eta 0:00:01\n",
      "   ------------------------------ --------- 7.9/10.3 MB 4.0 MB/s eta 0:00:01\n",
      "   ------------------------------- -------- 8.0/10.3 MB 4.0 MB/s eta 0:00:01\n",
      "   ------------------------------- -------- 8.1/10.3 MB 4.0 MB/s eta 0:00:01\n",
      "   -------------------------------- ------- 8.4/10.3 MB 4.0 MB/s eta 0:00:01\n",
      "   --------------------------------- ------ 8.6/10.3 MB 4.0 MB/s eta 0:00:01\n",
      "   ---------------------------------- ----- 8.8/10.3 MB 4.0 MB/s eta 0:00:01\n",
      "   ---------------------------------- ----- 8.9/10.3 MB 4.0 MB/s eta 0:00:01\n",
      "   ---------------------------------- ----- 9.0/10.3 MB 4.0 MB/s eta 0:00:01\n",
      "   ----------------------------------- ---- 9.2/10.3 MB 4.0 MB/s eta 0:00:01\n",
      "   ------------------------------------ --- 9.4/10.3 MB 4.0 MB/s eta 0:00:01\n",
      "   ------------------------------------- -- 9.6/10.3 MB 4.0 MB/s eta 0:00:01\n",
      "   -------------------------------------- - 9.8/10.3 MB 4.0 MB/s eta 0:00:01\n",
      "   -------------------------------------- - 9.9/10.3 MB 4.0 MB/s eta 0:00:01\n",
      "   ---------------------------------------  10.1/10.3 MB 4.0 MB/s eta 0:00:01\n",
      "   ---------------------------------------  10.3/10.3 MB 4.0 MB/s eta 0:00:01\n",
      "   ---------------------------------------- 10.3/10.3 MB 3.8 MB/s eta 0:00:00\n",
      "Downloading plotly-5.19.0-py3-none-any.whl (15.7 MB)\n",
      "   ---------------------------------------- 0.0/15.7 MB ? eta -:--:--\n",
      "   - -------------------------------------- 0.5/15.7 MB 35.5 MB/s eta 0:00:01\n",
      "   -- ------------------------------------- 0.8/15.7 MB 10.8 MB/s eta 0:00:02\n",
      "   -- ------------------------------------- 1.0/15.7 MB 8.0 MB/s eta 0:00:02\n",
      "   --- ------------------------------------ 1.2/15.7 MB 7.5 MB/s eta 0:00:02\n",
      "   --- ------------------------------------ 1.3/15.7 MB 6.4 MB/s eta 0:00:03\n",
      "   --- ------------------------------------ 1.5/15.7 MB 5.7 MB/s eta 0:00:03\n",
      "   ---- ----------------------------------- 1.7/15.7 MB 5.2 MB/s eta 0:00:03\n",
      "   ---- ----------------------------------- 2.0/15.7 MB 5.2 MB/s eta 0:00:03\n",
      "   ----- ---------------------------------- 2.1/15.7 MB 5.2 MB/s eta 0:00:03\n",
      "   ----- ---------------------------------- 2.3/15.7 MB 4.9 MB/s eta 0:00:03\n",
      "   ------ --------------------------------- 2.5/15.7 MB 4.8 MB/s eta 0:00:03\n",
      "   ------ --------------------------------- 2.7/15.7 MB 4.8 MB/s eta 0:00:03\n",
      "   ------- -------------------------------- 2.8/15.7 MB 4.7 MB/s eta 0:00:03\n",
      "   ------- -------------------------------- 3.1/15.7 MB 4.7 MB/s eta 0:00:03\n",
      "   -------- ------------------------------- 3.2/15.7 MB 4.6 MB/s eta 0:00:03\n",
      "   -------- ------------------------------- 3.3/15.7 MB 4.5 MB/s eta 0:00:03\n",
      "   --------- ------------------------------ 3.6/15.7 MB 4.5 MB/s eta 0:00:03\n",
      "   --------- ------------------------------ 3.7/15.7 MB 4.5 MB/s eta 0:00:03\n",
      "   ---------- ----------------------------- 3.9/15.7 MB 4.5 MB/s eta 0:00:03\n",
      "   ---------- ----------------------------- 4.0/15.7 MB 4.4 MB/s eta 0:00:03\n",
      "   ---------- ----------------------------- 4.2/15.7 MB 4.3 MB/s eta 0:00:03\n",
      "   ----------- ---------------------------- 4.4/15.7 MB 4.3 MB/s eta 0:00:03\n",
      "   ----------- ---------------------------- 4.6/15.7 MB 4.3 MB/s eta 0:00:03\n",
      "   ------------ --------------------------- 4.8/15.7 MB 4.3 MB/s eta 0:00:03\n",
      "   ------------ --------------------------- 5.0/15.7 MB 4.2 MB/s eta 0:00:03\n",
      "   ------------ --------------------------- 5.1/15.7 MB 4.3 MB/s eta 0:00:03\n",
      "   ------------- -------------------------- 5.3/15.7 MB 4.2 MB/s eta 0:00:03\n",
      "   -------------- ------------------------- 5.5/15.7 MB 4.3 MB/s eta 0:00:03\n",
      "   -------------- ------------------------- 5.7/15.7 MB 4.3 MB/s eta 0:00:03\n",
      "   -------------- ------------------------- 5.8/15.7 MB 4.2 MB/s eta 0:00:03\n",
      "   --------------- ------------------------ 6.1/15.7 MB 4.2 MB/s eta 0:00:03\n",
      "   --------------- ------------------------ 6.2/15.7 MB 4.1 MB/s eta 0:00:03\n",
      "   ---------------- ----------------------- 6.4/15.7 MB 4.2 MB/s eta 0:00:03\n",
      "   ---------------- ----------------------- 6.6/15.7 MB 4.2 MB/s eta 0:00:03\n",
      "   ----------------- ---------------------- 6.8/15.7 MB 4.2 MB/s eta 0:00:03\n",
      "   ----------------- ---------------------- 7.0/15.7 MB 4.2 MB/s eta 0:00:03\n",
      "   ------------------ --------------------- 7.1/15.7 MB 4.2 MB/s eta 0:00:03\n",
      "   ------------------ --------------------- 7.3/15.7 MB 4.2 MB/s eta 0:00:03\n",
      "   ------------------- -------------------- 7.5/15.7 MB 4.2 MB/s eta 0:00:02\n",
      "   ------------------- -------------------- 7.6/15.7 MB 4.2 MB/s eta 0:00:02\n",
      "   -------------------- ------------------- 7.9/15.7 MB 4.1 MB/s eta 0:00:02\n",
      "   -------------------- ------------------- 8.1/15.7 MB 4.1 MB/s eta 0:00:02\n",
      "   -------------------- ------------------- 8.2/15.7 MB 4.1 MB/s eta 0:00:02\n",
      "   --------------------- ------------------ 8.4/15.7 MB 4.1 MB/s eta 0:00:02\n",
      "   --------------------- ------------------ 8.5/15.7 MB 4.1 MB/s eta 0:00:02\n",
      "   ---------------------- ----------------- 8.7/15.7 MB 4.1 MB/s eta 0:00:02\n",
      "   ---------------------- ----------------- 9.0/15.7 MB 4.1 MB/s eta 0:00:02\n",
      "   ----------------------- ---------------- 9.2/15.7 MB 4.1 MB/s eta 0:00:02\n",
      "   ----------------------- ---------------- 9.3/15.7 MB 4.1 MB/s eta 0:00:02\n",
      "   ------------------------ --------------- 9.4/15.7 MB 4.1 MB/s eta 0:00:02\n",
      "   ------------------------ --------------- 9.7/15.7 MB 4.1 MB/s eta 0:00:02\n",
      "   ------------------------ --------------- 9.8/15.7 MB 4.1 MB/s eta 0:00:02\n",
      "   ------------------------- -------------- 9.9/15.7 MB 4.1 MB/s eta 0:00:02\n",
      "   ------------------------- -------------- 10.1/15.7 MB 4.0 MB/s eta 0:00:02\n",
      "   -------------------------- ------------- 10.3/15.7 MB 4.0 MB/s eta 0:00:02\n",
      "   -------------------------- ------------- 10.5/15.7 MB 3.9 MB/s eta 0:00:02\n",
      "   --------------------------- ------------ 10.6/15.7 MB 3.9 MB/s eta 0:00:02\n",
      "   --------------------------- ------------ 10.7/15.7 MB 3.9 MB/s eta 0:00:02\n",
      "   ---------------------------- ----------- 11.1/15.7 MB 3.9 MB/s eta 0:00:02\n",
      "   ---------------------------- ----------- 11.2/15.7 MB 3.8 MB/s eta 0:00:02\n",
      "   ----------------------------- ---------- 11.5/15.7 MB 3.9 MB/s eta 0:00:02\n",
      "   ----------------------------- ---------- 11.6/15.7 MB 3.9 MB/s eta 0:00:02\n",
      "   ----------------------------- ---------- 11.7/15.7 MB 3.9 MB/s eta 0:00:02\n",
      "   ------------------------------ --------- 12.0/15.7 MB 3.9 MB/s eta 0:00:01\n",
      "   ------------------------------ --------- 12.1/15.7 MB 3.9 MB/s eta 0:00:01\n",
      "   ------------------------------- -------- 12.3/15.7 MB 3.9 MB/s eta 0:00:01\n",
      "   ------------------------------- -------- 12.5/15.7 MB 3.9 MB/s eta 0:00:01\n",
      "   -------------------------------- ------- 12.6/15.7 MB 3.9 MB/s eta 0:00:01\n",
      "   -------------------------------- ------- 12.9/15.7 MB 3.8 MB/s eta 0:00:01\n",
      "   --------------------------------- ------ 13.1/15.7 MB 3.9 MB/s eta 0:00:01\n",
      "   --------------------------------- ------ 13.2/15.7 MB 3.8 MB/s eta 0:00:01\n",
      "   ---------------------------------- ----- 13.4/15.7 MB 3.9 MB/s eta 0:00:01\n",
      "   ---------------------------------- ----- 13.6/15.7 MB 3.9 MB/s eta 0:00:01\n",
      "   ---------------------------------- ----- 13.7/15.7 MB 3.9 MB/s eta 0:00:01\n",
      "   ----------------------------------- ---- 14.0/15.7 MB 3.9 MB/s eta 0:00:01\n",
      "   ----------------------------------- ---- 14.1/15.7 MB 3.9 MB/s eta 0:00:01\n",
      "   ------------------------------------ --- 14.4/15.7 MB 3.9 MB/s eta 0:00:01\n",
      "   ------------------------------------- -- 14.5/15.7 MB 3.9 MB/s eta 0:00:01\n",
      "   ------------------------------------- -- 14.7/15.7 MB 3.9 MB/s eta 0:00:01\n",
      "   -------------------------------------- - 14.9/15.7 MB 3.9 MB/s eta 0:00:01\n",
      "   -------------------------------------- - 15.0/15.7 MB 3.9 MB/s eta 0:00:01\n",
      "   -------------------------------------- - 15.2/15.7 MB 3.9 MB/s eta 0:00:01\n",
      "   ---------------------------------------  15.3/15.7 MB 3.9 MB/s eta 0:00:01\n",
      "   ---------------------------------------  15.5/15.7 MB 3.9 MB/s eta 0:00:01\n",
      "   ---------------------------------------  15.7/15.7 MB 3.8 MB/s eta 0:00:01\n",
      "   ---------------------------------------- 15.7/15.7 MB 3.8 MB/s eta 0:00:00\n",
      "Downloading plotly_resampler-0.9.2-py3-none-any.whl (81 kB)\n",
      "   ---------------------------------------- 0.0/81.1 kB ? eta -:--:--\n",
      "   ---------------------------------------- 81.1/81.1 kB ? eta 0:00:00\n",
      "Downloading tsdownsample-0.1.2-cp311-none-win_amd64.whl (1.0 MB)\n",
      "   ---------------------------------------- 0.0/1.0 MB ? eta -:--:--\n",
      "   --------------------- ------------------ 0.6/1.0 MB 17.8 MB/s eta 0:00:01\n",
      "   ------------------------------------- -- 1.0/1.0 MB 12.2 MB/s eta 0:00:01\n",
      "   ---------------------------------------- 1.0/1.0 MB 11.0 MB/s eta 0:00:00\n",
      "Downloading pmdarima-2.0.4-cp311-cp311-win_amd64.whl (614 kB)\n",
      "   ---------------------------------------- 0.0/614.7 kB ? eta -:--:--\n",
      "   ---------------------- ---------------- 358.4/614.7 kB 21.8 MB/s eta 0:00:01\n",
      "   ------------------------------------- -- 583.7/614.7 kB 9.1 MB/s eta 0:00:01\n",
      "   ---------------------------------------- 614.7/614.7 kB 5.5 MB/s eta 0:00:00\n",
      "Downloading scikit_learn-1.2.2-cp311-cp311-win_amd64.whl (8.3 MB)\n",
      "   ---------------------------------------- 0.0/8.3 MB ? eta -:--:--\n",
      "   - -------------------------------------- 0.4/8.3 MB 11.2 MB/s eta 0:00:01\n",
      "   --- ------------------------------------ 0.6/8.3 MB 9.8 MB/s eta 0:00:01\n",
      "   --- ------------------------------------ 0.7/8.3 MB 7.6 MB/s eta 0:00:01\n",
      "   ---- ----------------------------------- 0.9/8.3 MB 6.2 MB/s eta 0:00:02\n",
      "   ----- ---------------------------------- 1.2/8.3 MB 5.2 MB/s eta 0:00:02\n",
      "   ------ --------------------------------- 1.3/8.3 MB 5.2 MB/s eta 0:00:02\n",
      "   ------- -------------------------------- 1.6/8.3 MB 5.2 MB/s eta 0:00:02\n",
      "   -------- ------------------------------- 1.7/8.3 MB 4.9 MB/s eta 0:00:02\n",
      "   -------- ------------------------------- 1.8/8.3 MB 4.5 MB/s eta 0:00:02\n",
      "   --------- ------------------------------ 1.9/8.3 MB 4.5 MB/s eta 0:00:02\n",
      "   ---------- ----------------------------- 2.2/8.3 MB 4.5 MB/s eta 0:00:02\n",
      "   ----------- ---------------------------- 2.3/8.3 MB 4.5 MB/s eta 0:00:02\n",
      "   ------------- -------------------------- 2.7/8.3 MB 4.5 MB/s eta 0:00:02\n",
      "   ------------- -------------------------- 2.8/8.3 MB 4.4 MB/s eta 0:00:02\n",
      "   -------------- ------------------------- 2.9/8.3 MB 4.3 MB/s eta 0:00:02\n",
      "   --------------- ------------------------ 3.1/8.3 MB 4.2 MB/s eta 0:00:02\n",
      "   ---------------- ----------------------- 3.4/8.3 MB 4.3 MB/s eta 0:00:02\n",
      "   ----------------- ---------------------- 3.5/8.3 MB 4.2 MB/s eta 0:00:02\n",
      "   ----------------- ---------------------- 3.6/8.3 MB 4.3 MB/s eta 0:00:02\n",
      "   ------------------ --------------------- 3.9/8.3 MB 4.2 MB/s eta 0:00:02\n",
      "   ------------------- -------------------- 4.1/8.3 MB 4.3 MB/s eta 0:00:01\n",
      "   -------------------- ------------------- 4.2/8.3 MB 4.2 MB/s eta 0:00:01\n",
      "   --------------------- ------------------ 4.4/8.3 MB 4.2 MB/s eta 0:00:01\n",
      "   ---------------------- ----------------- 4.6/8.3 MB 4.2 MB/s eta 0:00:01\n",
      "   ----------------------- ---------------- 4.8/8.3 MB 4.1 MB/s eta 0:00:01\n",
      "   ----------------------- ---------------- 4.9/8.3 MB 4.1 MB/s eta 0:00:01\n",
      "   ------------------------ --------------- 5.1/8.3 MB 4.1 MB/s eta 0:00:01\n",
      "   ------------------------- -------------- 5.2/8.3 MB 4.1 MB/s eta 0:00:01\n",
      "   -------------------------- ------------- 5.4/8.3 MB 4.1 MB/s eta 0:00:01\n",
      "   --------------------------- ------------ 5.6/8.3 MB 4.1 MB/s eta 0:00:01\n",
      "   ---------------------------- ----------- 5.8/8.3 MB 4.0 MB/s eta 0:00:01\n",
      "   ----------------------------- ---------- 6.1/8.3 MB 4.1 MB/s eta 0:00:01\n",
      "   ------------------------------ --------- 6.2/8.3 MB 4.1 MB/s eta 0:00:01\n",
      "   ------------------------------ --------- 6.4/8.3 MB 4.1 MB/s eta 0:00:01\n",
      "   ------------------------------- -------- 6.6/8.3 MB 4.1 MB/s eta 0:00:01\n",
      "   -------------------------------- ------- 6.7/8.3 MB 4.0 MB/s eta 0:00:01\n",
      "   --------------------------------- ------ 6.9/8.3 MB 4.1 MB/s eta 0:00:01\n",
      "   ---------------------------------- ----- 7.2/8.3 MB 4.1 MB/s eta 0:00:01\n",
      "   ----------------------------------- ---- 7.3/8.3 MB 4.0 MB/s eta 0:00:01\n",
      "   ----------------------------------- ---- 7.4/8.3 MB 4.1 MB/s eta 0:00:01\n",
      "   ------------------------------------ --- 7.6/8.3 MB 4.0 MB/s eta 0:00:01\n",
      "   ------------------------------------- -- 7.8/8.3 MB 4.0 MB/s eta 0:00:01\n",
      "   -------------------------------------- - 8.0/8.3 MB 4.0 MB/s eta 0:00:01\n",
      "   ---------------------------------------  8.2/8.3 MB 4.0 MB/s eta 0:00:01\n",
      "   ---------------------------------------  8.3/8.3 MB 4.0 MB/s eta 0:00:01\n",
      "   ---------------------------------------- 8.3/8.3 MB 3.9 MB/s eta 0:00:00\n",
      "Downloading scipy-1.10.1-cp311-cp311-win_amd64.whl (42.2 MB)\n",
      "   ---------------------------------------- 0.0/42.2 MB ? eta -:--:--\n",
      "    --------------------------------------- 0.6/42.2 MB 18.2 MB/s eta 0:00:03\n",
      "    --------------------------------------- 0.7/42.2 MB 11.9 MB/s eta 0:00:04\n",
      "    --------------------------------------- 0.9/42.2 MB 8.1 MB/s eta 0:00:06\n",
      "   - -------------------------------------- 1.1/42.2 MB 7.5 MB/s eta 0:00:06\n",
      "   - -------------------------------------- 1.4/42.2 MB 6.6 MB/s eta 0:00:07\n",
      "   - -------------------------------------- 1.5/42.2 MB 5.9 MB/s eta 0:00:07\n",
      "   - -------------------------------------- 1.7/42.2 MB 5.3 MB/s eta 0:00:08\n",
      "   - -------------------------------------- 1.9/42.2 MB 5.2 MB/s eta 0:00:08\n",
      "   - -------------------------------------- 2.0/42.2 MB 5.0 MB/s eta 0:00:08\n",
      "   -- ------------------------------------- 2.1/42.2 MB 5.0 MB/s eta 0:00:08\n",
      "   -- ------------------------------------- 2.4/42.2 MB 5.0 MB/s eta 0:00:09\n",
      "   -- ------------------------------------- 2.5/42.2 MB 4.8 MB/s eta 0:00:09\n",
      "   -- ------------------------------------- 2.7/42.2 MB 4.8 MB/s eta 0:00:09\n",
      "   -- ------------------------------------- 2.9/42.2 MB 4.7 MB/s eta 0:00:09\n",
      "   -- ------------------------------------- 3.1/42.2 MB 4.6 MB/s eta 0:00:09\n",
      "   --- ------------------------------------ 3.2/42.2 MB 4.6 MB/s eta 0:00:09\n",
      "   --- ------------------------------------ 3.4/42.2 MB 4.6 MB/s eta 0:00:09\n",
      "   --- ------------------------------------ 3.6/42.2 MB 4.6 MB/s eta 0:00:09\n",
      "   --- ------------------------------------ 3.8/42.2 MB 4.5 MB/s eta 0:00:09\n",
      "   --- ------------------------------------ 3.9/42.2 MB 4.4 MB/s eta 0:00:09\n",
      "   --- ------------------------------------ 4.1/42.2 MB 4.2 MB/s eta 0:00:10\n",
      "   ---- ----------------------------------- 4.4/42.2 MB 4.3 MB/s eta 0:00:09\n",
      "   ---- ----------------------------------- 4.5/42.2 MB 4.3 MB/s eta 0:00:09\n",
      "   ---- ----------------------------------- 4.7/42.2 MB 4.3 MB/s eta 0:00:09\n",
      "   ---- ----------------------------------- 4.9/42.2 MB 4.3 MB/s eta 0:00:09\n",
      "   ---- ----------------------------------- 5.1/42.2 MB 4.3 MB/s eta 0:00:09\n",
      "   ----- ---------------------------------- 5.3/42.2 MB 4.2 MB/s eta 0:00:09\n",
      "   ----- ---------------------------------- 5.4/42.2 MB 4.3 MB/s eta 0:00:09\n",
      "   ----- ---------------------------------- 5.6/42.2 MB 4.2 MB/s eta 0:00:09\n",
      "   ----- ---------------------------------- 5.8/42.2 MB 4.2 MB/s eta 0:00:09\n",
      "   ----- ---------------------------------- 5.9/42.2 MB 4.2 MB/s eta 0:00:09\n",
      "   ----- ---------------------------------- 6.2/42.2 MB 4.2 MB/s eta 0:00:09\n",
      "   ------ --------------------------------- 6.4/42.2 MB 4.2 MB/s eta 0:00:09\n",
      "   ------ --------------------------------- 6.6/42.2 MB 4.2 MB/s eta 0:00:09\n",
      "   ------ --------------------------------- 6.7/42.2 MB 4.2 MB/s eta 0:00:09\n",
      "   ------ --------------------------------- 6.9/42.2 MB 4.2 MB/s eta 0:00:09\n",
      "   ------ --------------------------------- 7.1/42.2 MB 4.1 MB/s eta 0:00:09\n",
      "   ------ --------------------------------- 7.2/42.2 MB 4.1 MB/s eta 0:00:09\n",
      "   ------- -------------------------------- 7.4/42.2 MB 4.2 MB/s eta 0:00:09\n",
      "   ------- -------------------------------- 7.6/42.2 MB 4.2 MB/s eta 0:00:09\n",
      "   ------- -------------------------------- 7.8/42.2 MB 4.1 MB/s eta 0:00:09\n",
      "   ------- -------------------------------- 8.0/42.2 MB 4.1 MB/s eta 0:00:09\n",
      "   ------- -------------------------------- 8.1/42.2 MB 4.1 MB/s eta 0:00:09\n",
      "   ------- -------------------------------- 8.4/42.2 MB 4.1 MB/s eta 0:00:09\n",
      "   -------- ------------------------------- 8.6/42.2 MB 4.1 MB/s eta 0:00:09\n",
      "   -------- ------------------------------- 8.6/42.2 MB 4.1 MB/s eta 0:00:09\n",
      "   -------- ------------------------------- 8.8/42.2 MB 4.1 MB/s eta 0:00:09\n",
      "   -------- ------------------------------- 9.1/42.2 MB 4.1 MB/s eta 0:00:09\n",
      "   -------- ------------------------------- 9.2/42.2 MB 4.1 MB/s eta 0:00:09\n",
      "   -------- ------------------------------- 9.4/42.2 MB 4.1 MB/s eta 0:00:09\n",
      "   --------- ------------------------------ 9.6/42.2 MB 4.1 MB/s eta 0:00:09\n",
      "   --------- ------------------------------ 9.7/42.2 MB 4.1 MB/s eta 0:00:08\n",
      "   --------- ------------------------------ 10.0/42.2 MB 4.1 MB/s eta 0:00:08\n",
      "   --------- ------------------------------ 10.1/42.2 MB 4.1 MB/s eta 0:00:08\n",
      "   --------- ------------------------------ 10.4/42.2 MB 4.0 MB/s eta 0:00:08\n",
      "   --------- ------------------------------ 10.5/42.2 MB 4.0 MB/s eta 0:00:08\n",
      "   ---------- ----------------------------- 10.7/42.2 MB 3.9 MB/s eta 0:00:09\n",
      "   ---------- ----------------------------- 10.9/42.2 MB 3.9 MB/s eta 0:00:09\n",
      "   ---------- ----------------------------- 11.0/42.2 MB 3.9 MB/s eta 0:00:09\n",
      "   ---------- ----------------------------- 11.2/42.2 MB 3.9 MB/s eta 0:00:09\n",
      "   ---------- ----------------------------- 11.3/42.2 MB 3.9 MB/s eta 0:00:08\n",
      "   ---------- ----------------------------- 11.5/42.2 MB 3.9 MB/s eta 0:00:08\n",
      "   ----------- ---------------------------- 11.8/42.2 MB 3.9 MB/s eta 0:00:08\n",
      "   ----------- ---------------------------- 11.9/42.2 MB 3.9 MB/s eta 0:00:08\n",
      "   ----------- ---------------------------- 12.1/42.2 MB 3.9 MB/s eta 0:00:08\n",
      "   ----------- ---------------------------- 12.1/42.2 MB 3.9 MB/s eta 0:00:08\n",
      "   ----------- ---------------------------- 12.3/42.2 MB 3.8 MB/s eta 0:00:08\n",
      "   ----------- ---------------------------- 12.6/42.2 MB 3.9 MB/s eta 0:00:08\n",
      "   ------------ --------------------------- 12.9/42.2 MB 3.9 MB/s eta 0:00:08\n",
      "   ------------ --------------------------- 12.9/42.2 MB 3.8 MB/s eta 0:00:08\n",
      "   ------------ --------------------------- 13.2/42.2 MB 3.9 MB/s eta 0:00:08\n",
      "   ------------ --------------------------- 13.4/42.2 MB 3.9 MB/s eta 0:00:08\n",
      "   ------------ --------------------------- 13.5/42.2 MB 3.9 MB/s eta 0:00:08\n",
      "   ------------ --------------------------- 13.7/42.2 MB 3.9 MB/s eta 0:00:08\n",
      "   ------------- -------------------------- 13.9/42.2 MB 3.9 MB/s eta 0:00:08\n",
      "   ------------- -------------------------- 14.1/42.2 MB 4.0 MB/s eta 0:00:08\n",
      "   ------------- -------------------------- 14.3/42.2 MB 3.9 MB/s eta 0:00:08\n",
      "   ------------- -------------------------- 14.4/42.2 MB 3.9 MB/s eta 0:00:08\n",
      "   ------------- -------------------------- 14.6/42.2 MB 3.9 MB/s eta 0:00:08\n",
      "   -------------- ------------------------- 14.8/42.2 MB 3.9 MB/s eta 0:00:08\n",
      "   -------------- ------------------------- 15.0/42.2 MB 3.9 MB/s eta 0:00:08\n",
      "   -------------- ------------------------- 15.2/42.2 MB 3.9 MB/s eta 0:00:07\n",
      "   -------------- ------------------------- 15.4/42.2 MB 3.9 MB/s eta 0:00:07\n",
      "   -------------- ------------------------- 15.5/42.2 MB 3.9 MB/s eta 0:00:07\n",
      "   -------------- ------------------------- 15.7/42.2 MB 3.9 MB/s eta 0:00:07\n",
      "   --------------- ------------------------ 15.9/42.2 MB 3.9 MB/s eta 0:00:07\n",
      "   --------------- ------------------------ 16.0/42.2 MB 3.9 MB/s eta 0:00:07\n",
      "   --------------- ------------------------ 16.2/42.2 MB 3.9 MB/s eta 0:00:07\n",
      "   --------------- ------------------------ 16.4/42.2 MB 3.9 MB/s eta 0:00:07\n",
      "   --------------- ------------------------ 16.6/42.2 MB 3.9 MB/s eta 0:00:07\n",
      "   --------------- ------------------------ 16.9/42.2 MB 3.9 MB/s eta 0:00:07\n",
      "   ---------------- ----------------------- 17.0/42.2 MB 3.9 MB/s eta 0:00:07\n",
      "   ---------------- ----------------------- 17.2/42.2 MB 3.9 MB/s eta 0:00:07\n",
      "   ---------------- ----------------------- 17.3/42.2 MB 3.9 MB/s eta 0:00:07\n",
      "   ---------------- ----------------------- 17.5/42.2 MB 3.9 MB/s eta 0:00:07\n",
      "   ---------------- ----------------------- 17.7/42.2 MB 3.9 MB/s eta 0:00:07\n",
      "   ---------------- ----------------------- 17.9/42.2 MB 3.9 MB/s eta 0:00:07\n",
      "   ----------------- ---------------------- 18.1/42.2 MB 3.9 MB/s eta 0:00:07\n",
      "   ----------------- ---------------------- 18.3/42.2 MB 3.9 MB/s eta 0:00:07\n",
      "   ----------------- ---------------------- 18.5/42.2 MB 3.9 MB/s eta 0:00:07\n",
      "   ----------------- ---------------------- 18.6/42.2 MB 3.9 MB/s eta 0:00:07\n",
      "   ----------------- ---------------------- 18.8/42.2 MB 3.9 MB/s eta 0:00:07\n",
      "   ------------------ --------------------- 19.1/42.2 MB 3.9 MB/s eta 0:00:06\n",
      "   ------------------ --------------------- 19.2/42.2 MB 3.9 MB/s eta 0:00:06\n",
      "   ------------------ --------------------- 19.3/42.2 MB 3.9 MB/s eta 0:00:06\n",
      "   ------------------ --------------------- 19.5/42.2 MB 3.9 MB/s eta 0:00:06\n",
      "   ------------------ --------------------- 19.6/42.2 MB 3.9 MB/s eta 0:00:06\n",
      "   ------------------ --------------------- 19.9/42.2 MB 3.9 MB/s eta 0:00:06\n",
      "   ------------------- -------------------- 20.1/42.2 MB 3.9 MB/s eta 0:00:06\n",
      "   ------------------- -------------------- 20.3/42.2 MB 3.9 MB/s eta 0:00:06\n",
      "   ------------------- -------------------- 20.5/42.2 MB 3.9 MB/s eta 0:00:06\n",
      "   ------------------- -------------------- 20.6/42.2 MB 3.9 MB/s eta 0:00:06\n",
      "   ------------------- -------------------- 20.7/42.2 MB 3.9 MB/s eta 0:00:06\n",
      "   ------------------- -------------------- 20.9/42.2 MB 3.9 MB/s eta 0:00:06\n",
      "   -------------------- ------------------- 21.1/42.2 MB 3.8 MB/s eta 0:00:06\n",
      "   -------------------- ------------------- 21.2/42.2 MB 3.9 MB/s eta 0:00:06\n",
      "   -------------------- ------------------- 21.5/42.2 MB 3.9 MB/s eta 0:00:06\n",
      "   -------------------- ------------------- 21.7/42.2 MB 3.9 MB/s eta 0:00:06\n",
      "   -------------------- ------------------- 21.8/42.2 MB 3.9 MB/s eta 0:00:06\n",
      "   -------------------- ------------------- 22.0/42.2 MB 3.9 MB/s eta 0:00:06\n",
      "   --------------------- ------------------ 22.3/42.2 MB 3.9 MB/s eta 0:00:06\n",
      "   --------------------- ------------------ 22.4/42.2 MB 3.9 MB/s eta 0:00:06\n",
      "   --------------------- ------------------ 22.6/42.2 MB 3.9 MB/s eta 0:00:05\n",
      "   --------------------- ------------------ 22.7/42.2 MB 3.9 MB/s eta 0:00:06\n",
      "   --------------------- ------------------ 23.0/42.2 MB 3.9 MB/s eta 0:00:05\n",
      "   --------------------- ------------------ 23.1/42.2 MB 3.9 MB/s eta 0:00:05\n",
      "   --------------------- ------------------ 23.2/42.2 MB 3.8 MB/s eta 0:00:05\n",
      "   ---------------------- ----------------- 23.4/42.2 MB 3.9 MB/s eta 0:00:05\n",
      "   ---------------------- ----------------- 23.7/42.2 MB 3.9 MB/s eta 0:00:05\n",
      "   ---------------------- ----------------- 23.7/42.2 MB 3.9 MB/s eta 0:00:05\n",
      "   ---------------------- ----------------- 24.0/42.2 MB 3.9 MB/s eta 0:00:05\n",
      "   ---------------------- ----------------- 24.1/42.2 MB 3.8 MB/s eta 0:00:05\n",
      "   ----------------------- ---------------- 24.4/42.2 MB 3.9 MB/s eta 0:00:05\n",
      "   ----------------------- ---------------- 24.5/42.2 MB 3.9 MB/s eta 0:00:05\n",
      "   ----------------------- ---------------- 24.7/42.2 MB 3.9 MB/s eta 0:00:05\n",
      "   ----------------------- ---------------- 25.0/42.2 MB 3.9 MB/s eta 0:00:05\n",
      "   ----------------------- ---------------- 25.1/42.2 MB 3.9 MB/s eta 0:00:05\n",
      "   ------------------------ --------------- 25.3/42.2 MB 3.9 MB/s eta 0:00:05\n",
      "   ------------------------ --------------- 25.5/42.2 MB 3.9 MB/s eta 0:00:05\n",
      "   ------------------------ --------------- 25.6/42.2 MB 3.9 MB/s eta 0:00:05\n",
      "   ------------------------ --------------- 25.8/42.2 MB 3.9 MB/s eta 0:00:05\n",
      "   ------------------------ --------------- 25.9/42.2 MB 3.9 MB/s eta 0:00:05\n",
      "   ------------------------ --------------- 26.2/42.2 MB 3.9 MB/s eta 0:00:05\n",
      "   ------------------------ --------------- 26.4/42.2 MB 3.9 MB/s eta 0:00:05\n",
      "   ------------------------- -------------- 26.6/42.2 MB 3.9 MB/s eta 0:00:05\n",
      "   ------------------------- -------------- 26.7/42.2 MB 3.9 MB/s eta 0:00:04\n",
      "   ------------------------- -------------- 26.9/42.2 MB 3.9 MB/s eta 0:00:04\n",
      "   ------------------------- -------------- 27.1/42.2 MB 3.8 MB/s eta 0:00:04\n",
      "   ------------------------- -------------- 27.3/42.2 MB 3.9 MB/s eta 0:00:04\n",
      "   -------------------------- ------------- 27.5/42.2 MB 3.9 MB/s eta 0:00:04\n",
      "   -------------------------- ------------- 27.6/42.2 MB 3.9 MB/s eta 0:00:04\n",
      "   -------------------------- ------------- 27.8/42.2 MB 3.9 MB/s eta 0:00:04\n",
      "   -------------------------- ------------- 27.9/42.2 MB 3.9 MB/s eta 0:00:04\n",
      "   -------------------------- ------------- 28.1/42.2 MB 3.9 MB/s eta 0:00:04\n",
      "   -------------------------- ------------- 28.4/42.2 MB 3.9 MB/s eta 0:00:04\n",
      "   -------------------------- ------------- 28.5/42.2 MB 3.9 MB/s eta 0:00:04\n",
      "   --------------------------- ------------ 28.6/42.2 MB 3.9 MB/s eta 0:00:04\n",
      "   --------------------------- ------------ 28.9/42.2 MB 3.9 MB/s eta 0:00:04\n",
      "   --------------------------- ------------ 29.0/42.2 MB 3.9 MB/s eta 0:00:04\n",
      "   --------------------------- ------------ 29.1/42.2 MB 3.9 MB/s eta 0:00:04\n",
      "   --------------------------- ------------ 29.5/42.2 MB 3.9 MB/s eta 0:00:04\n",
      "   ---------------------------- ----------- 29.7/42.2 MB 3.9 MB/s eta 0:00:04\n",
      "   ---------------------------- ----------- 29.8/42.2 MB 3.9 MB/s eta 0:00:04\n",
      "   ---------------------------- ----------- 30.0/42.2 MB 3.9 MB/s eta 0:00:04\n",
      "   ---------------------------- ----------- 30.2/42.2 MB 3.9 MB/s eta 0:00:04\n",
      "   ---------------------------- ----------- 30.3/42.2 MB 3.9 MB/s eta 0:00:04\n",
      "   ---------------------------- ----------- 30.4/42.2 MB 3.9 MB/s eta 0:00:04\n",
      "   ----------------------------- ---------- 30.7/42.2 MB 3.9 MB/s eta 0:00:03\n",
      "   ----------------------------- ---------- 30.9/42.2 MB 3.9 MB/s eta 0:00:03\n",
      "   ----------------------------- ---------- 30.9/42.2 MB 3.8 MB/s eta 0:00:03\n",
      "   ----------------------------- ---------- 31.1/42.2 MB 3.9 MB/s eta 0:00:03\n",
      "   ----------------------------- ---------- 31.4/42.2 MB 3.9 MB/s eta 0:00:03\n",
      "   ----------------------------- ---------- 31.5/42.2 MB 3.9 MB/s eta 0:00:03\n",
      "   ------------------------------ --------- 31.8/42.2 MB 3.9 MB/s eta 0:00:03\n",
      "   ------------------------------ --------- 31.9/42.2 MB 3.9 MB/s eta 0:00:03\n",
      "   ------------------------------ --------- 32.1/42.2 MB 3.9 MB/s eta 0:00:03\n",
      "   ------------------------------ --------- 32.3/42.2 MB 3.9 MB/s eta 0:00:03\n",
      "   ------------------------------ --------- 32.5/42.2 MB 3.9 MB/s eta 0:00:03\n",
      "   ------------------------------ --------- 32.7/42.2 MB 3.8 MB/s eta 0:00:03\n",
      "   ------------------------------- -------- 32.8/42.2 MB 3.9 MB/s eta 0:00:03\n",
      "   ------------------------------- -------- 33.0/42.2 MB 3.9 MB/s eta 0:00:03\n",
      "   ------------------------------- -------- 33.2/42.2 MB 3.9 MB/s eta 0:00:03\n",
      "   ------------------------------- -------- 33.4/42.2 MB 3.9 MB/s eta 0:00:03\n",
      "   ------------------------------- -------- 33.5/42.2 MB 3.9 MB/s eta 0:00:03\n",
      "   ------------------------------- -------- 33.7/42.2 MB 3.9 MB/s eta 0:00:03\n",
      "   -------------------------------- ------- 33.9/42.2 MB 3.9 MB/s eta 0:00:03\n",
      "   -------------------------------- ------- 34.0/42.2 MB 3.9 MB/s eta 0:00:03\n",
      "   -------------------------------- ------- 34.2/42.2 MB 3.9 MB/s eta 0:00:03\n",
      "   -------------------------------- ------- 34.5/42.2 MB 3.9 MB/s eta 0:00:02\n",
      "   -------------------------------- ------- 34.5/42.2 MB 3.9 MB/s eta 0:00:02\n",
      "   --------------------------------- ------ 34.9/42.2 MB 3.9 MB/s eta 0:00:02\n",
      "   --------------------------------- ------ 35.0/42.2 MB 3.9 MB/s eta 0:00:02\n",
      "   --------------------------------- ------ 35.2/42.2 MB 3.9 MB/s eta 0:00:02\n",
      "   --------------------------------- ------ 35.4/42.2 MB 3.9 MB/s eta 0:00:02\n",
      "   --------------------------------- ------ 35.5/42.2 MB 3.9 MB/s eta 0:00:02\n",
      "   --------------------------------- ------ 35.7/42.2 MB 3.9 MB/s eta 0:00:02\n",
      "   --------------------------------- ------ 35.9/42.2 MB 3.9 MB/s eta 0:00:02\n",
      "   ---------------------------------- ----- 36.1/42.2 MB 3.9 MB/s eta 0:00:02\n",
      "   ---------------------------------- ----- 36.2/42.2 MB 3.9 MB/s eta 0:00:02\n",
      "   ---------------------------------- ----- 36.4/42.2 MB 3.8 MB/s eta 0:00:02\n",
      "   ---------------------------------- ----- 36.5/42.2 MB 3.9 MB/s eta 0:00:02\n",
      "   ---------------------------------- ----- 36.7/42.2 MB 3.9 MB/s eta 0:00:02\n",
      "   ---------------------------------- ----- 36.9/42.2 MB 3.8 MB/s eta 0:00:02\n",
      "   ----------------------------------- ---- 37.0/42.2 MB 3.9 MB/s eta 0:00:02\n",
      "   ----------------------------------- ---- 37.3/42.2 MB 3.9 MB/s eta 0:00:02\n",
      "   ----------------------------------- ---- 37.5/42.2 MB 3.9 MB/s eta 0:00:02\n",
      "   ----------------------------------- ---- 37.6/42.2 MB 3.9 MB/s eta 0:00:02\n",
      "   ----------------------------------- ---- 37.8/42.2 MB 3.9 MB/s eta 0:00:02\n",
      "   ------------------------------------ --- 38.1/42.2 MB 3.9 MB/s eta 0:00:02\n",
      "   ------------------------------------ --- 38.3/42.2 MB 3.9 MB/s eta 0:00:02\n",
      "   ------------------------------------ --- 38.4/42.2 MB 3.9 MB/s eta 0:00:01\n",
      "   ------------------------------------ --- 38.6/42.2 MB 3.9 MB/s eta 0:00:01\n",
      "   ------------------------------------ --- 38.8/42.2 MB 3.9 MB/s eta 0:00:01\n",
      "   ------------------------------------ --- 38.9/42.2 MB 3.9 MB/s eta 0:00:01\n",
      "   ------------------------------------- -- 39.1/42.2 MB 3.9 MB/s eta 0:00:01\n",
      "   ------------------------------------- -- 39.3/42.2 MB 3.9 MB/s eta 0:00:01\n",
      "   ------------------------------------- -- 39.5/42.2 MB 3.9 MB/s eta 0:00:01\n",
      "   ------------------------------------- -- 39.7/42.2 MB 3.9 MB/s eta 0:00:01\n",
      "   ------------------------------------- -- 39.8/42.2 MB 3.9 MB/s eta 0:00:01\n",
      "   ------------------------------------- -- 40.0/42.2 MB 3.9 MB/s eta 0:00:01\n",
      "   -------------------------------------- - 40.2/42.2 MB 3.9 MB/s eta 0:00:01\n",
      "   -------------------------------------- - 40.3/42.2 MB 3.9 MB/s eta 0:00:01\n",
      "   -------------------------------------- - 40.5/42.2 MB 3.9 MB/s eta 0:00:01\n",
      "   -------------------------------------- - 40.8/42.2 MB 3.9 MB/s eta 0:00:01\n",
      "   -------------------------------------- - 40.9/42.2 MB 3.8 MB/s eta 0:00:01\n",
      "   -------------------------------------- - 41.1/42.2 MB 3.9 MB/s eta 0:00:01\n",
      "   ---------------------------------------  41.2/42.2 MB 3.9 MB/s eta 0:00:01\n",
      "   ---------------------------------------  41.4/42.2 MB 3.8 MB/s eta 0:00:01\n",
      "   ---------------------------------------  41.5/42.2 MB 3.8 MB/s eta 0:00:01\n",
      "   ---------------------------------------  41.8/42.2 MB 3.9 MB/s eta 0:00:01\n",
      "   ---------------------------------------  41.9/42.2 MB 3.9 MB/s eta 0:00:01\n",
      "   ---------------------------------------  42.2/42.2 MB 3.9 MB/s eta 0:00:01\n",
      "   ---------------------------------------  42.2/42.2 MB 3.9 MB/s eta 0:00:01\n",
      "   ---------------------------------------  42.2/42.2 MB 3.9 MB/s eta 0:00:01\n",
      "   ---------------------------------------- 42.2/42.2 MB 3.7 MB/s eta 0:00:00\n",
      "Downloading sktime-0.21.1-py3-none-any.whl (17.1 MB)\n",
      "   ---------------------------------------- 0.0/17.1 MB ? eta -:--:--\n",
      "   - -------------------------------------- 0.8/17.1 MB 15.9 MB/s eta 0:00:02\n",
      "   -- ------------------------------------- 1.0/17.1 MB 15.0 MB/s eta 0:00:02\n",
      "   -- ------------------------------------- 1.2/17.1 MB 8.3 MB/s eta 0:00:02\n",
      "   --- ------------------------------------ 1.4/17.1 MB 7.4 MB/s eta 0:00:03\n",
      "   --- ------------------------------------ 1.5/17.1 MB 6.7 MB/s eta 0:00:03\n",
      "   ---- ----------------------------------- 1.7/17.1 MB 6.5 MB/s eta 0:00:03\n",
      "   ---- ----------------------------------- 1.9/17.1 MB 6.3 MB/s eta 0:00:03\n",
      "   ---- ----------------------------------- 2.0/17.1 MB 5.9 MB/s eta 0:00:03\n",
      "   ----- ---------------------------------- 2.2/17.1 MB 5.6 MB/s eta 0:00:03\n",
      "   ----- ---------------------------------- 2.4/17.1 MB 5.6 MB/s eta 0:00:03\n",
      "   ------ --------------------------------- 2.6/17.1 MB 5.3 MB/s eta 0:00:03\n",
      "   ------ --------------------------------- 2.8/17.1 MB 5.0 MB/s eta 0:00:03\n",
      "   ------ --------------------------------- 3.0/17.1 MB 5.0 MB/s eta 0:00:03\n",
      "   ------- -------------------------------- 3.2/17.1 MB 4.9 MB/s eta 0:00:03\n",
      "   ------- -------------------------------- 3.3/17.1 MB 4.8 MB/s eta 0:00:03\n",
      "   -------- ------------------------------- 3.5/17.1 MB 4.8 MB/s eta 0:00:03\n",
      "   -------- ------------------------------- 3.7/17.1 MB 4.7 MB/s eta 0:00:03\n",
      "   --------- ------------------------------ 3.9/17.1 MB 4.7 MB/s eta 0:00:03\n",
      "   --------- ------------------------------ 4.1/17.1 MB 4.6 MB/s eta 0:00:03\n",
      "   --------- ------------------------------ 4.3/17.1 MB 4.6 MB/s eta 0:00:03\n",
      "   ---------- ----------------------------- 4.4/17.1 MB 4.6 MB/s eta 0:00:03\n",
      "   ---------- ----------------------------- 4.6/17.1 MB 4.5 MB/s eta 0:00:03\n",
      "   ----------- ---------------------------- 4.8/17.1 MB 4.5 MB/s eta 0:00:03\n",
      "   ----------- ---------------------------- 5.0/17.1 MB 4.5 MB/s eta 0:00:03\n",
      "   ----------- ---------------------------- 5.1/17.1 MB 4.4 MB/s eta 0:00:03\n",
      "   ------------ --------------------------- 5.3/17.1 MB 4.4 MB/s eta 0:00:03\n",
      "   ------------ --------------------------- 5.4/17.1 MB 4.5 MB/s eta 0:00:03\n",
      "   ------------- -------------------------- 5.7/17.1 MB 4.4 MB/s eta 0:00:03\n",
      "   ------------- -------------------------- 5.8/17.1 MB 4.4 MB/s eta 0:00:03\n",
      "   -------------- ------------------------- 6.0/17.1 MB 4.3 MB/s eta 0:00:03\n",
      "   -------------- ------------------------- 6.2/17.1 MB 4.3 MB/s eta 0:00:03\n",
      "   --------------- ------------------------ 6.5/17.1 MB 4.3 MB/s eta 0:00:03\n",
      "   --------------- ------------------------ 6.6/17.1 MB 4.3 MB/s eta 0:00:03\n",
      "   --------------- ------------------------ 6.8/17.1 MB 4.3 MB/s eta 0:00:03\n",
      "   ---------------- ----------------------- 7.0/17.1 MB 4.2 MB/s eta 0:00:03\n",
      "   ---------------- ----------------------- 7.1/17.1 MB 4.3 MB/s eta 0:00:03\n",
      "   ----------------- ---------------------- 7.3/17.1 MB 4.2 MB/s eta 0:00:03\n",
      "   ----------------- ---------------------- 7.5/17.1 MB 4.2 MB/s eta 0:00:03\n",
      "   ----------------- ---------------------- 7.7/17.1 MB 4.2 MB/s eta 0:00:03\n",
      "   ------------------ --------------------- 7.8/17.1 MB 4.2 MB/s eta 0:00:03\n",
      "   ------------------ --------------------- 8.1/17.1 MB 4.2 MB/s eta 0:00:03\n",
      "   ------------------- -------------------- 8.2/17.1 MB 4.2 MB/s eta 0:00:03\n",
      "   ------------------- -------------------- 8.4/17.1 MB 4.2 MB/s eta 0:00:03\n",
      "   ------------------- -------------------- 8.5/17.1 MB 4.2 MB/s eta 0:00:03\n",
      "   -------------------- ------------------- 8.8/17.1 MB 4.2 MB/s eta 0:00:02\n",
      "   -------------------- ------------------- 8.9/17.1 MB 4.2 MB/s eta 0:00:02\n",
      "   --------------------- ------------------ 9.1/17.1 MB 4.1 MB/s eta 0:00:02\n",
      "   --------------------- ------------------ 9.3/17.1 MB 4.2 MB/s eta 0:00:02\n",
      "   ---------------------- ----------------- 9.5/17.1 MB 4.2 MB/s eta 0:00:02\n",
      "   ---------------------- ----------------- 9.7/17.1 MB 4.1 MB/s eta 0:00:02\n",
      "   ---------------------- ----------------- 9.8/17.1 MB 4.1 MB/s eta 0:00:02\n",
      "   ----------------------- ---------------- 9.9/17.1 MB 4.1 MB/s eta 0:00:02\n",
      "   ----------------------- ---------------- 10.2/17.1 MB 4.1 MB/s eta 0:00:02\n",
      "   ------------------------ --------------- 10.3/17.1 MB 4.1 MB/s eta 0:00:02\n",
      "   ------------------------ --------------- 10.6/17.1 MB 4.0 MB/s eta 0:00:02\n",
      "   ------------------------ --------------- 10.7/17.1 MB 4.0 MB/s eta 0:00:02\n",
      "   ------------------------- -------------- 10.9/17.1 MB 3.9 MB/s eta 0:00:02\n",
      "   ------------------------- -------------- 11.0/17.1 MB 3.9 MB/s eta 0:00:02\n",
      "   -------------------------- ------------- 11.2/17.1 MB 3.9 MB/s eta 0:00:02\n",
      "   -------------------------- ------------- 11.4/17.1 MB 3.8 MB/s eta 0:00:02\n",
      "   --------------------------- ------------ 11.6/17.1 MB 3.9 MB/s eta 0:00:02\n",
      "   --------------------------- ------------ 11.7/17.1 MB 3.9 MB/s eta 0:00:02\n",
      "   --------------------------- ------------ 11.9/17.1 MB 3.9 MB/s eta 0:00:02\n",
      "   ---------------------------- ----------- 12.1/17.1 MB 3.9 MB/s eta 0:00:02\n",
      "   ---------------------------- ----------- 12.2/17.1 MB 3.8 MB/s eta 0:00:02\n",
      "   ----------------------------- ---------- 12.5/17.1 MB 3.9 MB/s eta 0:00:02\n",
      "   ----------------------------- ---------- 12.6/17.1 MB 3.8 MB/s eta 0:00:02\n",
      "   ------------------------------ --------- 12.9/17.1 MB 3.9 MB/s eta 0:00:02\n",
      "   ------------------------------ --------- 13.1/17.1 MB 3.9 MB/s eta 0:00:02\n",
      "   ------------------------------ --------- 13.2/17.1 MB 3.9 MB/s eta 0:00:02\n",
      "   ------------------------------- -------- 13.4/17.1 MB 3.9 MB/s eta 0:00:01\n",
      "   ------------------------------- -------- 13.6/17.1 MB 3.9 MB/s eta 0:00:01\n",
      "   -------------------------------- ------- 13.8/17.1 MB 3.9 MB/s eta 0:00:01\n",
      "   -------------------------------- ------- 14.0/17.1 MB 3.9 MB/s eta 0:00:01\n",
      "   -------------------------------- ------- 14.0/17.1 MB 3.9 MB/s eta 0:00:01\n",
      "   --------------------------------- ------ 14.3/17.1 MB 3.8 MB/s eta 0:00:01\n",
      "   --------------------------------- ------ 14.4/17.1 MB 3.9 MB/s eta 0:00:01\n",
      "   ---------------------------------- ----- 14.7/17.1 MB 3.9 MB/s eta 0:00:01\n",
      "   ---------------------------------- ----- 14.8/17.1 MB 3.8 MB/s eta 0:00:01\n",
      "   ----------------------------------- ---- 15.1/17.1 MB 3.9 MB/s eta 0:00:01\n",
      "   ----------------------------------- ---- 15.2/17.1 MB 3.9 MB/s eta 0:00:01\n",
      "   ----------------------------------- ---- 15.4/17.1 MB 3.9 MB/s eta 0:00:01\n",
      "   ------------------------------------ --- 15.5/17.1 MB 3.8 MB/s eta 0:00:01\n",
      "   ------------------------------------ --- 15.8/17.1 MB 3.9 MB/s eta 0:00:01\n",
      "   ------------------------------------- -- 15.9/17.1 MB 3.9 MB/s eta 0:00:01\n",
      "   ------------------------------------- -- 16.0/17.1 MB 3.9 MB/s eta 0:00:01\n",
      "   -------------------------------------- - 16.4/17.1 MB 3.9 MB/s eta 0:00:01\n",
      "   -------------------------------------- - 16.6/17.1 MB 3.9 MB/s eta 0:00:01\n",
      "   -------------------------------------- - 16.6/17.1 MB 3.9 MB/s eta 0:00:01\n",
      "   ---------------------------------------  16.8/17.1 MB 3.9 MB/s eta 0:00:01\n",
      "   ---------------------------------------  17.0/17.1 MB 3.9 MB/s eta 0:00:01\n",
      "   ---------------------------------------  17.1/17.1 MB 3.9 MB/s eta 0:00:01\n",
      "   ---------------------------------------  17.1/17.1 MB 3.9 MB/s eta 0:00:01\n",
      "   ---------------------------------------  17.1/17.1 MB 3.9 MB/s eta 0:00:01\n",
      "   ---------------------------------------- 17.1/17.1 MB 3.6 MB/s eta 0:00:00\n",
      "Downloading numpy-1.25.2-cp311-cp311-win_amd64.whl (15.5 MB)\n",
      "   ---------------------------------------- 0.0/15.5 MB ? eta -:--:--\n",
      "   -- ------------------------------------- 0.9/15.5 MB 28.7 MB/s eta 0:00:01\n",
      "   -- ------------------------------------- 1.0/15.5 MB 20.9 MB/s eta 0:00:01\n",
      "   --- ------------------------------------ 1.2/15.5 MB 9.7 MB/s eta 0:00:02\n",
      "   --- ------------------------------------ 1.4/15.5 MB 8.7 MB/s eta 0:00:02\n",
      "   ---- ----------------------------------- 1.6/15.5 MB 7.2 MB/s eta 0:00:02\n",
      "   ---- ----------------------------------- 1.8/15.5 MB 7.0 MB/s eta 0:00:02\n",
      "   ---- ----------------------------------- 1.9/15.5 MB 6.4 MB/s eta 0:00:03\n",
      "   ----- ---------------------------------- 2.1/15.5 MB 5.9 MB/s eta 0:00:03\n",
      "   ------ --------------------------------- 2.4/15.5 MB 5.8 MB/s eta 0:00:03\n",
      "   ------ --------------------------------- 2.5/15.5 MB 5.4 MB/s eta 0:00:03\n",
      "   ------ --------------------------------- 2.7/15.5 MB 5.4 MB/s eta 0:00:03\n",
      "   ------- -------------------------------- 2.9/15.5 MB 5.2 MB/s eta 0:00:03\n",
      "   ------- -------------------------------- 3.0/15.5 MB 5.1 MB/s eta 0:00:03\n",
      "   -------- ------------------------------- 3.1/15.5 MB 5.1 MB/s eta 0:00:03\n",
      "   -------- ------------------------------- 3.4/15.5 MB 5.0 MB/s eta 0:00:03\n",
      "   -------- ------------------------------- 3.5/15.5 MB 5.0 MB/s eta 0:00:03\n",
      "   --------- ------------------------------ 3.7/15.5 MB 4.9 MB/s eta 0:00:03\n",
      "   ---------- ----------------------------- 3.9/15.5 MB 4.8 MB/s eta 0:00:03\n",
      "   ---------- ----------------------------- 4.1/15.5 MB 4.7 MB/s eta 0:00:03\n",
      "   ----------- ---------------------------- 4.3/15.5 MB 4.6 MB/s eta 0:00:03\n",
      "   ----------- ---------------------------- 4.5/15.5 MB 4.6 MB/s eta 0:00:03\n",
      "   ----------- ---------------------------- 4.6/15.5 MB 4.7 MB/s eta 0:00:03\n",
      "   ------------ --------------------------- 4.8/15.5 MB 4.6 MB/s eta 0:00:03\n",
      "   ------------ --------------------------- 4.9/15.5 MB 4.6 MB/s eta 0:00:03\n",
      "   ------------- -------------------------- 5.1/15.5 MB 4.6 MB/s eta 0:00:03\n",
      "   ------------- -------------------------- 5.3/15.5 MB 4.5 MB/s eta 0:00:03\n",
      "   -------------- ------------------------- 5.5/15.5 MB 4.5 MB/s eta 0:00:03\n",
      "   -------------- ------------------------- 5.8/15.5 MB 4.4 MB/s eta 0:00:03\n",
      "   --------------- ------------------------ 5.9/15.5 MB 4.4 MB/s eta 0:00:03\n",
      "   --------------- ------------------------ 6.0/15.5 MB 4.4 MB/s eta 0:00:03\n",
      "   ---------------- ----------------------- 6.3/15.5 MB 4.4 MB/s eta 0:00:03\n",
      "   ---------------- ----------------------- 6.4/15.5 MB 4.3 MB/s eta 0:00:03\n",
      "   ----------------- ---------------------- 6.6/15.5 MB 4.3 MB/s eta 0:00:03\n",
      "   ----------------- ---------------------- 6.8/15.5 MB 4.3 MB/s eta 0:00:03\n",
      "   ----------------- ---------------------- 7.0/15.5 MB 4.3 MB/s eta 0:00:02\n",
      "   ------------------ --------------------- 7.1/15.5 MB 4.3 MB/s eta 0:00:02\n",
      "   ------------------ --------------------- 7.4/15.5 MB 4.3 MB/s eta 0:00:02\n",
      "   ------------------- -------------------- 7.6/15.5 MB 4.3 MB/s eta 0:00:02\n",
      "   ------------------- -------------------- 7.7/15.5 MB 4.3 MB/s eta 0:00:02\n",
      "   -------------------- ------------------- 7.9/15.5 MB 4.3 MB/s eta 0:00:02\n",
      "   -------------------- ------------------- 8.0/15.5 MB 4.2 MB/s eta 0:00:02\n",
      "   --------------------- ------------------ 8.3/15.5 MB 4.2 MB/s eta 0:00:02\n",
      "   --------------------- ------------------ 8.4/15.5 MB 4.2 MB/s eta 0:00:02\n",
      "   --------------------- ------------------ 8.5/15.5 MB 4.2 MB/s eta 0:00:02\n",
      "   ---------------------- ----------------- 8.7/15.5 MB 4.2 MB/s eta 0:00:02\n",
      "   ----------------------- ---------------- 9.0/15.5 MB 4.2 MB/s eta 0:00:02\n",
      "   ----------------------- ---------------- 9.1/15.5 MB 4.2 MB/s eta 0:00:02\n",
      "   ----------------------- ---------------- 9.3/15.5 MB 4.2 MB/s eta 0:00:02\n",
      "   ------------------------ --------------- 9.5/15.5 MB 4.2 MB/s eta 0:00:02\n",
      "   ------------------------- -------------- 9.7/15.5 MB 4.2 MB/s eta 0:00:02\n",
      "   ------------------------- -------------- 9.9/15.5 MB 4.2 MB/s eta 0:00:02\n",
      "   ------------------------- -------------- 10.1/15.5 MB 4.2 MB/s eta 0:00:02\n",
      "   -------------------------- ------------- 10.3/15.5 MB 4.2 MB/s eta 0:00:02\n",
      "   -------------------------- ------------- 10.4/15.5 MB 4.1 MB/s eta 0:00:02\n",
      "   --------------------------- ------------ 10.6/15.5 MB 4.0 MB/s eta 0:00:02\n",
      "   --------------------------- ------------ 10.7/15.5 MB 3.9 MB/s eta 0:00:02\n",
      "   --------------------------- ------------ 10.9/15.5 MB 4.0 MB/s eta 0:00:02\n",
      "   ---------------------------- ----------- 11.1/15.5 MB 3.9 MB/s eta 0:00:02\n",
      "   ----------------------------- ---------- 11.3/15.5 MB 3.9 MB/s eta 0:00:02\n",
      "   ----------------------------- ---------- 11.4/15.5 MB 3.9 MB/s eta 0:00:02\n",
      "   ----------------------------- ---------- 11.6/15.5 MB 3.9 MB/s eta 0:00:02\n",
      "   ------------------------------ --------- 11.8/15.5 MB 3.9 MB/s eta 0:00:01\n",
      "   ------------------------------ --------- 11.9/15.5 MB 3.8 MB/s eta 0:00:01\n",
      "   ------------------------------- -------- 12.2/15.5 MB 3.9 MB/s eta 0:00:01\n",
      "   ------------------------------- -------- 12.3/15.5 MB 3.9 MB/s eta 0:00:01\n",
      "   -------------------------------- ------- 12.5/15.5 MB 3.9 MB/s eta 0:00:01\n",
      "   -------------------------------- ------- 12.7/15.5 MB 3.9 MB/s eta 0:00:01\n",
      "   --------------------------------- ------ 13.0/15.5 MB 3.9 MB/s eta 0:00:01\n",
      "   --------------------------------- ------ 13.1/15.5 MB 3.9 MB/s eta 0:00:01\n",
      "   ---------------------------------- ----- 13.3/15.5 MB 3.9 MB/s eta 0:00:01\n",
      "   ---------------------------------- ----- 13.5/15.5 MB 3.9 MB/s eta 0:00:01\n",
      "   ----------------------------------- ---- 13.7/15.5 MB 3.9 MB/s eta 0:00:01\n",
      "   ----------------------------------- ---- 13.8/15.5 MB 3.9 MB/s eta 0:00:01\n",
      "   ----------------------------------- ---- 13.9/15.5 MB 3.9 MB/s eta 0:00:01\n",
      "   ------------------------------------ --- 14.2/15.5 MB 3.9 MB/s eta 0:00:01\n",
      "   ------------------------------------ --- 14.4/15.5 MB 3.9 MB/s eta 0:00:01\n",
      "   ------------------------------------- -- 14.5/15.5 MB 3.8 MB/s eta 0:00:01\n",
      "   ------------------------------------- -- 14.7/15.5 MB 3.9 MB/s eta 0:00:01\n",
      "   -------------------------------------- - 14.9/15.5 MB 3.9 MB/s eta 0:00:01\n",
      "   -------------------------------------- - 15.1/15.5 MB 3.9 MB/s eta 0:00:01\n",
      "   ---------------------------------------  15.2/15.5 MB 3.8 MB/s eta 0:00:01\n",
      "   ---------------------------------------  15.4/15.5 MB 3.9 MB/s eta 0:00:01\n",
      "   ---------------------------------------  15.5/15.5 MB 3.9 MB/s eta 0:00:01\n",
      "   ---------------------------------------- 15.5/15.5 MB 3.8 MB/s eta 0:00:00\n",
      "Downloading statsmodels-0.14.1-cp311-cp311-win_amd64.whl (9.9 MB)\n",
      "   ---------------------------------------- 0.0/9.9 MB ? eta -:--:--\n",
      "   -- ------------------------------------- 0.6/9.9 MB 19.2 MB/s eta 0:00:01\n",
      "   --- ------------------------------------ 0.8/9.9 MB 9.7 MB/s eta 0:00:01\n",
      "   ---- ----------------------------------- 1.0/9.9 MB 7.9 MB/s eta 0:00:02\n",
      "   ---- ----------------------------------- 1.1/9.9 MB 7.0 MB/s eta 0:00:02\n",
      "   ----- ---------------------------------- 1.3/9.9 MB 6.7 MB/s eta 0:00:02\n",
      "   ----- ---------------------------------- 1.4/9.9 MB 6.1 MB/s eta 0:00:02\n",
      "   ------ --------------------------------- 1.6/9.9 MB 5.7 MB/s eta 0:00:02\n",
      "   ------- -------------------------------- 1.9/9.9 MB 5.2 MB/s eta 0:00:02\n",
      "   -------- ------------------------------- 2.0/9.9 MB 5.1 MB/s eta 0:00:02\n",
      "   -------- ------------------------------- 2.2/9.9 MB 5.0 MB/s eta 0:00:02\n",
      "   --------- ------------------------------ 2.4/9.9 MB 4.8 MB/s eta 0:00:02\n",
      "   ---------- ----------------------------- 2.6/9.9 MB 4.6 MB/s eta 0:00:02\n",
      "   ----------- ---------------------------- 2.8/9.9 MB 4.6 MB/s eta 0:00:02\n",
      "   ------------ --------------------------- 3.0/9.9 MB 4.7 MB/s eta 0:00:02\n",
      "   ------------ --------------------------- 3.1/9.9 MB 4.5 MB/s eta 0:00:02\n",
      "   ------------ --------------------------- 3.2/9.9 MB 4.2 MB/s eta 0:00:02\n",
      "   ------------- -------------------------- 3.4/9.9 MB 4.5 MB/s eta 0:00:02\n",
      "   -------------- ------------------------- 3.6/9.9 MB 4.5 MB/s eta 0:00:02\n",
      "   --------------- ------------------------ 3.8/9.9 MB 4.3 MB/s eta 0:00:02\n",
      "   ---------------- ----------------------- 4.1/9.9 MB 4.4 MB/s eta 0:00:02\n",
      "   ----------------- ---------------------- 4.2/9.9 MB 4.3 MB/s eta 0:00:02\n",
      "   ----------------- ---------------------- 4.4/9.9 MB 4.3 MB/s eta 0:00:02\n",
      "   ------------------ --------------------- 4.5/9.9 MB 4.3 MB/s eta 0:00:02\n",
      "   ------------------ --------------------- 4.7/9.9 MB 4.3 MB/s eta 0:00:02\n",
      "   -------------------- ------------------- 5.0/9.9 MB 4.3 MB/s eta 0:00:02\n",
      "   --------------------- ------------------ 5.2/9.9 MB 4.2 MB/s eta 0:00:02\n",
      "   --------------------- ------------------ 5.3/9.9 MB 4.3 MB/s eta 0:00:02\n",
      "   ---------------------- ----------------- 5.4/9.9 MB 4.2 MB/s eta 0:00:02\n",
      "   ----------------------- ---------------- 5.7/9.9 MB 4.2 MB/s eta 0:00:01\n",
      "   ----------------------- ---------------- 5.9/9.9 MB 4.2 MB/s eta 0:00:01\n",
      "   ------------------------ --------------- 6.1/9.9 MB 4.2 MB/s eta 0:00:01\n",
      "   ------------------------- -------------- 6.2/9.9 MB 4.2 MB/s eta 0:00:01\n",
      "   ------------------------- -------------- 6.4/9.9 MB 4.2 MB/s eta 0:00:01\n",
      "   -------------------------- ------------- 6.6/9.9 MB 4.2 MB/s eta 0:00:01\n",
      "   --------------------------- ------------ 6.7/9.9 MB 4.2 MB/s eta 0:00:01\n",
      "   ---------------------------- ----------- 6.9/9.9 MB 4.1 MB/s eta 0:00:01\n",
      "   ----------------------------- ---------- 7.2/9.9 MB 4.2 MB/s eta 0:00:01\n",
      "   ----------------------------- ---------- 7.3/9.9 MB 4.1 MB/s eta 0:00:01\n",
      "   ------------------------------ --------- 7.5/9.9 MB 4.1 MB/s eta 0:00:01\n",
      "   ------------------------------- -------- 7.7/9.9 MB 4.1 MB/s eta 0:00:01\n",
      "   ------------------------------- -------- 7.8/9.9 MB 4.1 MB/s eta 0:00:01\n",
      "   -------------------------------- ------- 8.0/9.9 MB 4.1 MB/s eta 0:00:01\n",
      "   --------------------------------- ------ 8.2/9.9 MB 4.1 MB/s eta 0:00:01\n",
      "   --------------------------------- ------ 8.3/9.9 MB 4.1 MB/s eta 0:00:01\n",
      "   ---------------------------------- ----- 8.5/9.9 MB 4.1 MB/s eta 0:00:01\n",
      "   ----------------------------------- ---- 8.7/9.9 MB 4.1 MB/s eta 0:00:01\n",
      "   ----------------------------------- ---- 8.8/9.9 MB 4.1 MB/s eta 0:00:01\n",
      "   ------------------------------------ --- 9.0/9.9 MB 4.1 MB/s eta 0:00:01\n",
      "   ------------------------------------- -- 9.3/9.9 MB 4.1 MB/s eta 0:00:01\n",
      "   -------------------------------------- - 9.4/9.9 MB 4.1 MB/s eta 0:00:01\n",
      "   -------------------------------------- - 9.6/9.9 MB 4.1 MB/s eta 0:00:01\n",
      "   ---------------------------------------  9.8/9.9 MB 4.1 MB/s eta 0:00:01\n",
      "   ---------------------------------------  9.9/9.9 MB 4.0 MB/s eta 0:00:01\n",
      "   ---------------------------------------- 9.9/9.9 MB 3.9 MB/s eta 0:00:00\n",
      "Downloading tbats-1.1.3-py3-none-any.whl (44 kB)\n",
      "   ---------------------------------------- 0.0/44.0 kB ? eta -:--:--\n",
      "   ---------------------------------------- 44.0/44.0 kB ? eta 0:00:00\n",
      "Downloading tqdm-4.66.2-py3-none-any.whl (78 kB)\n",
      "   ---------------------------------------- 0.0/78.3 kB ? eta -:--:--\n",
      "   ---------------------------------------- 78.3/78.3 kB 4.3 MB/s eta 0:00:00\n",
      "Downloading cloudpickle-3.0.0-py3-none-any.whl (20 kB)\n",
      "Downloading xxhash-3.4.1-cp311-cp311-win_amd64.whl (29 kB)\n",
      "Downloading contourpy-1.2.0-cp311-cp311-win_amd64.whl (187 kB)\n",
      "   ---------------------------------------- 0.0/187.6 kB ? eta -:--:--\n",
      "   --------------------------------------- 187.6/187.6 kB 11.8 MB/s eta 0:00:00\n",
      "Using cached cycler-0.12.1-py3-none-any.whl (8.3 kB)\n",
      "Downloading Cython-3.0.8-cp311-cp311-win_amd64.whl (2.8 MB)\n",
      "   ---------------------------------------- 0.0/2.8 MB ? eta -:--:--\n",
      "   -------- ------------------------------- 0.6/2.8 MB 18.2 MB/s eta 0:00:01\n",
      "   -------------- ------------------------- 1.0/2.8 MB 16.4 MB/s eta 0:00:01\n",
      "   ----------------- ---------------------- 1.2/2.8 MB 11.0 MB/s eta 0:00:01\n",
      "   -------------------- ------------------- 1.4/2.8 MB 8.1 MB/s eta 0:00:01\n",
      "   ---------------------- ----------------- 1.5/2.8 MB 7.0 MB/s eta 0:00:01\n",
      "   ------------------------ --------------- 1.7/2.8 MB 6.9 MB/s eta 0:00:01\n",
      "   -------------------------- ------------- 1.9/2.8 MB 6.6 MB/s eta 0:00:01\n",
      "   ----------------------------- ---------- 2.1/2.8 MB 6.0 MB/s eta 0:00:01\n",
      "   --------------------------------- ------ 2.3/2.8 MB 5.7 MB/s eta 0:00:01\n",
      "   ----------------------------------- ---- 2.5/2.8 MB 5.6 MB/s eta 0:00:01\n",
      "   -------------------------------------- - 2.7/2.8 MB 5.5 MB/s eta 0:00:01\n",
      "   ---------------------------------------- 2.8/2.8 MB 5.1 MB/s eta 0:00:00\n",
      "Downloading dash-2.15.0-py3-none-any.whl (10.2 MB)\n",
      "   ---------------------------------------- 0.0/10.2 MB ? eta -:--:--\n",
      "    --------------------------------------- 0.2/10.2 MB 5.3 MB/s eta 0:00:02\n",
      "   -- ------------------------------------- 0.6/10.2 MB 8.8 MB/s eta 0:00:02\n",
      "   -- ------------------------------------- 0.7/10.2 MB 7.3 MB/s eta 0:00:02\n",
      "   --- ------------------------------------ 0.8/10.2 MB 6.3 MB/s eta 0:00:02\n",
      "   ---- ----------------------------------- 1.1/10.2 MB 4.9 MB/s eta 0:00:02\n",
      "   ---- ----------------------------------- 1.1/10.2 MB 4.9 MB/s eta 0:00:02\n",
      "   ---- ----------------------------------- 1.2/10.2 MB 3.9 MB/s eta 0:00:03\n",
      "   ---- ----------------------------------- 1.3/10.2 MB 3.5 MB/s eta 0:00:03\n",
      "   ----- ---------------------------------- 1.4/10.2 MB 3.3 MB/s eta 0:00:03\n",
      "   ----- ---------------------------------- 1.4/10.2 MB 3.3 MB/s eta 0:00:03\n",
      "   ------ --------------------------------- 1.7/10.2 MB 3.4 MB/s eta 0:00:03\n",
      "   -------- ------------------------------- 2.2/10.2 MB 4.2 MB/s eta 0:00:02\n",
      "   --------- ------------------------------ 2.5/10.2 MB 4.4 MB/s eta 0:00:02\n",
      "   ---------- ----------------------------- 2.7/10.2 MB 4.4 MB/s eta 0:00:02\n",
      "   ----------- ---------------------------- 2.9/10.2 MB 4.4 MB/s eta 0:00:02\n",
      "   ------------ --------------------------- 3.1/10.2 MB 4.3 MB/s eta 0:00:02\n",
      "   ------------- -------------------------- 3.3/10.2 MB 4.2 MB/s eta 0:00:02\n",
      "   ------------- -------------------------- 3.5/10.2 MB 4.3 MB/s eta 0:00:02\n",
      "   -------------- ------------------------- 3.7/10.2 MB 4.3 MB/s eta 0:00:02\n",
      "   --------------- ------------------------ 3.8/10.2 MB 4.2 MB/s eta 0:00:02\n",
      "   --------------- ------------------------ 4.0/10.2 MB 4.2 MB/s eta 0:00:02\n",
      "   ---------------- ----------------------- 4.2/10.2 MB 4.1 MB/s eta 0:00:02\n",
      "   ----------------- ---------------------- 4.4/10.2 MB 4.1 MB/s eta 0:00:02\n",
      "   ----------------- ---------------------- 4.5/10.2 MB 4.1 MB/s eta 0:00:02\n",
      "   ------------------ --------------------- 4.7/10.2 MB 4.2 MB/s eta 0:00:02\n",
      "   ------------------- -------------------- 5.0/10.2 MB 4.2 MB/s eta 0:00:02\n",
      "   ------------------- -------------------- 5.1/10.2 MB 4.1 MB/s eta 0:00:02\n",
      "   -------------------- ------------------- 5.3/10.2 MB 4.1 MB/s eta 0:00:02\n",
      "   --------------------- ------------------ 5.5/10.2 MB 4.1 MB/s eta 0:00:02\n",
      "   --------------------- ------------------ 5.6/10.2 MB 4.1 MB/s eta 0:00:02\n",
      "   ---------------------- ----------------- 5.7/10.2 MB 4.1 MB/s eta 0:00:02\n",
      "   ----------------------- ---------------- 6.0/10.2 MB 4.1 MB/s eta 0:00:02\n",
      "   ----------------------- ---------------- 6.1/10.2 MB 4.1 MB/s eta 0:00:02\n",
      "   ------------------------ --------------- 6.3/10.2 MB 4.0 MB/s eta 0:00:01\n",
      "   ------------------------- -------------- 6.5/10.2 MB 4.1 MB/s eta 0:00:01\n",
      "   -------------------------- ------------- 6.7/10.2 MB 4.0 MB/s eta 0:00:01\n",
      "   --------------------------- ------------ 6.9/10.2 MB 4.0 MB/s eta 0:00:01\n",
      "   --------------------------- ------------ 7.1/10.2 MB 4.1 MB/s eta 0:00:01\n",
      "   ---------------------------- ----------- 7.2/10.2 MB 4.0 MB/s eta 0:00:01\n",
      "   ----------------------------- ---------- 7.4/10.2 MB 4.0 MB/s eta 0:00:01\n",
      "   ----------------------------- ---------- 7.6/10.2 MB 4.0 MB/s eta 0:00:01\n",
      "   ------------------------------ --------- 7.9/10.2 MB 4.0 MB/s eta 0:00:01\n",
      "   ------------------------------ --------- 7.9/10.2 MB 4.0 MB/s eta 0:00:01\n",
      "   ------------------------------- -------- 8.1/10.2 MB 4.0 MB/s eta 0:00:01\n",
      "   -------------------------------- ------- 8.3/10.2 MB 4.0 MB/s eta 0:00:01\n",
      "   --------------------------------- ------ 8.5/10.2 MB 4.0 MB/s eta 0:00:01\n",
      "   --------------------------------- ------ 8.6/10.2 MB 4.0 MB/s eta 0:00:01\n",
      "   ---------------------------------- ----- 8.8/10.2 MB 4.0 MB/s eta 0:00:01\n",
      "   ----------------------------------- ---- 9.0/10.2 MB 4.0 MB/s eta 0:00:01\n",
      "   ------------------------------------ --- 9.2/10.2 MB 4.0 MB/s eta 0:00:01\n",
      "   ------------------------------------ --- 9.4/10.2 MB 4.0 MB/s eta 0:00:01\n",
      "   ------------------------------------- -- 9.5/10.2 MB 4.0 MB/s eta 0:00:01\n",
      "   -------------------------------------- - 9.8/10.2 MB 4.0 MB/s eta 0:00:01\n",
      "   -------------------------------------- - 9.9/10.2 MB 4.0 MB/s eta 0:00:01\n",
      "   ---------------------------------------  10.1/10.2 MB 4.0 MB/s eta 0:00:01\n",
      "   ---------------------------------------  10.2/10.2 MB 3.9 MB/s eta 0:00:01\n",
      "   ---------------------------------------- 10.2/10.2 MB 3.9 MB/s eta 0:00:00\n",
      "Downloading Deprecated-1.2.14-py2.py3-none-any.whl (9.6 kB)\n",
      "Downloading fonttools-4.49.0-cp311-cp311-win_amd64.whl (2.2 MB)\n",
      "   ---------------------------------------- 0.0/2.2 MB ? eta -:--:--\n",
      "   ---------- ----------------------------- 0.6/2.2 MB 17.5 MB/s eta 0:00:01\n",
      "   -------------- ------------------------- 0.8/2.2 MB 16.1 MB/s eta 0:00:01\n",
      "   ------------------- -------------------- 1.0/2.2 MB 8.3 MB/s eta 0:00:01\n",
      "   --------------------- ------------------ 1.2/2.2 MB 7.5 MB/s eta 0:00:01\n",
      "   ------------------------ --------------- 1.3/2.2 MB 7.0 MB/s eta 0:00:01\n",
      "   ---------------------------- ----------- 1.5/2.2 MB 6.1 MB/s eta 0:00:01\n",
      "   ------------------------------ --------- 1.7/2.2 MB 5.9 MB/s eta 0:00:01\n",
      "   ----------------------------------- ---- 1.9/2.2 MB 5.6 MB/s eta 0:00:01\n",
      "   ---------------------------------------  2.1/2.2 MB 5.2 MB/s eta 0:00:01\n",
      "   ---------------------------------------- 2.2/2.2 MB 5.0 MB/s eta 0:00:00\n",
      "Downloading kiwisolver-1.4.5-cp311-cp311-win_amd64.whl (56 kB)\n",
      "   ---------------------------------------- 0.0/56.1 kB ? eta -:--:--\n",
      "   ---------------------------------------- 56.1/56.1 kB 2.9 MB/s eta 0:00:00\n",
      "Downloading llvmlite-0.42.0-cp311-cp311-win_amd64.whl (28.1 MB)\n",
      "   ---------------------------------------- 0.0/28.1 MB ? eta -:--:--\n",
      "   ---------------------------------------- 0.3/28.1 MB 20.5 MB/s eta 0:00:02\n",
      "    --------------------------------------- 0.6/28.1 MB 13.5 MB/s eta 0:00:03\n",
      "   - -------------------------------------- 0.8/28.1 MB 8.7 MB/s eta 0:00:04\n",
      "   - -------------------------------------- 1.1/28.1 MB 6.8 MB/s eta 0:00:04\n",
      "   - -------------------------------------- 1.2/28.1 MB 6.5 MB/s eta 0:00:05\n",
      "   - -------------------------------------- 1.4/28.1 MB 5.9 MB/s eta 0:00:05\n",
      "   -- ------------------------------------- 1.6/28.1 MB 5.5 MB/s eta 0:00:05\n",
      "   -- ------------------------------------- 1.8/28.1 MB 5.0 MB/s eta 0:00:06\n",
      "   -- ------------------------------------- 2.0/28.1 MB 5.0 MB/s eta 0:00:06\n",
      "   --- ------------------------------------ 2.1/28.1 MB 4.7 MB/s eta 0:00:06\n",
      "   --- ------------------------------------ 2.3/28.1 MB 4.8 MB/s eta 0:00:06\n",
      "   --- ------------------------------------ 2.5/28.1 MB 4.8 MB/s eta 0:00:06\n",
      "   --- ------------------------------------ 2.7/28.1 MB 4.7 MB/s eta 0:00:06\n",
      "   ---- ----------------------------------- 2.8/28.1 MB 4.5 MB/s eta 0:00:06\n",
      "   ---- ----------------------------------- 3.0/28.1 MB 4.5 MB/s eta 0:00:06\n",
      "   ---- ----------------------------------- 3.2/28.1 MB 4.5 MB/s eta 0:00:06\n",
      "   ---- ----------------------------------- 3.5/28.1 MB 4.4 MB/s eta 0:00:06\n",
      "   ----- ---------------------------------- 3.6/28.1 MB 4.4 MB/s eta 0:00:06\n",
      "   ----- ---------------------------------- 3.8/28.1 MB 4.4 MB/s eta 0:00:06\n",
      "   ----- ---------------------------------- 4.0/28.1 MB 4.3 MB/s eta 0:00:06\n",
      "   ----- ---------------------------------- 4.2/28.1 MB 4.4 MB/s eta 0:00:06\n",
      "   ------ --------------------------------- 4.3/28.1 MB 4.3 MB/s eta 0:00:06\n",
      "   ------ --------------------------------- 4.5/28.1 MB 4.2 MB/s eta 0:00:06\n",
      "   ------ --------------------------------- 4.7/28.1 MB 4.3 MB/s eta 0:00:06\n",
      "   ------ --------------------------------- 4.8/28.1 MB 4.2 MB/s eta 0:00:06\n",
      "   ------- -------------------------------- 5.0/28.1 MB 4.2 MB/s eta 0:00:06\n",
      "   ------- -------------------------------- 5.1/28.1 MB 4.2 MB/s eta 0:00:06\n",
      "   ------- -------------------------------- 5.4/28.1 MB 4.2 MB/s eta 0:00:06\n",
      "   ------- -------------------------------- 5.5/28.1 MB 4.2 MB/s eta 0:00:06\n",
      "   -------- ------------------------------- 5.7/28.1 MB 4.2 MB/s eta 0:00:06\n",
      "   -------- ------------------------------- 5.9/28.1 MB 4.2 MB/s eta 0:00:06\n",
      "   -------- ------------------------------- 6.2/28.1 MB 4.2 MB/s eta 0:00:06\n",
      "   -------- ------------------------------- 6.3/28.1 MB 4.1 MB/s eta 0:00:06\n",
      "   --------- ------------------------------ 6.4/28.1 MB 4.1 MB/s eta 0:00:06\n",
      "   --------- ------------------------------ 6.7/28.1 MB 4.1 MB/s eta 0:00:06\n",
      "   --------- ------------------------------ 6.8/28.1 MB 4.1 MB/s eta 0:00:06\n",
      "   --------- ------------------------------ 7.0/28.1 MB 4.1 MB/s eta 0:00:06\n",
      "   ---------- ----------------------------- 7.1/28.1 MB 4.1 MB/s eta 0:00:06\n",
      "   ---------- ----------------------------- 7.3/28.1 MB 4.1 MB/s eta 0:00:06\n",
      "   ---------- ----------------------------- 7.6/28.1 MB 4.1 MB/s eta 0:00:05\n",
      "   ----------- ---------------------------- 7.8/28.1 MB 4.1 MB/s eta 0:00:05\n",
      "   ----------- ---------------------------- 7.9/28.1 MB 4.1 MB/s eta 0:00:05\n",
      "   ----------- ---------------------------- 8.1/28.1 MB 4.1 MB/s eta 0:00:05\n",
      "   ----------- ---------------------------- 8.3/28.1 MB 4.1 MB/s eta 0:00:05\n",
      "   ------------ --------------------------- 8.5/28.1 MB 4.1 MB/s eta 0:00:05\n",
      "   ------------ --------------------------- 8.6/28.1 MB 4.1 MB/s eta 0:00:05\n",
      "   ------------ --------------------------- 8.8/28.1 MB 4.0 MB/s eta 0:00:05\n",
      "   ------------ --------------------------- 8.9/28.1 MB 4.1 MB/s eta 0:00:05\n",
      "   ------------ --------------------------- 9.1/28.1 MB 4.1 MB/s eta 0:00:05\n",
      "   ------------- -------------------------- 9.3/28.1 MB 4.1 MB/s eta 0:00:05\n",
      "   ------------- -------------------------- 9.5/28.1 MB 4.1 MB/s eta 0:00:05\n",
      "   ------------- -------------------------- 9.7/28.1 MB 4.0 MB/s eta 0:00:05\n",
      "   -------------- ------------------------- 9.9/28.1 MB 4.0 MB/s eta 0:00:05\n",
      "   -------------- ------------------------- 10.1/28.1 MB 4.0 MB/s eta 0:00:05\n",
      "   -------------- ------------------------- 10.3/28.1 MB 4.0 MB/s eta 0:00:05\n",
      "   -------------- ------------------------- 10.5/28.1 MB 3.9 MB/s eta 0:00:05\n",
      "   --------------- ------------------------ 10.6/28.1 MB 3.9 MB/s eta 0:00:05\n",
      "   --------------- ------------------------ 10.7/28.1 MB 3.9 MB/s eta 0:00:05\n",
      "   --------------- ------------------------ 10.9/28.1 MB 3.9 MB/s eta 0:00:05\n",
      "   --------------- ------------------------ 11.1/28.1 MB 3.9 MB/s eta 0:00:05\n",
      "   ---------------- ----------------------- 11.3/28.1 MB 3.9 MB/s eta 0:00:05\n",
      "   ---------------- ----------------------- 11.5/28.1 MB 3.9 MB/s eta 0:00:05\n",
      "   ---------------- ----------------------- 11.6/28.1 MB 3.8 MB/s eta 0:00:05\n",
      "   ---------------- ----------------------- 11.8/28.1 MB 3.9 MB/s eta 0:00:05\n",
      "   ----------------- ---------------------- 12.1/28.1 MB 3.9 MB/s eta 0:00:05\n",
      "   ----------------- ---------------------- 12.2/28.1 MB 3.9 MB/s eta 0:00:05\n",
      "   ----------------- ---------------------- 12.3/28.1 MB 3.9 MB/s eta 0:00:05\n",
      "   ----------------- ---------------------- 12.6/28.1 MB 3.9 MB/s eta 0:00:04\n",
      "   ------------------ --------------------- 12.7/28.1 MB 3.9 MB/s eta 0:00:04\n",
      "   ------------------ --------------------- 13.0/28.1 MB 3.9 MB/s eta 0:00:04\n",
      "   ------------------ --------------------- 13.1/28.1 MB 3.9 MB/s eta 0:00:04\n",
      "   ------------------ --------------------- 13.2/28.1 MB 3.9 MB/s eta 0:00:04\n",
      "   ------------------- -------------------- 13.4/28.1 MB 3.9 MB/s eta 0:00:04\n",
      "   ------------------- -------------------- 13.6/28.1 MB 3.9 MB/s eta 0:00:04\n",
      "   ------------------- -------------------- 13.9/28.1 MB 3.9 MB/s eta 0:00:04\n",
      "   ------------------- -------------------- 14.0/28.1 MB 3.9 MB/s eta 0:00:04\n",
      "   -------------------- ------------------- 14.2/28.1 MB 3.9 MB/s eta 0:00:04\n",
      "   -------------------- ------------------- 14.4/28.1 MB 3.9 MB/s eta 0:00:04\n",
      "   -------------------- ------------------- 14.5/28.1 MB 3.9 MB/s eta 0:00:04\n",
      "   --------------------- ------------------ 14.8/28.1 MB 3.9 MB/s eta 0:00:04\n",
      "   --------------------- ------------------ 15.0/28.1 MB 3.9 MB/s eta 0:00:04\n",
      "   --------------------- ------------------ 15.1/28.1 MB 3.8 MB/s eta 0:00:04\n",
      "   --------------------- ------------------ 15.2/28.1 MB 3.9 MB/s eta 0:00:04\n",
      "   ---------------------- ----------------- 15.5/28.1 MB 3.9 MB/s eta 0:00:04\n",
      "   ---------------------- ----------------- 15.6/28.1 MB 3.9 MB/s eta 0:00:04\n",
      "   ---------------------- ----------------- 15.9/28.1 MB 3.9 MB/s eta 0:00:04\n",
      "   ---------------------- ----------------- 16.0/28.1 MB 3.9 MB/s eta 0:00:04\n",
      "   ----------------------- ---------------- 16.2/28.1 MB 3.9 MB/s eta 0:00:04\n",
      "   ----------------------- ---------------- 16.4/28.1 MB 3.9 MB/s eta 0:00:04\n",
      "   ----------------------- ---------------- 16.6/28.1 MB 3.9 MB/s eta 0:00:03\n",
      "   ----------------------- ---------------- 16.8/28.1 MB 3.9 MB/s eta 0:00:03\n",
      "   ------------------------ --------------- 17.0/28.1 MB 3.9 MB/s eta 0:00:03\n",
      "   ------------------------ --------------- 17.1/28.1 MB 3.9 MB/s eta 0:00:03\n",
      "   ------------------------ --------------- 17.3/28.1 MB 3.9 MB/s eta 0:00:03\n",
      "   ------------------------ --------------- 17.4/28.1 MB 3.9 MB/s eta 0:00:03\n",
      "   ------------------------- -------------- 17.7/28.1 MB 3.9 MB/s eta 0:00:03\n",
      "   ------------------------- -------------- 17.7/28.1 MB 3.9 MB/s eta 0:00:03\n",
      "   ------------------------- -------------- 18.0/28.1 MB 3.9 MB/s eta 0:00:03\n",
      "   ------------------------- -------------- 18.1/28.1 MB 3.9 MB/s eta 0:00:03\n",
      "   -------------------------- ------------- 18.4/28.1 MB 3.9 MB/s eta 0:00:03\n",
      "   -------------------------- ------------- 18.5/28.1 MB 3.8 MB/s eta 0:00:03\n",
      "   -------------------------- ------------- 18.7/28.1 MB 3.9 MB/s eta 0:00:03\n",
      "   -------------------------- ------------- 18.8/28.1 MB 3.9 MB/s eta 0:00:03\n",
      "   --------------------------- ------------ 19.0/28.1 MB 3.9 MB/s eta 0:00:03\n",
      "   --------------------------- ------------ 19.3/28.1 MB 3.9 MB/s eta 0:00:03\n",
      "   --------------------------- ------------ 19.5/28.1 MB 3.9 MB/s eta 0:00:03\n",
      "   --------------------------- ------------ 19.6/28.1 MB 3.9 MB/s eta 0:00:03\n",
      "   ---------------------------- ----------- 19.8/28.1 MB 3.9 MB/s eta 0:00:03\n",
      "   ---------------------------- ----------- 19.9/28.1 MB 3.9 MB/s eta 0:00:03\n",
      "   ---------------------------- ----------- 20.2/28.1 MB 3.9 MB/s eta 0:00:03\n",
      "   ---------------------------- ----------- 20.3/28.1 MB 3.9 MB/s eta 0:00:03\n",
      "   ----------------------------- ---------- 20.5/28.1 MB 3.9 MB/s eta 0:00:02\n",
      "   ----------------------------- ---------- 20.8/28.1 MB 3.9 MB/s eta 0:00:02\n",
      "   ----------------------------- ---------- 20.9/28.1 MB 3.9 MB/s eta 0:00:02\n",
      "   ----------------------------- ---------- 21.0/28.1 MB 3.9 MB/s eta 0:00:02\n",
      "   ------------------------------ --------- 21.1/28.1 MB 3.9 MB/s eta 0:00:02\n",
      "   ------------------------------ --------- 21.4/28.1 MB 3.9 MB/s eta 0:00:02\n",
      "   ------------------------------ --------- 21.6/28.1 MB 3.9 MB/s eta 0:00:02\n",
      "   ------------------------------ --------- 21.8/28.1 MB 3.9 MB/s eta 0:00:02\n",
      "   ------------------------------- -------- 21.9/28.1 MB 3.9 MB/s eta 0:00:02\n",
      "   ------------------------------- -------- 22.1/28.1 MB 3.9 MB/s eta 0:00:02\n",
      "   ------------------------------- -------- 22.2/28.1 MB 3.9 MB/s eta 0:00:02\n",
      "   ------------------------------- -------- 22.4/28.1 MB 3.9 MB/s eta 0:00:02\n",
      "   -------------------------------- ------- 22.7/28.1 MB 3.9 MB/s eta 0:00:02\n",
      "   -------------------------------- ------- 22.9/28.1 MB 3.9 MB/s eta 0:00:02\n",
      "   -------------------------------- ------- 23.0/28.1 MB 3.9 MB/s eta 0:00:02\n",
      "   -------------------------------- ------- 23.2/28.1 MB 3.9 MB/s eta 0:00:02\n",
      "   --------------------------------- ------ 23.3/28.1 MB 3.9 MB/s eta 0:00:02\n",
      "   --------------------------------- ------ 23.6/28.1 MB 3.9 MB/s eta 0:00:02\n",
      "   --------------------------------- ------ 23.7/28.1 MB 3.9 MB/s eta 0:00:02\n",
      "   ---------------------------------- ----- 24.0/28.1 MB 3.9 MB/s eta 0:00:02\n",
      "   ---------------------------------- ----- 24.1/28.1 MB 3.9 MB/s eta 0:00:02\n",
      "   ---------------------------------- ----- 24.3/28.1 MB 3.9 MB/s eta 0:00:01\n",
      "   ---------------------------------- ----- 24.5/28.1 MB 3.9 MB/s eta 0:00:01\n",
      "   ----------------------------------- ---- 24.7/28.1 MB 3.9 MB/s eta 0:00:01\n",
      "   ----------------------------------- ---- 24.9/28.1 MB 3.9 MB/s eta 0:00:01\n",
      "   ----------------------------------- ---- 25.0/28.1 MB 3.9 MB/s eta 0:00:01\n",
      "   ----------------------------------- ---- 25.2/28.1 MB 3.9 MB/s eta 0:00:01\n",
      "   ------------------------------------ --- 25.3/28.1 MB 3.9 MB/s eta 0:00:01\n",
      "   ------------------------------------ --- 25.5/28.1 MB 3.9 MB/s eta 0:00:01\n",
      "   ------------------------------------ --- 25.7/28.1 MB 3.9 MB/s eta 0:00:01\n",
      "   ------------------------------------ --- 25.9/28.1 MB 3.9 MB/s eta 0:00:01\n",
      "   ------------------------------------- -- 26.0/28.1 MB 3.9 MB/s eta 0:00:01\n",
      "   ------------------------------------- -- 26.3/28.1 MB 3.9 MB/s eta 0:00:01\n",
      "   ------------------------------------- -- 26.4/28.1 MB 3.9 MB/s eta 0:00:01\n",
      "   ------------------------------------- -- 26.6/28.1 MB 3.9 MB/s eta 0:00:01\n",
      "   -------------------------------------- - 26.8/28.1 MB 3.9 MB/s eta 0:00:01\n",
      "   -------------------------------------- - 27.0/28.1 MB 3.9 MB/s eta 0:00:01\n",
      "   -------------------------------------- - 27.2/28.1 MB 3.9 MB/s eta 0:00:01\n",
      "   -------------------------------------- - 27.3/28.1 MB 3.9 MB/s eta 0:00:01\n",
      "   ---------------------------------------  27.6/28.1 MB 3.9 MB/s eta 0:00:01\n",
      "   ---------------------------------------  27.8/28.1 MB 3.9 MB/s eta 0:00:01\n",
      "   ---------------------------------------  28.0/28.1 MB 3.9 MB/s eta 0:00:01\n",
      "   ---------------------------------------  28.1/28.1 MB 3.9 MB/s eta 0:00:01\n",
      "   ---------------------------------------  28.1/28.1 MB 3.9 MB/s eta 0:00:01\n",
      "   ---------------------------------------- 28.1/28.1 MB 3.7 MB/s eta 0:00:00\n",
      "Downloading orjson-3.9.14-cp311-none-win_amd64.whl (139 kB)\n",
      "   ---------------------------------------- 0.0/139.9 kB ? eta -:--:--\n",
      "   ---------------------------------------- 139.9/139.9 kB 8.6 MB/s eta 0:00:00\n",
      "Downloading patsy-0.5.6-py2.py3-none-any.whl (233 kB)\n",
      "   ---------------------------------------- 0.0/233.9 kB ? eta -:--:--\n",
      "   ---------------------------------------- 233.9/233.9 kB 4.8 MB/s eta 0:00:00\n",
      "Downloading pillow-10.2.0-cp311-cp311-win_amd64.whl (2.6 MB)\n",
      "   ---------------------------------------- 0.0/2.6 MB ? eta -:--:--\n",
      "   ------- -------------------------------- 0.5/2.6 MB 14.9 MB/s eta 0:00:01\n",
      "   ---------------- ----------------------- 1.1/2.6 MB 17.0 MB/s eta 0:00:01\n",
      "   ------------------- -------------------- 1.3/2.6 MB 11.5 MB/s eta 0:00:01\n",
      "   --------------------- ------------------ 1.4/2.6 MB 8.9 MB/s eta 0:00:01\n",
      "   ----------------------- ---------------- 1.6/2.6 MB 8.3 MB/s eta 0:00:01\n",
      "   -------------------------- ------------- 1.8/2.6 MB 7.4 MB/s eta 0:00:01\n",
      "   ---------------------------- ----------- 1.9/2.6 MB 6.7 MB/s eta 0:00:01\n",
      "   --------------------------------- ------ 2.2/2.6 MB 6.1 MB/s eta 0:00:01\n",
      "   ------------------------------------ --- 2.4/2.6 MB 6.0 MB/s eta 0:00:01\n",
      "   -------------------------------------- - 2.5/2.6 MB 5.8 MB/s eta 0:00:01\n",
      "   ---------------------------------------  2.6/2.6 MB 5.6 MB/s eta 0:00:01\n",
      "   ---------------------------------------- 2.6/2.6 MB 5.1 MB/s eta 0:00:00\n",
      "Using cached pyparsing-3.1.1-py3-none-any.whl (103 kB)\n",
      "Downloading pytz-2024.1-py2.py3-none-any.whl (505 kB)\n",
      "   ---------------------------------------- 0.0/505.5 kB ? eta -:--:--\n",
      "   --------------------------------------- 505.5/505.5 kB 15.5 MB/s eta 0:00:00\n",
      "Downloading scikit_base-0.5.2-py3-none-any.whl (118 kB)\n",
      "   ---------------------------------------- 0.0/119.0 kB ? eta -:--:--\n",
      "   ---------------------------------------- 119.0/119.0 kB ? eta 0:00:00\n",
      "Downloading tenacity-8.2.3-py3-none-any.whl (24 kB)\n",
      "Downloading threadpoolctl-3.3.0-py3-none-any.whl (17 kB)\n",
      "Using cached zipp-3.17.0-py3-none-any.whl (7.4 kB)\n",
      "Downloading flask-3.0.2-py3-none-any.whl (101 kB)\n",
      "   ---------------------------------------- 0.0/101.3 kB ? eta -:--:--\n",
      "   ---------------------------------------- 101.3/101.3 kB 5.7 MB/s eta 0:00:00\n",
      "Using cached typing_extensions-4.9.0-py3-none-any.whl (32 kB)\n",
      "Downloading werkzeug-3.0.1-py3-none-any.whl (226 kB)\n",
      "   ---------------------------------------- 0.0/226.7 kB ? eta -:--:--\n",
      "   ---------------------------------------- 226.7/226.7 kB 7.0 MB/s eta 0:00:00\n",
      "Downloading wrapt-1.16.0-cp311-cp311-win_amd64.whl (37 kB)\n",
      "Downloading blinker-1.7.0-py3-none-any.whl (13 kB)\n",
      "Using cached click-8.1.7-py3-none-any.whl (97 kB)\n",
      "Building wheels for collected packages: pyod\n",
      "  Building wheel for pyod (pyproject.toml): started\n",
      "  Building wheel for pyod (pyproject.toml): finished with status 'done'\n",
      "  Created wheel for pyod: filename=pyod-1.1.3-py3-none-any.whl size=190392 sha256=8a4b1a1d9da64f66d097270b2050aae035ae219e2851573362d23ef023ade80f\n",
      "  Stored in directory: c:\\users\\dell\\appdata\\local\\pip\\cache\\wheels\\86\\9b\\f4\\bf3eea6cbc128fd0e5f871486beb8b657486f343d7f6ecbde9\n",
      "Successfully built pyod\n",
      "Installing collected packages: pytz, kaleido, dash-table, dash-html-components, dash-core-components, zipp, xxhash, wrapt, Werkzeug, typing-extensions, tqdm, threadpoolctl, tenacity, scikit-base, schemdraw, retrying, pyparsing, pillow, orjson, numpy, llvmlite, kiwisolver, joblib, itsdangerous, fonttools, deprecation, Cython, cycler, cloudpickle, click, blinker, tsdownsample, scipy, plotly, patsy, pandas, numba, importlib-metadata, Flask, deprecated, contourpy, statsmodels, scikit-learn, matplotlib, lightgbm, dash, yellowbrick, sktime, scikit-plot, pyod, pmdarima, plotly-resampler, imbalanced-learn, category-encoders, tbats, pycaret\n",
      "Successfully installed Cython-3.0.8 Flask-3.0.2 Werkzeug-3.0.1 blinker-1.7.0 category-encoders-2.6.3 click-8.1.7 cloudpickle-3.0.0 contourpy-1.2.0 cycler-0.12.1 dash-2.15.0 dash-core-components-2.0.0 dash-html-components-2.0.0 dash-table-5.0.0 deprecated-1.2.14 deprecation-2.1.0 fonttools-4.49.0 imbalanced-learn-0.12.0 importlib-metadata-7.0.1 itsdangerous-2.1.2 joblib-1.3.2 kaleido-0.2.1 kiwisolver-1.4.5 lightgbm-4.3.0 llvmlite-0.42.0 matplotlib-3.6.0 numba-0.59.0 numpy-1.25.2 orjson-3.9.14 pandas-1.5.3 patsy-0.5.6 pillow-10.2.0 plotly-5.19.0 plotly-resampler-0.9.2 pmdarima-2.0.4 pycaret-3.2.0 pyod-1.1.3 pyparsing-3.1.1 pytz-2024.1 retrying-1.3.4 schemdraw-0.15 scikit-base-0.5.2 scikit-learn-1.2.2 scikit-plot-0.3.7 scipy-1.10.1 sktime-0.21.1 statsmodels-0.14.1 tbats-1.1.3 tenacity-8.2.3 threadpoolctl-3.3.0 tqdm-4.66.2 tsdownsample-0.1.2 typing-extensions-4.9.0 wrapt-1.16.0 xxhash-3.4.1 yellowbrick-1.5 zipp-3.17.0\n"
     ]
    }
   ],
   "source": [
    "!pip install pycaret"
   ]
  },
  {
   "cell_type": "code",
   "execution_count": 3,
   "id": "1707635a-0919-4c20-a164-9ad98cccd6cd",
   "metadata": {},
   "outputs": [
    {
     "data": {
      "text/plain": [
       "'3.2.0'"
      ]
     },
     "execution_count": 3,
     "metadata": {},
     "output_type": "execute_result"
    }
   ],
   "source": [
    "from pycaret.utils import version\n",
    "version()"
   ]
  },
  {
   "cell_type": "code",
   "execution_count": 4,
   "id": "4da98a79-4716-4253-bbeb-e7566b338708",
   "metadata": {},
   "outputs": [
    {
     "data": {
      "text/html": [
       "<div>\n",
       "<style scoped>\n",
       "    .dataframe tbody tr th:only-of-type {\n",
       "        vertical-align: middle;\n",
       "    }\n",
       "\n",
       "    .dataframe tbody tr th {\n",
       "        vertical-align: top;\n",
       "    }\n",
       "\n",
       "    .dataframe thead th {\n",
       "        text-align: right;\n",
       "    }\n",
       "</style>\n",
       "<table border=\"1\" class=\"dataframe\">\n",
       "  <thead>\n",
       "    <tr style=\"text-align: right;\">\n",
       "      <th></th>\n",
       "      <th>Dataset</th>\n",
       "      <th>Data Types</th>\n",
       "      <th>Default Task</th>\n",
       "      <th>Target Variable 1</th>\n",
       "      <th>Target Variable 2</th>\n",
       "      <th># Instances</th>\n",
       "      <th># Attributes</th>\n",
       "      <th>Missing Values</th>\n",
       "    </tr>\n",
       "  </thead>\n",
       "  <tbody>\n",
       "    <tr>\n",
       "      <th>0</th>\n",
       "      <td>anomaly</td>\n",
       "      <td>Multivariate</td>\n",
       "      <td>Anomaly Detection</td>\n",
       "      <td>None</td>\n",
       "      <td>None</td>\n",
       "      <td>1000</td>\n",
       "      <td>10</td>\n",
       "      <td>N</td>\n",
       "    </tr>\n",
       "    <tr>\n",
       "      <th>1</th>\n",
       "      <td>france</td>\n",
       "      <td>Multivariate</td>\n",
       "      <td>Association Rule Mining</td>\n",
       "      <td>InvoiceNo</td>\n",
       "      <td>Description</td>\n",
       "      <td>8557</td>\n",
       "      <td>8</td>\n",
       "      <td>N</td>\n",
       "    </tr>\n",
       "    <tr>\n",
       "      <th>2</th>\n",
       "      <td>germany</td>\n",
       "      <td>Multivariate</td>\n",
       "      <td>Association Rule Mining</td>\n",
       "      <td>InvoiceNo</td>\n",
       "      <td>Description</td>\n",
       "      <td>9495</td>\n",
       "      <td>8</td>\n",
       "      <td>N</td>\n",
       "    </tr>\n",
       "    <tr>\n",
       "      <th>3</th>\n",
       "      <td>bank</td>\n",
       "      <td>Multivariate</td>\n",
       "      <td>Classification (Binary)</td>\n",
       "      <td>deposit</td>\n",
       "      <td>None</td>\n",
       "      <td>45211</td>\n",
       "      <td>17</td>\n",
       "      <td>N</td>\n",
       "    </tr>\n",
       "    <tr>\n",
       "      <th>4</th>\n",
       "      <td>blood</td>\n",
       "      <td>Multivariate</td>\n",
       "      <td>Classification (Binary)</td>\n",
       "      <td>Class</td>\n",
       "      <td>None</td>\n",
       "      <td>748</td>\n",
       "      <td>5</td>\n",
       "      <td>N</td>\n",
       "    </tr>\n",
       "    <tr>\n",
       "      <th>5</th>\n",
       "      <td>cancer</td>\n",
       "      <td>Multivariate</td>\n",
       "      <td>Classification (Binary)</td>\n",
       "      <td>Class</td>\n",
       "      <td>None</td>\n",
       "      <td>683</td>\n",
       "      <td>10</td>\n",
       "      <td>N</td>\n",
       "    </tr>\n",
       "    <tr>\n",
       "      <th>6</th>\n",
       "      <td>credit</td>\n",
       "      <td>Multivariate</td>\n",
       "      <td>Classification (Binary)</td>\n",
       "      <td>default</td>\n",
       "      <td>None</td>\n",
       "      <td>24000</td>\n",
       "      <td>24</td>\n",
       "      <td>N</td>\n",
       "    </tr>\n",
       "    <tr>\n",
       "      <th>7</th>\n",
       "      <td>diabetes</td>\n",
       "      <td>Multivariate</td>\n",
       "      <td>Classification (Binary)</td>\n",
       "      <td>Class variable</td>\n",
       "      <td>None</td>\n",
       "      <td>768</td>\n",
       "      <td>9</td>\n",
       "      <td>N</td>\n",
       "    </tr>\n",
       "    <tr>\n",
       "      <th>8</th>\n",
       "      <td>electrical_grid</td>\n",
       "      <td>Multivariate</td>\n",
       "      <td>Classification (Binary)</td>\n",
       "      <td>stabf</td>\n",
       "      <td>None</td>\n",
       "      <td>10000</td>\n",
       "      <td>14</td>\n",
       "      <td>N</td>\n",
       "    </tr>\n",
       "    <tr>\n",
       "      <th>9</th>\n",
       "      <td>employee</td>\n",
       "      <td>Multivariate</td>\n",
       "      <td>Classification (Binary)</td>\n",
       "      <td>left</td>\n",
       "      <td>None</td>\n",
       "      <td>14999</td>\n",
       "      <td>10</td>\n",
       "      <td>N</td>\n",
       "    </tr>\n",
       "    <tr>\n",
       "      <th>10</th>\n",
       "      <td>heart</td>\n",
       "      <td>Multivariate</td>\n",
       "      <td>Classification (Binary)</td>\n",
       "      <td>DEATH</td>\n",
       "      <td>None</td>\n",
       "      <td>200</td>\n",
       "      <td>16</td>\n",
       "      <td>N</td>\n",
       "    </tr>\n",
       "    <tr>\n",
       "      <th>11</th>\n",
       "      <td>heart_disease</td>\n",
       "      <td>Multivariate</td>\n",
       "      <td>Classification (Binary)</td>\n",
       "      <td>Disease</td>\n",
       "      <td>None</td>\n",
       "      <td>270</td>\n",
       "      <td>14</td>\n",
       "      <td>N</td>\n",
       "    </tr>\n",
       "    <tr>\n",
       "      <th>12</th>\n",
       "      <td>hepatitis</td>\n",
       "      <td>Multivariate</td>\n",
       "      <td>Classification (Binary)</td>\n",
       "      <td>Class</td>\n",
       "      <td>None</td>\n",
       "      <td>154</td>\n",
       "      <td>32</td>\n",
       "      <td>Y</td>\n",
       "    </tr>\n",
       "    <tr>\n",
       "      <th>13</th>\n",
       "      <td>income</td>\n",
       "      <td>Multivariate</td>\n",
       "      <td>Classification (Binary)</td>\n",
       "      <td>income &gt;50K</td>\n",
       "      <td>None</td>\n",
       "      <td>32561</td>\n",
       "      <td>14</td>\n",
       "      <td>Y</td>\n",
       "    </tr>\n",
       "    <tr>\n",
       "      <th>14</th>\n",
       "      <td>juice</td>\n",
       "      <td>Multivariate</td>\n",
       "      <td>Classification (Binary)</td>\n",
       "      <td>Purchase</td>\n",
       "      <td>None</td>\n",
       "      <td>1070</td>\n",
       "      <td>15</td>\n",
       "      <td>N</td>\n",
       "    </tr>\n",
       "    <tr>\n",
       "      <th>15</th>\n",
       "      <td>nba</td>\n",
       "      <td>Multivariate</td>\n",
       "      <td>Classification (Binary)</td>\n",
       "      <td>TARGET_5Yrs</td>\n",
       "      <td>None</td>\n",
       "      <td>1340</td>\n",
       "      <td>21</td>\n",
       "      <td>N</td>\n",
       "    </tr>\n",
       "    <tr>\n",
       "      <th>16</th>\n",
       "      <td>wine</td>\n",
       "      <td>Multivariate</td>\n",
       "      <td>Classification (Binary)</td>\n",
       "      <td>type</td>\n",
       "      <td>None</td>\n",
       "      <td>6498</td>\n",
       "      <td>13</td>\n",
       "      <td>N</td>\n",
       "    </tr>\n",
       "    <tr>\n",
       "      <th>17</th>\n",
       "      <td>telescope</td>\n",
       "      <td>Multivariate</td>\n",
       "      <td>Classification (Binary)</td>\n",
       "      <td>Class</td>\n",
       "      <td>None</td>\n",
       "      <td>19020</td>\n",
       "      <td>11</td>\n",
       "      <td>N</td>\n",
       "    </tr>\n",
       "    <tr>\n",
       "      <th>18</th>\n",
       "      <td>titanic</td>\n",
       "      <td>Multivariate</td>\n",
       "      <td>Classification (Binary)</td>\n",
       "      <td>Survived</td>\n",
       "      <td>None</td>\n",
       "      <td>891</td>\n",
       "      <td>11</td>\n",
       "      <td>Y</td>\n",
       "    </tr>\n",
       "    <tr>\n",
       "      <th>19</th>\n",
       "      <td>us_presidential_election_results</td>\n",
       "      <td>Multivariate</td>\n",
       "      <td>Classification (Binary)</td>\n",
       "      <td>party_winner</td>\n",
       "      <td>None</td>\n",
       "      <td>497</td>\n",
       "      <td>7</td>\n",
       "      <td>N</td>\n",
       "    </tr>\n",
       "    <tr>\n",
       "      <th>20</th>\n",
       "      <td>glass</td>\n",
       "      <td>Multivariate</td>\n",
       "      <td>Classification (Multiclass)</td>\n",
       "      <td>Type</td>\n",
       "      <td>None</td>\n",
       "      <td>214</td>\n",
       "      <td>10</td>\n",
       "      <td>N</td>\n",
       "    </tr>\n",
       "    <tr>\n",
       "      <th>21</th>\n",
       "      <td>iris</td>\n",
       "      <td>Multivariate</td>\n",
       "      <td>Classification (Multiclass)</td>\n",
       "      <td>species</td>\n",
       "      <td>None</td>\n",
       "      <td>150</td>\n",
       "      <td>5</td>\n",
       "      <td>N</td>\n",
       "    </tr>\n",
       "    <tr>\n",
       "      <th>22</th>\n",
       "      <td>poker</td>\n",
       "      <td>Multivariate</td>\n",
       "      <td>Classification (Multiclass)</td>\n",
       "      <td>CLASS</td>\n",
       "      <td>None</td>\n",
       "      <td>100000</td>\n",
       "      <td>11</td>\n",
       "      <td>N</td>\n",
       "    </tr>\n",
       "    <tr>\n",
       "      <th>23</th>\n",
       "      <td>questions</td>\n",
       "      <td>Multivariate</td>\n",
       "      <td>Classification (Multiclass)</td>\n",
       "      <td>Next_Question</td>\n",
       "      <td>None</td>\n",
       "      <td>499</td>\n",
       "      <td>4</td>\n",
       "      <td>N</td>\n",
       "    </tr>\n",
       "    <tr>\n",
       "      <th>24</th>\n",
       "      <td>satellite</td>\n",
       "      <td>Multivariate</td>\n",
       "      <td>Classification (Multiclass)</td>\n",
       "      <td>Class</td>\n",
       "      <td>None</td>\n",
       "      <td>6435</td>\n",
       "      <td>37</td>\n",
       "      <td>N</td>\n",
       "    </tr>\n",
       "    <tr>\n",
       "      <th>25</th>\n",
       "      <td>CTG</td>\n",
       "      <td>Multivariate</td>\n",
       "      <td>Classification (Multiclass)</td>\n",
       "      <td>NSP</td>\n",
       "      <td>None</td>\n",
       "      <td>2129</td>\n",
       "      <td>40</td>\n",
       "      <td>Y</td>\n",
       "    </tr>\n",
       "    <tr>\n",
       "      <th>26</th>\n",
       "      <td>asia_gdp</td>\n",
       "      <td>Multivariate</td>\n",
       "      <td>Clustering</td>\n",
       "      <td>None</td>\n",
       "      <td>None</td>\n",
       "      <td>40</td>\n",
       "      <td>11</td>\n",
       "      <td>N</td>\n",
       "    </tr>\n",
       "    <tr>\n",
       "      <th>27</th>\n",
       "      <td>elections</td>\n",
       "      <td>Multivariate</td>\n",
       "      <td>Clustering</td>\n",
       "      <td>None</td>\n",
       "      <td>None</td>\n",
       "      <td>3195</td>\n",
       "      <td>54</td>\n",
       "      <td>Y</td>\n",
       "    </tr>\n",
       "    <tr>\n",
       "      <th>28</th>\n",
       "      <td>facebook</td>\n",
       "      <td>Multivariate</td>\n",
       "      <td>Clustering</td>\n",
       "      <td>None</td>\n",
       "      <td>None</td>\n",
       "      <td>7050</td>\n",
       "      <td>12</td>\n",
       "      <td>N</td>\n",
       "    </tr>\n",
       "    <tr>\n",
       "      <th>29</th>\n",
       "      <td>ipl</td>\n",
       "      <td>Multivariate</td>\n",
       "      <td>Clustering</td>\n",
       "      <td>None</td>\n",
       "      <td>None</td>\n",
       "      <td>153</td>\n",
       "      <td>25</td>\n",
       "      <td>N</td>\n",
       "    </tr>\n",
       "    <tr>\n",
       "      <th>30</th>\n",
       "      <td>jewellery</td>\n",
       "      <td>Multivariate</td>\n",
       "      <td>Clustering</td>\n",
       "      <td>None</td>\n",
       "      <td>None</td>\n",
       "      <td>505</td>\n",
       "      <td>4</td>\n",
       "      <td>N</td>\n",
       "    </tr>\n",
       "    <tr>\n",
       "      <th>31</th>\n",
       "      <td>mice</td>\n",
       "      <td>Multivariate</td>\n",
       "      <td>Clustering</td>\n",
       "      <td>None</td>\n",
       "      <td>None</td>\n",
       "      <td>1080</td>\n",
       "      <td>82</td>\n",
       "      <td>Y</td>\n",
       "    </tr>\n",
       "    <tr>\n",
       "      <th>32</th>\n",
       "      <td>migration</td>\n",
       "      <td>Multivariate</td>\n",
       "      <td>Clustering</td>\n",
       "      <td>None</td>\n",
       "      <td>None</td>\n",
       "      <td>233</td>\n",
       "      <td>12</td>\n",
       "      <td>N</td>\n",
       "    </tr>\n",
       "    <tr>\n",
       "      <th>33</th>\n",
       "      <td>perfume</td>\n",
       "      <td>Multivariate</td>\n",
       "      <td>Clustering</td>\n",
       "      <td>None</td>\n",
       "      <td>None</td>\n",
       "      <td>20</td>\n",
       "      <td>29</td>\n",
       "      <td>N</td>\n",
       "    </tr>\n",
       "    <tr>\n",
       "      <th>34</th>\n",
       "      <td>pokemon</td>\n",
       "      <td>Multivariate</td>\n",
       "      <td>Clustering</td>\n",
       "      <td>None</td>\n",
       "      <td>None</td>\n",
       "      <td>800</td>\n",
       "      <td>13</td>\n",
       "      <td>Y</td>\n",
       "    </tr>\n",
       "    <tr>\n",
       "      <th>35</th>\n",
       "      <td>population</td>\n",
       "      <td>Multivariate</td>\n",
       "      <td>Clustering</td>\n",
       "      <td>None</td>\n",
       "      <td>None</td>\n",
       "      <td>255</td>\n",
       "      <td>56</td>\n",
       "      <td>Y</td>\n",
       "    </tr>\n",
       "    <tr>\n",
       "      <th>36</th>\n",
       "      <td>public_health</td>\n",
       "      <td>Multivariate</td>\n",
       "      <td>Clustering</td>\n",
       "      <td>None</td>\n",
       "      <td>None</td>\n",
       "      <td>224</td>\n",
       "      <td>21</td>\n",
       "      <td>N</td>\n",
       "    </tr>\n",
       "    <tr>\n",
       "      <th>37</th>\n",
       "      <td>seeds</td>\n",
       "      <td>Multivariate</td>\n",
       "      <td>Clustering</td>\n",
       "      <td>None</td>\n",
       "      <td>None</td>\n",
       "      <td>210</td>\n",
       "      <td>7</td>\n",
       "      <td>N</td>\n",
       "    </tr>\n",
       "    <tr>\n",
       "      <th>38</th>\n",
       "      <td>wholesale</td>\n",
       "      <td>Multivariate</td>\n",
       "      <td>Clustering</td>\n",
       "      <td>None</td>\n",
       "      <td>None</td>\n",
       "      <td>440</td>\n",
       "      <td>8</td>\n",
       "      <td>N</td>\n",
       "    </tr>\n",
       "    <tr>\n",
       "      <th>39</th>\n",
       "      <td>tweets</td>\n",
       "      <td>Text</td>\n",
       "      <td>NLP</td>\n",
       "      <td>tweet</td>\n",
       "      <td>None</td>\n",
       "      <td>8594</td>\n",
       "      <td>2</td>\n",
       "      <td>N</td>\n",
       "    </tr>\n",
       "    <tr>\n",
       "      <th>40</th>\n",
       "      <td>amazon</td>\n",
       "      <td>Text</td>\n",
       "      <td>NLP / Classification</td>\n",
       "      <td>reviewText</td>\n",
       "      <td>None</td>\n",
       "      <td>20000</td>\n",
       "      <td>2</td>\n",
       "      <td>N</td>\n",
       "    </tr>\n",
       "    <tr>\n",
       "      <th>41</th>\n",
       "      <td>kiva</td>\n",
       "      <td>Text</td>\n",
       "      <td>NLP / Classification</td>\n",
       "      <td>en</td>\n",
       "      <td>None</td>\n",
       "      <td>6818</td>\n",
       "      <td>7</td>\n",
       "      <td>N</td>\n",
       "    </tr>\n",
       "    <tr>\n",
       "      <th>42</th>\n",
       "      <td>spx</td>\n",
       "      <td>Text</td>\n",
       "      <td>NLP / Regression</td>\n",
       "      <td>text</td>\n",
       "      <td>None</td>\n",
       "      <td>874</td>\n",
       "      <td>4</td>\n",
       "      <td>N</td>\n",
       "    </tr>\n",
       "    <tr>\n",
       "      <th>43</th>\n",
       "      <td>wikipedia</td>\n",
       "      <td>Text</td>\n",
       "      <td>NLP / Classification</td>\n",
       "      <td>Text</td>\n",
       "      <td>None</td>\n",
       "      <td>500</td>\n",
       "      <td>3</td>\n",
       "      <td>N</td>\n",
       "    </tr>\n",
       "    <tr>\n",
       "      <th>44</th>\n",
       "      <td>automobile</td>\n",
       "      <td>Multivariate</td>\n",
       "      <td>Regression</td>\n",
       "      <td>price</td>\n",
       "      <td>None</td>\n",
       "      <td>202</td>\n",
       "      <td>26</td>\n",
       "      <td>Y</td>\n",
       "    </tr>\n",
       "    <tr>\n",
       "      <th>45</th>\n",
       "      <td>bike</td>\n",
       "      <td>Multivariate</td>\n",
       "      <td>Regression</td>\n",
       "      <td>cnt</td>\n",
       "      <td>None</td>\n",
       "      <td>17379</td>\n",
       "      <td>15</td>\n",
       "      <td>N</td>\n",
       "    </tr>\n",
       "    <tr>\n",
       "      <th>46</th>\n",
       "      <td>boston</td>\n",
       "      <td>Multivariate</td>\n",
       "      <td>Regression</td>\n",
       "      <td>medv</td>\n",
       "      <td>None</td>\n",
       "      <td>506</td>\n",
       "      <td>14</td>\n",
       "      <td>N</td>\n",
       "    </tr>\n",
       "    <tr>\n",
       "      <th>47</th>\n",
       "      <td>concrete</td>\n",
       "      <td>Multivariate</td>\n",
       "      <td>Regression</td>\n",
       "      <td>strength</td>\n",
       "      <td>None</td>\n",
       "      <td>1030</td>\n",
       "      <td>9</td>\n",
       "      <td>N</td>\n",
       "    </tr>\n",
       "    <tr>\n",
       "      <th>48</th>\n",
       "      <td>diamond</td>\n",
       "      <td>Multivariate</td>\n",
       "      <td>Regression</td>\n",
       "      <td>Price</td>\n",
       "      <td>None</td>\n",
       "      <td>6000</td>\n",
       "      <td>8</td>\n",
       "      <td>N</td>\n",
       "    </tr>\n",
       "    <tr>\n",
       "      <th>49</th>\n",
       "      <td>energy</td>\n",
       "      <td>Multivariate</td>\n",
       "      <td>Regression</td>\n",
       "      <td>Heating Load</td>\n",
       "      <td>Cooling Load</td>\n",
       "      <td>768</td>\n",
       "      <td>10</td>\n",
       "      <td>N</td>\n",
       "    </tr>\n",
       "    <tr>\n",
       "      <th>50</th>\n",
       "      <td>forest</td>\n",
       "      <td>Multivariate</td>\n",
       "      <td>Regression</td>\n",
       "      <td>area</td>\n",
       "      <td>None</td>\n",
       "      <td>517</td>\n",
       "      <td>13</td>\n",
       "      <td>N</td>\n",
       "    </tr>\n",
       "    <tr>\n",
       "      <th>51</th>\n",
       "      <td>gold</td>\n",
       "      <td>Multivariate</td>\n",
       "      <td>Regression</td>\n",
       "      <td>Gold_T+22</td>\n",
       "      <td>None</td>\n",
       "      <td>2558</td>\n",
       "      <td>121</td>\n",
       "      <td>N</td>\n",
       "    </tr>\n",
       "    <tr>\n",
       "      <th>52</th>\n",
       "      <td>house</td>\n",
       "      <td>Multivariate</td>\n",
       "      <td>Regression</td>\n",
       "      <td>SalePrice</td>\n",
       "      <td>None</td>\n",
       "      <td>1461</td>\n",
       "      <td>81</td>\n",
       "      <td>Y</td>\n",
       "    </tr>\n",
       "    <tr>\n",
       "      <th>53</th>\n",
       "      <td>insurance</td>\n",
       "      <td>Multivariate</td>\n",
       "      <td>Regression</td>\n",
       "      <td>charges</td>\n",
       "      <td>None</td>\n",
       "      <td>1338</td>\n",
       "      <td>7</td>\n",
       "      <td>N</td>\n",
       "    </tr>\n",
       "    <tr>\n",
       "      <th>54</th>\n",
       "      <td>parkinsons</td>\n",
       "      <td>Multivariate</td>\n",
       "      <td>Regression</td>\n",
       "      <td>PPE</td>\n",
       "      <td>None</td>\n",
       "      <td>5875</td>\n",
       "      <td>22</td>\n",
       "      <td>N</td>\n",
       "    </tr>\n",
       "    <tr>\n",
       "      <th>55</th>\n",
       "      <td>traffic</td>\n",
       "      <td>Multivariate</td>\n",
       "      <td>Regression</td>\n",
       "      <td>traffic_volume</td>\n",
       "      <td>None</td>\n",
       "      <td>48204</td>\n",
       "      <td>8</td>\n",
       "      <td>N</td>\n",
       "    </tr>\n",
       "  </tbody>\n",
       "</table>\n",
       "</div>"
      ],
      "text/plain": [
       "                             Dataset    Data Types  \\\n",
       "0                            anomaly  Multivariate   \n",
       "1                             france  Multivariate   \n",
       "2                            germany  Multivariate   \n",
       "3                               bank  Multivariate   \n",
       "4                              blood  Multivariate   \n",
       "5                             cancer  Multivariate   \n",
       "6                             credit  Multivariate   \n",
       "7                           diabetes  Multivariate   \n",
       "8                    electrical_grid  Multivariate   \n",
       "9                           employee  Multivariate   \n",
       "10                             heart  Multivariate   \n",
       "11                     heart_disease  Multivariate   \n",
       "12                         hepatitis  Multivariate   \n",
       "13                            income  Multivariate   \n",
       "14                             juice  Multivariate   \n",
       "15                               nba  Multivariate   \n",
       "16                              wine  Multivariate   \n",
       "17                         telescope  Multivariate   \n",
       "18                           titanic  Multivariate   \n",
       "19  us_presidential_election_results  Multivariate   \n",
       "20                             glass  Multivariate   \n",
       "21                              iris  Multivariate   \n",
       "22                             poker  Multivariate   \n",
       "23                         questions  Multivariate   \n",
       "24                         satellite  Multivariate   \n",
       "25                               CTG  Multivariate   \n",
       "26                          asia_gdp  Multivariate   \n",
       "27                         elections  Multivariate   \n",
       "28                          facebook  Multivariate   \n",
       "29                               ipl  Multivariate   \n",
       "30                         jewellery  Multivariate   \n",
       "31                              mice  Multivariate   \n",
       "32                         migration  Multivariate   \n",
       "33                           perfume  Multivariate   \n",
       "34                           pokemon  Multivariate   \n",
       "35                        population  Multivariate   \n",
       "36                     public_health  Multivariate   \n",
       "37                             seeds  Multivariate   \n",
       "38                         wholesale  Multivariate   \n",
       "39                            tweets          Text   \n",
       "40                            amazon          Text   \n",
       "41                              kiva          Text   \n",
       "42                               spx          Text   \n",
       "43                         wikipedia          Text   \n",
       "44                        automobile  Multivariate   \n",
       "45                              bike  Multivariate   \n",
       "46                            boston  Multivariate   \n",
       "47                          concrete  Multivariate   \n",
       "48                           diamond  Multivariate   \n",
       "49                            energy  Multivariate   \n",
       "50                            forest  Multivariate   \n",
       "51                              gold  Multivariate   \n",
       "52                             house  Multivariate   \n",
       "53                         insurance  Multivariate   \n",
       "54                        parkinsons  Multivariate   \n",
       "55                           traffic  Multivariate   \n",
       "\n",
       "                   Default Task Target Variable 1 Target Variable 2  \\\n",
       "0             Anomaly Detection              None              None   \n",
       "1       Association Rule Mining         InvoiceNo       Description   \n",
       "2       Association Rule Mining         InvoiceNo       Description   \n",
       "3       Classification (Binary)           deposit              None   \n",
       "4       Classification (Binary)             Class              None   \n",
       "5       Classification (Binary)             Class              None   \n",
       "6       Classification (Binary)           default              None   \n",
       "7       Classification (Binary)    Class variable              None   \n",
       "8       Classification (Binary)             stabf              None   \n",
       "9       Classification (Binary)              left              None   \n",
       "10      Classification (Binary)             DEATH              None   \n",
       "11      Classification (Binary)           Disease              None   \n",
       "12      Classification (Binary)             Class              None   \n",
       "13      Classification (Binary)       income >50K              None   \n",
       "14      Classification (Binary)          Purchase              None   \n",
       "15      Classification (Binary)       TARGET_5Yrs              None   \n",
       "16      Classification (Binary)              type              None   \n",
       "17      Classification (Binary)             Class              None   \n",
       "18      Classification (Binary)          Survived              None   \n",
       "19      Classification (Binary)      party_winner              None   \n",
       "20  Classification (Multiclass)              Type              None   \n",
       "21  Classification (Multiclass)           species              None   \n",
       "22  Classification (Multiclass)             CLASS              None   \n",
       "23  Classification (Multiclass)     Next_Question              None   \n",
       "24  Classification (Multiclass)             Class              None   \n",
       "25  Classification (Multiclass)               NSP              None   \n",
       "26                   Clustering              None              None   \n",
       "27                   Clustering              None              None   \n",
       "28                   Clustering              None              None   \n",
       "29                   Clustering              None              None   \n",
       "30                   Clustering              None              None   \n",
       "31                   Clustering              None              None   \n",
       "32                   Clustering              None              None   \n",
       "33                   Clustering              None              None   \n",
       "34                   Clustering              None              None   \n",
       "35                   Clustering              None              None   \n",
       "36                   Clustering              None              None   \n",
       "37                   Clustering              None              None   \n",
       "38                   Clustering              None              None   \n",
       "39                          NLP             tweet              None   \n",
       "40         NLP / Classification        reviewText              None   \n",
       "41         NLP / Classification                en              None   \n",
       "42             NLP / Regression              text              None   \n",
       "43         NLP / Classification              Text              None   \n",
       "44                   Regression             price              None   \n",
       "45                   Regression               cnt              None   \n",
       "46                   Regression              medv              None   \n",
       "47                   Regression          strength              None   \n",
       "48                   Regression             Price              None   \n",
       "49                   Regression      Heating Load      Cooling Load   \n",
       "50                   Regression              area              None   \n",
       "51                   Regression         Gold_T+22              None   \n",
       "52                   Regression         SalePrice              None   \n",
       "53                   Regression           charges              None   \n",
       "54                   Regression               PPE              None   \n",
       "55                   Regression    traffic_volume              None   \n",
       "\n",
       "    # Instances  # Attributes Missing Values  \n",
       "0          1000            10              N  \n",
       "1          8557             8              N  \n",
       "2          9495             8              N  \n",
       "3         45211            17              N  \n",
       "4           748             5              N  \n",
       "5           683            10              N  \n",
       "6         24000            24              N  \n",
       "7           768             9              N  \n",
       "8         10000            14              N  \n",
       "9         14999            10              N  \n",
       "10          200            16              N  \n",
       "11          270            14              N  \n",
       "12          154            32              Y  \n",
       "13        32561            14              Y  \n",
       "14         1070            15              N  \n",
       "15         1340            21              N  \n",
       "16         6498            13              N  \n",
       "17        19020            11              N  \n",
       "18          891            11              Y  \n",
       "19          497             7              N  \n",
       "20          214            10              N  \n",
       "21          150             5              N  \n",
       "22       100000            11              N  \n",
       "23          499             4              N  \n",
       "24         6435            37              N  \n",
       "25         2129            40              Y  \n",
       "26           40            11              N  \n",
       "27         3195            54              Y  \n",
       "28         7050            12              N  \n",
       "29          153            25              N  \n",
       "30          505             4              N  \n",
       "31         1080            82              Y  \n",
       "32          233            12              N  \n",
       "33           20            29              N  \n",
       "34          800            13              Y  \n",
       "35          255            56              Y  \n",
       "36          224            21              N  \n",
       "37          210             7              N  \n",
       "38          440             8              N  \n",
       "39         8594             2              N  \n",
       "40        20000             2              N  \n",
       "41         6818             7              N  \n",
       "42          874             4              N  \n",
       "43          500             3              N  \n",
       "44          202            26              Y  \n",
       "45        17379            15              N  \n",
       "46          506            14              N  \n",
       "47         1030             9              N  \n",
       "48         6000             8              N  \n",
       "49          768            10              N  \n",
       "50          517            13              N  \n",
       "51         2558           121              N  \n",
       "52         1461            81              Y  \n",
       "53         1338             7              N  \n",
       "54         5875            22              N  \n",
       "55        48204             8              N  "
      ]
     },
     "metadata": {},
     "output_type": "display_data"
    }
   ],
   "source": [
    "from pycaret.datasets import get_data\n",
    "dataSets = get_data('index')"
   ]
  },
  {
   "cell_type": "code",
   "execution_count": 5,
   "id": "df80240b-3958-4d28-8f40-5263d7bc962a",
   "metadata": {},
   "outputs": [
    {
     "data": {
      "text/html": [
       "<div>\n",
       "<style scoped>\n",
       "    .dataframe tbody tr th:only-of-type {\n",
       "        vertical-align: middle;\n",
       "    }\n",
       "\n",
       "    .dataframe tbody tr th {\n",
       "        vertical-align: top;\n",
       "    }\n",
       "\n",
       "    .dataframe thead th {\n",
       "        text-align: right;\n",
       "    }\n",
       "</style>\n",
       "<table border=\"1\" class=\"dataframe\">\n",
       "  <thead>\n",
       "    <tr style=\"text-align: right;\">\n",
       "      <th></th>\n",
       "      <th>Country Name</th>\n",
       "      <th>1961</th>\n",
       "      <th>1962</th>\n",
       "      <th>1963</th>\n",
       "      <th>1964</th>\n",
       "      <th>1965</th>\n",
       "      <th>1966</th>\n",
       "      <th>1967</th>\n",
       "      <th>1968</th>\n",
       "      <th>1969</th>\n",
       "      <th>...</th>\n",
       "      <th>2006</th>\n",
       "      <th>2007</th>\n",
       "      <th>2008</th>\n",
       "      <th>2009</th>\n",
       "      <th>2010</th>\n",
       "      <th>2011</th>\n",
       "      <th>2012</th>\n",
       "      <th>2013</th>\n",
       "      <th>2014</th>\n",
       "      <th>2015</th>\n",
       "    </tr>\n",
       "  </thead>\n",
       "  <tbody>\n",
       "    <tr>\n",
       "      <th>0</th>\n",
       "      <td>Arab World</td>\n",
       "      <td>2.741996</td>\n",
       "      <td>2.769515</td>\n",
       "      <td>2.792110</td>\n",
       "      <td>2.811906</td>\n",
       "      <td>2.828133</td>\n",
       "      <td>2.850383</td>\n",
       "      <td>2.867694</td>\n",
       "      <td>2.861356</td>\n",
       "      <td>2.826982</td>\n",
       "      <td>...</td>\n",
       "      <td>2.385159</td>\n",
       "      <td>2.449255</td>\n",
       "      <td>2.469810</td>\n",
       "      <td>2.424469</td>\n",
       "      <td>2.335303</td>\n",
       "      <td>2.242795</td>\n",
       "      <td>2.152384</td>\n",
       "      <td>2.088283</td>\n",
       "      <td>2.050000</td>\n",
       "      <td>2.029991</td>\n",
       "    </tr>\n",
       "    <tr>\n",
       "      <th>1</th>\n",
       "      <td>Caribbean small states</td>\n",
       "      <td>1.911755</td>\n",
       "      <td>1.931196</td>\n",
       "      <td>1.893275</td>\n",
       "      <td>1.771980</td>\n",
       "      <td>1.605163</td>\n",
       "      <td>1.448561</td>\n",
       "      <td>1.298573</td>\n",
       "      <td>1.196177</td>\n",
       "      <td>1.164617</td>\n",
       "      <td>...</td>\n",
       "      <td>0.607070</td>\n",
       "      <td>0.633955</td>\n",
       "      <td>0.649817</td>\n",
       "      <td>0.649227</td>\n",
       "      <td>0.636539</td>\n",
       "      <td>0.614597</td>\n",
       "      <td>0.585947</td>\n",
       "      <td>0.557091</td>\n",
       "      <td>0.531885</td>\n",
       "      <td>0.514897</td>\n",
       "    </tr>\n",
       "    <tr>\n",
       "      <th>2</th>\n",
       "      <td>Central Europe and the Baltics</td>\n",
       "      <td>0.914136</td>\n",
       "      <td>0.843231</td>\n",
       "      <td>0.893254</td>\n",
       "      <td>0.934352</td>\n",
       "      <td>0.764829</td>\n",
       "      <td>0.735036</td>\n",
       "      <td>0.930801</td>\n",
       "      <td>0.864361</td>\n",
       "      <td>0.735317</td>\n",
       "      <td>...</td>\n",
       "      <td>-0.240341</td>\n",
       "      <td>-0.466785</td>\n",
       "      <td>-0.358132</td>\n",
       "      <td>-0.192448</td>\n",
       "      <td>-0.362710</td>\n",
       "      <td>-0.353692</td>\n",
       "      <td>-0.229155</td>\n",
       "      <td>-0.213202</td>\n",
       "      <td>-0.209757</td>\n",
       "      <td>-0.171544</td>\n",
       "    </tr>\n",
       "    <tr>\n",
       "      <th>3</th>\n",
       "      <td>Early-demographic dividend</td>\n",
       "      <td>2.378681</td>\n",
       "      <td>2.399318</td>\n",
       "      <td>2.411945</td>\n",
       "      <td>2.425629</td>\n",
       "      <td>2.435707</td>\n",
       "      <td>2.442855</td>\n",
       "      <td>2.455314</td>\n",
       "      <td>2.457393</td>\n",
       "      <td>2.465558</td>\n",
       "      <td>...</td>\n",
       "      <td>1.596281</td>\n",
       "      <td>1.576339</td>\n",
       "      <td>1.557348</td>\n",
       "      <td>1.538742</td>\n",
       "      <td>1.528734</td>\n",
       "      <td>1.507963</td>\n",
       "      <td>1.476112</td>\n",
       "      <td>1.457399</td>\n",
       "      <td>1.438927</td>\n",
       "      <td>1.419336</td>\n",
       "    </tr>\n",
       "    <tr>\n",
       "      <th>4</th>\n",
       "      <td>East Asia &amp; Pacific</td>\n",
       "      <td>0.317912</td>\n",
       "      <td>1.356230</td>\n",
       "      <td>2.403411</td>\n",
       "      <td>2.313426</td>\n",
       "      <td>2.356414</td>\n",
       "      <td>2.604640</td>\n",
       "      <td>2.458242</td>\n",
       "      <td>2.434869</td>\n",
       "      <td>2.665623</td>\n",
       "      <td>...</td>\n",
       "      <td>0.726182</td>\n",
       "      <td>0.687229</td>\n",
       "      <td>0.689983</td>\n",
       "      <td>0.667171</td>\n",
       "      <td>0.658738</td>\n",
       "      <td>0.657531</td>\n",
       "      <td>0.668169</td>\n",
       "      <td>0.670721</td>\n",
       "      <td>0.673393</td>\n",
       "      <td>0.667919</td>\n",
       "    </tr>\n",
       "  </tbody>\n",
       "</table>\n",
       "<p>5 rows × 56 columns</p>\n",
       "</div>"
      ],
      "text/plain": [
       "                     Country Name      1961      1962      1963      1964  \\\n",
       "0                      Arab World  2.741996  2.769515  2.792110  2.811906   \n",
       "1          Caribbean small states  1.911755  1.931196  1.893275  1.771980   \n",
       "2  Central Europe and the Baltics  0.914136  0.843231  0.893254  0.934352   \n",
       "3      Early-demographic dividend  2.378681  2.399318  2.411945  2.425629   \n",
       "4             East Asia & Pacific  0.317912  1.356230  2.403411  2.313426   \n",
       "\n",
       "       1965      1966      1967      1968      1969  ...      2006      2007  \\\n",
       "0  2.828133  2.850383  2.867694  2.861356  2.826982  ...  2.385159  2.449255   \n",
       "1  1.605163  1.448561  1.298573  1.196177  1.164617  ...  0.607070  0.633955   \n",
       "2  0.764829  0.735036  0.930801  0.864361  0.735317  ... -0.240341 -0.466785   \n",
       "3  2.435707  2.442855  2.455314  2.457393  2.465558  ...  1.596281  1.576339   \n",
       "4  2.356414  2.604640  2.458242  2.434869  2.665623  ...  0.726182  0.687229   \n",
       "\n",
       "       2008      2009      2010      2011      2012      2013      2014  \\\n",
       "0  2.469810  2.424469  2.335303  2.242795  2.152384  2.088283  2.050000   \n",
       "1  0.649817  0.649227  0.636539  0.614597  0.585947  0.557091  0.531885   \n",
       "2 -0.358132 -0.192448 -0.362710 -0.353692 -0.229155 -0.213202 -0.209757   \n",
       "3  1.557348  1.538742  1.528734  1.507963  1.476112  1.457399  1.438927   \n",
       "4  0.689983  0.667171  0.658738  0.657531  0.668169  0.670721  0.673393   \n",
       "\n",
       "       2015  \n",
       "0  2.029991  \n",
       "1  0.514897  \n",
       "2 -0.171544  \n",
       "3  1.419336  \n",
       "4  0.667919  \n",
       "\n",
       "[5 rows x 56 columns]"
      ]
     },
     "metadata": {},
     "output_type": "display_data"
    }
   ],
   "source": [
    "population = get_data(\"population\")"
   ]
  },
  {
   "cell_type": "markdown",
   "id": "acd29566-1a6b-4fd6-9080-37744e114a69",
   "metadata": {},
   "source": [
    "## Here we will be working with in-built Population Dataset of pycaret"
   ]
  },
  {
   "cell_type": "code",
   "execution_count": 6,
   "id": "f6c4f233-5191-47fe-b7d3-97fb52b13a66",
   "metadata": {},
   "outputs": [
    {
     "data": {
      "text/html": [
       "<style type=\"text/css\">\n",
       "#T_112c6_row6_col1 {\n",
       "  background-color: lightgreen;\n",
       "}\n",
       "</style>\n",
       "<table id=\"T_112c6\">\n",
       "  <thead>\n",
       "    <tr>\n",
       "      <th class=\"blank level0\" >&nbsp;</th>\n",
       "      <th id=\"T_112c6_level0_col0\" class=\"col_heading level0 col0\" >Description</th>\n",
       "      <th id=\"T_112c6_level0_col1\" class=\"col_heading level0 col1\" >Value</th>\n",
       "    </tr>\n",
       "  </thead>\n",
       "  <tbody>\n",
       "    <tr>\n",
       "      <th id=\"T_112c6_level0_row0\" class=\"row_heading level0 row0\" >0</th>\n",
       "      <td id=\"T_112c6_row0_col0\" class=\"data row0 col0\" >Session id</td>\n",
       "      <td id=\"T_112c6_row0_col1\" class=\"data row0 col1\" >5530</td>\n",
       "    </tr>\n",
       "    <tr>\n",
       "      <th id=\"T_112c6_level0_row1\" class=\"row_heading level0 row1\" >1</th>\n",
       "      <td id=\"T_112c6_row1_col0\" class=\"data row1 col0\" >Original data shape</td>\n",
       "      <td id=\"T_112c6_row1_col1\" class=\"data row1 col1\" >(255, 56)</td>\n",
       "    </tr>\n",
       "    <tr>\n",
       "      <th id=\"T_112c6_level0_row2\" class=\"row_heading level0 row2\" >2</th>\n",
       "      <td id=\"T_112c6_row2_col0\" class=\"data row2 col0\" >Transformed data shape</td>\n",
       "      <td id=\"T_112c6_row2_col1\" class=\"data row2 col1\" >(255, 310)</td>\n",
       "    </tr>\n",
       "    <tr>\n",
       "      <th id=\"T_112c6_level0_row3\" class=\"row_heading level0 row3\" >3</th>\n",
       "      <td id=\"T_112c6_row3_col0\" class=\"data row3 col0\" >Numeric features</td>\n",
       "      <td id=\"T_112c6_row3_col1\" class=\"data row3 col1\" >55</td>\n",
       "    </tr>\n",
       "    <tr>\n",
       "      <th id=\"T_112c6_level0_row4\" class=\"row_heading level0 row4\" >4</th>\n",
       "      <td id=\"T_112c6_row4_col0\" class=\"data row4 col0\" >Categorical features</td>\n",
       "      <td id=\"T_112c6_row4_col1\" class=\"data row4 col1\" >1</td>\n",
       "    </tr>\n",
       "    <tr>\n",
       "      <th id=\"T_112c6_level0_row5\" class=\"row_heading level0 row5\" >5</th>\n",
       "      <td id=\"T_112c6_row5_col0\" class=\"data row5 col0\" >Rows with missing values</td>\n",
       "      <td id=\"T_112c6_row5_col1\" class=\"data row5 col1\" >2.4%</td>\n",
       "    </tr>\n",
       "    <tr>\n",
       "      <th id=\"T_112c6_level0_row6\" class=\"row_heading level0 row6\" >6</th>\n",
       "      <td id=\"T_112c6_row6_col0\" class=\"data row6 col0\" >Preprocess</td>\n",
       "      <td id=\"T_112c6_row6_col1\" class=\"data row6 col1\" >True</td>\n",
       "    </tr>\n",
       "    <tr>\n",
       "      <th id=\"T_112c6_level0_row7\" class=\"row_heading level0 row7\" >7</th>\n",
       "      <td id=\"T_112c6_row7_col0\" class=\"data row7 col0\" >Imputation type</td>\n",
       "      <td id=\"T_112c6_row7_col1\" class=\"data row7 col1\" >simple</td>\n",
       "    </tr>\n",
       "    <tr>\n",
       "      <th id=\"T_112c6_level0_row8\" class=\"row_heading level0 row8\" >8</th>\n",
       "      <td id=\"T_112c6_row8_col0\" class=\"data row8 col0\" >Numeric imputation</td>\n",
       "      <td id=\"T_112c6_row8_col1\" class=\"data row8 col1\" >mean</td>\n",
       "    </tr>\n",
       "    <tr>\n",
       "      <th id=\"T_112c6_level0_row9\" class=\"row_heading level0 row9\" >9</th>\n",
       "      <td id=\"T_112c6_row9_col0\" class=\"data row9 col0\" >Categorical imputation</td>\n",
       "      <td id=\"T_112c6_row9_col1\" class=\"data row9 col1\" >mode</td>\n",
       "    </tr>\n",
       "    <tr>\n",
       "      <th id=\"T_112c6_level0_row10\" class=\"row_heading level0 row10\" >10</th>\n",
       "      <td id=\"T_112c6_row10_col0\" class=\"data row10 col0\" >Maximum one-hot encoding</td>\n",
       "      <td id=\"T_112c6_row10_col1\" class=\"data row10 col1\" >-1</td>\n",
       "    </tr>\n",
       "    <tr>\n",
       "      <th id=\"T_112c6_level0_row11\" class=\"row_heading level0 row11\" >11</th>\n",
       "      <td id=\"T_112c6_row11_col0\" class=\"data row11 col0\" >Encoding method</td>\n",
       "      <td id=\"T_112c6_row11_col1\" class=\"data row11 col1\" >None</td>\n",
       "    </tr>\n",
       "    <tr>\n",
       "      <th id=\"T_112c6_level0_row12\" class=\"row_heading level0 row12\" >12</th>\n",
       "      <td id=\"T_112c6_row12_col0\" class=\"data row12 col0\" >CPU Jobs</td>\n",
       "      <td id=\"T_112c6_row12_col1\" class=\"data row12 col1\" >-1</td>\n",
       "    </tr>\n",
       "    <tr>\n",
       "      <th id=\"T_112c6_level0_row13\" class=\"row_heading level0 row13\" >13</th>\n",
       "      <td id=\"T_112c6_row13_col0\" class=\"data row13 col0\" >Use GPU</td>\n",
       "      <td id=\"T_112c6_row13_col1\" class=\"data row13 col1\" >False</td>\n",
       "    </tr>\n",
       "    <tr>\n",
       "      <th id=\"T_112c6_level0_row14\" class=\"row_heading level0 row14\" >14</th>\n",
       "      <td id=\"T_112c6_row14_col0\" class=\"data row14 col0\" >Log Experiment</td>\n",
       "      <td id=\"T_112c6_row14_col1\" class=\"data row14 col1\" >False</td>\n",
       "    </tr>\n",
       "    <tr>\n",
       "      <th id=\"T_112c6_level0_row15\" class=\"row_heading level0 row15\" >15</th>\n",
       "      <td id=\"T_112c6_row15_col0\" class=\"data row15 col0\" >Experiment Name</td>\n",
       "      <td id=\"T_112c6_row15_col1\" class=\"data row15 col1\" >cluster-default-name</td>\n",
       "    </tr>\n",
       "    <tr>\n",
       "      <th id=\"T_112c6_level0_row16\" class=\"row_heading level0 row16\" >16</th>\n",
       "      <td id=\"T_112c6_row16_col0\" class=\"data row16 col0\" >USI</td>\n",
       "      <td id=\"T_112c6_row16_col1\" class=\"data row16 col1\" >76be</td>\n",
       "    </tr>\n",
       "  </tbody>\n",
       "</table>\n"
      ],
      "text/plain": [
       "<pandas.io.formats.style.Styler at 0x239c15c7810>"
      ]
     },
     "metadata": {},
     "output_type": "display_data"
    }
   ],
   "source": [
    "from pycaret.clustering import *\n",
    "kMeanClusteringParameters = setup(population)"
   ]
  },
  {
   "cell_type": "code",
   "execution_count": 8,
   "id": "ed6f337f-0740-4cd6-9855-7b0375dbf13d",
   "metadata": {},
   "outputs": [
    {
     "data": {
      "text/html": [],
      "text/plain": [
       "<IPython.core.display.HTML object>"
      ]
     },
     "metadata": {},
     "output_type": "display_data"
    },
    {
     "data": {
      "text/html": [
       "<style type=\"text/css\">\n",
       "</style>\n",
       "<table id=\"T_2014e\">\n",
       "  <thead>\n",
       "    <tr>\n",
       "      <th class=\"blank level0\" >&nbsp;</th>\n",
       "      <th id=\"T_2014e_level0_col0\" class=\"col_heading level0 col0\" >Silhouette</th>\n",
       "      <th id=\"T_2014e_level0_col1\" class=\"col_heading level0 col1\" >Calinski-Harabasz</th>\n",
       "      <th id=\"T_2014e_level0_col2\" class=\"col_heading level0 col2\" >Davies-Bouldin</th>\n",
       "      <th id=\"T_2014e_level0_col3\" class=\"col_heading level0 col3\" >Homogeneity</th>\n",
       "      <th id=\"T_2014e_level0_col4\" class=\"col_heading level0 col4\" >Rand Index</th>\n",
       "      <th id=\"T_2014e_level0_col5\" class=\"col_heading level0 col5\" >Completeness</th>\n",
       "    </tr>\n",
       "  </thead>\n",
       "  <tbody>\n",
       "    <tr>\n",
       "      <th id=\"T_2014e_level0_row0\" class=\"row_heading level0 row0\" >0</th>\n",
       "      <td id=\"T_2014e_row0_col0\" class=\"data row0 col0\" >0.2414</td>\n",
       "      <td id=\"T_2014e_row0_col1\" class=\"data row0 col1\" >91.4252</td>\n",
       "      <td id=\"T_2014e_row0_col2\" class=\"data row0 col2\" >1.2962</td>\n",
       "      <td id=\"T_2014e_row0_col3\" class=\"data row0 col3\" >0</td>\n",
       "      <td id=\"T_2014e_row0_col4\" class=\"data row0 col4\" >0</td>\n",
       "      <td id=\"T_2014e_row0_col5\" class=\"data row0 col5\" >0</td>\n",
       "    </tr>\n",
       "  </tbody>\n",
       "</table>\n"
      ],
      "text/plain": [
       "<pandas.io.formats.style.Styler at 0x239f4c76910>"
      ]
     },
     "metadata": {},
     "output_type": "display_data"
    },
    {
     "data": {
      "text/html": [],
      "text/plain": [
       "<IPython.core.display.HTML object>"
      ]
     },
     "metadata": {},
     "output_type": "display_data"
    }
   ],
   "source": [
    "clusteringModel = create_model('kmeans',num_clusters = 4)"
   ]
  },
  {
   "cell_type": "code",
   "execution_count": 10,
   "id": "ef62caa0-5dcf-4174-a16e-622a27d31a0c",
   "metadata": {},
   "outputs": [
    {
     "data": {
      "text/html": [
       "<div>\n",
       "<style scoped>\n",
       "    .dataframe tbody tr th:only-of-type {\n",
       "        vertical-align: middle;\n",
       "    }\n",
       "\n",
       "    .dataframe tbody tr th {\n",
       "        vertical-align: top;\n",
       "    }\n",
       "\n",
       "    .dataframe thead th {\n",
       "        text-align: right;\n",
       "    }\n",
       "</style>\n",
       "<table border=\"1\" class=\"dataframe\">\n",
       "  <thead>\n",
       "    <tr style=\"text-align: right;\">\n",
       "      <th></th>\n",
       "      <th>Country Name</th>\n",
       "      <th>1961</th>\n",
       "      <th>1962</th>\n",
       "      <th>1963</th>\n",
       "      <th>1964</th>\n",
       "      <th>1965</th>\n",
       "      <th>1966</th>\n",
       "      <th>1967</th>\n",
       "      <th>1968</th>\n",
       "      <th>1969</th>\n",
       "      <th>...</th>\n",
       "      <th>2007</th>\n",
       "      <th>2008</th>\n",
       "      <th>2009</th>\n",
       "      <th>2010</th>\n",
       "      <th>2011</th>\n",
       "      <th>2012</th>\n",
       "      <th>2013</th>\n",
       "      <th>2014</th>\n",
       "      <th>2015</th>\n",
       "      <th>Cluster</th>\n",
       "    </tr>\n",
       "  </thead>\n",
       "  <tbody>\n",
       "    <tr>\n",
       "      <th>0</th>\n",
       "      <td>Arab World</td>\n",
       "      <td>2.741996</td>\n",
       "      <td>2.769515</td>\n",
       "      <td>2.792110</td>\n",
       "      <td>2.811906</td>\n",
       "      <td>2.828133</td>\n",
       "      <td>2.850383</td>\n",
       "      <td>2.867694</td>\n",
       "      <td>2.861356</td>\n",
       "      <td>2.826982</td>\n",
       "      <td>...</td>\n",
       "      <td>2.449255</td>\n",
       "      <td>2.469810</td>\n",
       "      <td>2.424469</td>\n",
       "      <td>2.335303</td>\n",
       "      <td>2.242795</td>\n",
       "      <td>2.152384</td>\n",
       "      <td>2.088283</td>\n",
       "      <td>2.050000</td>\n",
       "      <td>2.029991</td>\n",
       "      <td>Cluster 1</td>\n",
       "    </tr>\n",
       "    <tr>\n",
       "      <th>1</th>\n",
       "      <td>Caribbean small states</td>\n",
       "      <td>1.911754</td>\n",
       "      <td>1.931196</td>\n",
       "      <td>1.893275</td>\n",
       "      <td>1.771980</td>\n",
       "      <td>1.605163</td>\n",
       "      <td>1.448561</td>\n",
       "      <td>1.298573</td>\n",
       "      <td>1.196177</td>\n",
       "      <td>1.164617</td>\n",
       "      <td>...</td>\n",
       "      <td>0.633955</td>\n",
       "      <td>0.649817</td>\n",
       "      <td>0.649227</td>\n",
       "      <td>0.636539</td>\n",
       "      <td>0.614597</td>\n",
       "      <td>0.585947</td>\n",
       "      <td>0.557091</td>\n",
       "      <td>0.531885</td>\n",
       "      <td>0.514897</td>\n",
       "      <td>Cluster 3</td>\n",
       "    </tr>\n",
       "    <tr>\n",
       "      <th>2</th>\n",
       "      <td>Central Europe and the Baltics</td>\n",
       "      <td>0.914136</td>\n",
       "      <td>0.843231</td>\n",
       "      <td>0.893254</td>\n",
       "      <td>0.934352</td>\n",
       "      <td>0.764829</td>\n",
       "      <td>0.735036</td>\n",
       "      <td>0.930800</td>\n",
       "      <td>0.864361</td>\n",
       "      <td>0.735317</td>\n",
       "      <td>...</td>\n",
       "      <td>-0.466785</td>\n",
       "      <td>-0.358132</td>\n",
       "      <td>-0.192448</td>\n",
       "      <td>-0.362710</td>\n",
       "      <td>-0.353692</td>\n",
       "      <td>-0.229155</td>\n",
       "      <td>-0.213202</td>\n",
       "      <td>-0.209757</td>\n",
       "      <td>-0.171544</td>\n",
       "      <td>Cluster 3</td>\n",
       "    </tr>\n",
       "    <tr>\n",
       "      <th>3</th>\n",
       "      <td>Early-demographic dividend</td>\n",
       "      <td>2.378681</td>\n",
       "      <td>2.399318</td>\n",
       "      <td>2.411945</td>\n",
       "      <td>2.425629</td>\n",
       "      <td>2.435707</td>\n",
       "      <td>2.442855</td>\n",
       "      <td>2.455314</td>\n",
       "      <td>2.457393</td>\n",
       "      <td>2.465558</td>\n",
       "      <td>...</td>\n",
       "      <td>1.576339</td>\n",
       "      <td>1.557348</td>\n",
       "      <td>1.538742</td>\n",
       "      <td>1.528734</td>\n",
       "      <td>1.507963</td>\n",
       "      <td>1.476112</td>\n",
       "      <td>1.457399</td>\n",
       "      <td>1.438927</td>\n",
       "      <td>1.419335</td>\n",
       "      <td>Cluster 0</td>\n",
       "    </tr>\n",
       "    <tr>\n",
       "      <th>4</th>\n",
       "      <td>East Asia &amp; Pacific</td>\n",
       "      <td>0.317912</td>\n",
       "      <td>1.356230</td>\n",
       "      <td>2.403411</td>\n",
       "      <td>2.313426</td>\n",
       "      <td>2.356414</td>\n",
       "      <td>2.604640</td>\n",
       "      <td>2.458242</td>\n",
       "      <td>2.434869</td>\n",
       "      <td>2.665623</td>\n",
       "      <td>...</td>\n",
       "      <td>0.687229</td>\n",
       "      <td>0.689983</td>\n",
       "      <td>0.667171</td>\n",
       "      <td>0.658738</td>\n",
       "      <td>0.657531</td>\n",
       "      <td>0.668169</td>\n",
       "      <td>0.670721</td>\n",
       "      <td>0.673393</td>\n",
       "      <td>0.667919</td>\n",
       "      <td>Cluster 0</td>\n",
       "    </tr>\n",
       "    <tr>\n",
       "      <th>...</th>\n",
       "      <td>...</td>\n",
       "      <td>...</td>\n",
       "      <td>...</td>\n",
       "      <td>...</td>\n",
       "      <td>...</td>\n",
       "      <td>...</td>\n",
       "      <td>...</td>\n",
       "      <td>...</td>\n",
       "      <td>...</td>\n",
       "      <td>...</td>\n",
       "      <td>...</td>\n",
       "      <td>...</td>\n",
       "      <td>...</td>\n",
       "      <td>...</td>\n",
       "      <td>...</td>\n",
       "      <td>...</td>\n",
       "      <td>...</td>\n",
       "      <td>...</td>\n",
       "      <td>...</td>\n",
       "      <td>...</td>\n",
       "      <td>...</td>\n",
       "    </tr>\n",
       "    <tr>\n",
       "      <th>250</th>\n",
       "      <td>Vietnam</td>\n",
       "      <td>1.952435</td>\n",
       "      <td>1.942731</td>\n",
       "      <td>1.954585</td>\n",
       "      <td>1.983669</td>\n",
       "      <td>2.020750</td>\n",
       "      <td>2.067624</td>\n",
       "      <td>2.118327</td>\n",
       "      <td>2.167436</td>\n",
       "      <td>2.219651</td>\n",
       "      <td>...</td>\n",
       "      <td>1.083162</td>\n",
       "      <td>1.063214</td>\n",
       "      <td>1.059120</td>\n",
       "      <td>1.049400</td>\n",
       "      <td>1.061610</td>\n",
       "      <td>1.074219</td>\n",
       "      <td>1.064362</td>\n",
       "      <td>1.074207</td>\n",
       "      <td>1.068788</td>\n",
       "      <td>Cluster 0</td>\n",
       "    </tr>\n",
       "    <tr>\n",
       "      <th>251</th>\n",
       "      <td>Virgin Islands (U.S.)</td>\n",
       "      <td>6.356148</td>\n",
       "      <td>6.252036</td>\n",
       "      <td>6.402186</td>\n",
       "      <td>6.502290</td>\n",
       "      <td>6.332714</td>\n",
       "      <td>7.232066</td>\n",
       "      <td>7.138606</td>\n",
       "      <td>7.213753</td>\n",
       "      <td>7.070081</td>\n",
       "      <td>...</td>\n",
       "      <td>-0.257527</td>\n",
       "      <td>-0.309537</td>\n",
       "      <td>-0.359218</td>\n",
       "      <td>-0.413197</td>\n",
       "      <td>-0.455552</td>\n",
       "      <td>-0.482331</td>\n",
       "      <td>-0.512353</td>\n",
       "      <td>-0.542827</td>\n",
       "      <td>-0.573785</td>\n",
       "      <td>Cluster 0</td>\n",
       "    </tr>\n",
       "    <tr>\n",
       "      <th>252</th>\n",
       "      <td>Yemen, Rep.</td>\n",
       "      <td>1.638589</td>\n",
       "      <td>1.654696</td>\n",
       "      <td>1.675548</td>\n",
       "      <td>1.701783</td>\n",
       "      <td>1.731891</td>\n",
       "      <td>1.787889</td>\n",
       "      <td>1.847770</td>\n",
       "      <td>1.868445</td>\n",
       "      <td>1.837531</td>\n",
       "      <td>...</td>\n",
       "      <td>2.837582</td>\n",
       "      <td>2.824087</td>\n",
       "      <td>2.789801</td>\n",
       "      <td>2.740443</td>\n",
       "      <td>2.688891</td>\n",
       "      <td>2.638109</td>\n",
       "      <td>2.580375</td>\n",
       "      <td>2.515593</td>\n",
       "      <td>2.446706</td>\n",
       "      <td>Cluster 1</td>\n",
       "    </tr>\n",
       "    <tr>\n",
       "      <th>253</th>\n",
       "      <td>Zambia</td>\n",
       "      <td>3.012355</td>\n",
       "      <td>3.064885</td>\n",
       "      <td>3.105865</td>\n",
       "      <td>3.132456</td>\n",
       "      <td>3.151116</td>\n",
       "      <td>3.163232</td>\n",
       "      <td>3.181647</td>\n",
       "      <td>3.218627</td>\n",
       "      <td>3.278655</td>\n",
       "      <td>...</td>\n",
       "      <td>2.843857</td>\n",
       "      <td>2.908179</td>\n",
       "      <td>2.954641</td>\n",
       "      <td>2.987173</td>\n",
       "      <td>3.015603</td>\n",
       "      <td>3.042139</td>\n",
       "      <td>3.060273</td>\n",
       "      <td>3.069640</td>\n",
       "      <td>3.071812</td>\n",
       "      <td>Cluster 1</td>\n",
       "    </tr>\n",
       "    <tr>\n",
       "      <th>254</th>\n",
       "      <td>Zimbabwe</td>\n",
       "      <td>3.257531</td>\n",
       "      <td>3.289035</td>\n",
       "      <td>3.303133</td>\n",
       "      <td>3.296046</td>\n",
       "      <td>3.277150</td>\n",
       "      <td>3.252359</td>\n",
       "      <td>3.236917</td>\n",
       "      <td>3.242345</td>\n",
       "      <td>3.273772</td>\n",
       "      <td>...</td>\n",
       "      <td>1.285552</td>\n",
       "      <td>1.475502</td>\n",
       "      <td>1.657381</td>\n",
       "      <td>1.826380</td>\n",
       "      <td>1.995816</td>\n",
       "      <td>2.150523</td>\n",
       "      <td>2.257867</td>\n",
       "      <td>2.307451</td>\n",
       "      <td>2.313958</td>\n",
       "      <td>Cluster 1</td>\n",
       "    </tr>\n",
       "  </tbody>\n",
       "</table>\n",
       "<p>255 rows × 57 columns</p>\n",
       "</div>"
      ],
      "text/plain": [
       "                       Country Name      1961      1962      1963      1964  \\\n",
       "0                        Arab World  2.741996  2.769515  2.792110  2.811906   \n",
       "1            Caribbean small states  1.911754  1.931196  1.893275  1.771980   \n",
       "2    Central Europe and the Baltics  0.914136  0.843231  0.893254  0.934352   \n",
       "3        Early-demographic dividend  2.378681  2.399318  2.411945  2.425629   \n",
       "4               East Asia & Pacific  0.317912  1.356230  2.403411  2.313426   \n",
       "..                              ...       ...       ...       ...       ...   \n",
       "250                         Vietnam  1.952435  1.942731  1.954585  1.983669   \n",
       "251           Virgin Islands (U.S.)  6.356148  6.252036  6.402186  6.502290   \n",
       "252                     Yemen, Rep.  1.638589  1.654696  1.675548  1.701783   \n",
       "253                          Zambia  3.012355  3.064885  3.105865  3.132456   \n",
       "254                        Zimbabwe  3.257531  3.289035  3.303133  3.296046   \n",
       "\n",
       "         1965      1966      1967      1968      1969  ...      2007  \\\n",
       "0    2.828133  2.850383  2.867694  2.861356  2.826982  ...  2.449255   \n",
       "1    1.605163  1.448561  1.298573  1.196177  1.164617  ...  0.633955   \n",
       "2    0.764829  0.735036  0.930800  0.864361  0.735317  ... -0.466785   \n",
       "3    2.435707  2.442855  2.455314  2.457393  2.465558  ...  1.576339   \n",
       "4    2.356414  2.604640  2.458242  2.434869  2.665623  ...  0.687229   \n",
       "..        ...       ...       ...       ...       ...  ...       ...   \n",
       "250  2.020750  2.067624  2.118327  2.167436  2.219651  ...  1.083162   \n",
       "251  6.332714  7.232066  7.138606  7.213753  7.070081  ... -0.257527   \n",
       "252  1.731891  1.787889  1.847770  1.868445  1.837531  ...  2.837582   \n",
       "253  3.151116  3.163232  3.181647  3.218627  3.278655  ...  2.843857   \n",
       "254  3.277150  3.252359  3.236917  3.242345  3.273772  ...  1.285552   \n",
       "\n",
       "         2008      2009      2010      2011      2012      2013      2014  \\\n",
       "0    2.469810  2.424469  2.335303  2.242795  2.152384  2.088283  2.050000   \n",
       "1    0.649817  0.649227  0.636539  0.614597  0.585947  0.557091  0.531885   \n",
       "2   -0.358132 -0.192448 -0.362710 -0.353692 -0.229155 -0.213202 -0.209757   \n",
       "3    1.557348  1.538742  1.528734  1.507963  1.476112  1.457399  1.438927   \n",
       "4    0.689983  0.667171  0.658738  0.657531  0.668169  0.670721  0.673393   \n",
       "..        ...       ...       ...       ...       ...       ...       ...   \n",
       "250  1.063214  1.059120  1.049400  1.061610  1.074219  1.064362  1.074207   \n",
       "251 -0.309537 -0.359218 -0.413197 -0.455552 -0.482331 -0.512353 -0.542827   \n",
       "252  2.824087  2.789801  2.740443  2.688891  2.638109  2.580375  2.515593   \n",
       "253  2.908179  2.954641  2.987173  3.015603  3.042139  3.060273  3.069640   \n",
       "254  1.475502  1.657381  1.826380  1.995816  2.150523  2.257867  2.307451   \n",
       "\n",
       "         2015    Cluster  \n",
       "0    2.029991  Cluster 1  \n",
       "1    0.514897  Cluster 3  \n",
       "2   -0.171544  Cluster 3  \n",
       "3    1.419335  Cluster 0  \n",
       "4    0.667919  Cluster 0  \n",
       "..        ...        ...  \n",
       "250  1.068788  Cluster 0  \n",
       "251 -0.573785  Cluster 0  \n",
       "252  2.446706  Cluster 1  \n",
       "253  3.071812  Cluster 1  \n",
       "254  2.313958  Cluster 1  \n",
       "\n",
       "[255 rows x 57 columns]"
      ]
     },
     "execution_count": 10,
     "metadata": {},
     "output_type": "execute_result"
    }
   ],
   "source": [
    "kmeanPredict = assign_model(clusteringModel)\n",
    "kmeanPredict"
   ]
  },
  {
   "cell_type": "code",
   "execution_count": 11,
   "id": "77bb3d58-14a1-49da-a531-0771c0b16c8f",
   "metadata": {},
   "outputs": [
    {
     "data": {
      "text/html": [],
      "text/plain": [
       "<IPython.core.display.HTML object>"
      ]
     },
     "metadata": {},
     "output_type": "display_data"
    },
    {
     "data": {
      "image/png": "[encoded data removed]",
      "text/plain": [
       "<Figure size 800x550 with 1 Axes>"
      ]
     },
     "metadata": {},
     "output_type": "display_data"
    }
   ],
   "source": [
    "plot_model(clusteringModel,plot='elbow')"
   ]
  },
  {
   "cell_type": "markdown",
   "id": "292eea17-1f0a-4ca6-bfe8-2ff134fa9bd0",
   "metadata": {},
   "source": [
    "# Kmeans - No Data Preprocessing"
   ]
  },
  {
   "cell_type": "code",
   "execution_count": 15,
   "id": "9d5821f8-8514-4bbf-8013-5825aeaa7198",
   "metadata": {
    "scrolled": true
   },
   "outputs": [
    {
     "name": "stdout",
     "output_type": "stream",
     "text": [
      "For Cluster = 3\n"
     ]
    },
    {
     "data": {
      "text/html": [],
      "text/plain": [
       "<IPython.core.display.HTML object>"
      ]
     },
     "metadata": {},
     "output_type": "display_data"
    },
    {
     "data": {
      "text/html": [
       "<style type=\"text/css\">\n",
       "</style>\n",
       "<table id=\"T_92087\">\n",
       "  <thead>\n",
       "    <tr>\n",
       "      <th class=\"blank level0\" >&nbsp;</th>\n",
       "      <th id=\"T_92087_level0_col0\" class=\"col_heading level0 col0\" >Silhouette</th>\n",
       "      <th id=\"T_92087_level0_col1\" class=\"col_heading level0 col1\" >Calinski-Harabasz</th>\n",
       "      <th id=\"T_92087_level0_col2\" class=\"col_heading level0 col2\" >Davies-Bouldin</th>\n",
       "      <th id=\"T_92087_level0_col3\" class=\"col_heading level0 col3\" >Homogeneity</th>\n",
       "      <th id=\"T_92087_level0_col4\" class=\"col_heading level0 col4\" >Rand Index</th>\n",
       "      <th id=\"T_92087_level0_col5\" class=\"col_heading level0 col5\" >Completeness</th>\n",
       "    </tr>\n",
       "  </thead>\n",
       "  <tbody>\n",
       "    <tr>\n",
       "      <th id=\"T_92087_level0_row0\" class=\"row_heading level0 row0\" >0</th>\n",
       "      <td id=\"T_92087_row0_col0\" class=\"data row0 col0\" >0.3581</td>\n",
       "      <td id=\"T_92087_row0_col1\" class=\"data row0 col1\" >109.6751</td>\n",
       "      <td id=\"T_92087_row0_col2\" class=\"data row0 col2\" >0.9127</td>\n",
       "      <td id=\"T_92087_row0_col3\" class=\"data row0 col3\" >0</td>\n",
       "      <td id=\"T_92087_row0_col4\" class=\"data row0 col4\" >0</td>\n",
       "      <td id=\"T_92087_row0_col5\" class=\"data row0 col5\" >0</td>\n",
       "    </tr>\n",
       "  </tbody>\n",
       "</table>\n"
      ],
      "text/plain": [
       "<pandas.io.formats.style.Styler at 0x239f9953210>"
      ]
     },
     "metadata": {},
     "output_type": "display_data"
    },
    {
     "data": {
      "text/html": [],
      "text/plain": [
       "<IPython.core.display.HTML object>"
      ]
     },
     "metadata": {},
     "output_type": "display_data"
    },
    {
     "name": "stdout",
     "output_type": "stream",
     "text": [
      "For Cluster = 4\n"
     ]
    },
    {
     "data": {
      "text/html": [],
      "text/plain": [
       "<IPython.core.display.HTML object>"
      ]
     },
     "metadata": {},
     "output_type": "display_data"
    },
    {
     "data": {
      "text/html": [
       "<style type=\"text/css\">\n",
       "</style>\n",
       "<table id=\"T_23579\">\n",
       "  <thead>\n",
       "    <tr>\n",
       "      <th class=\"blank level0\" >&nbsp;</th>\n",
       "      <th id=\"T_23579_level0_col0\" class=\"col_heading level0 col0\" >Silhouette</th>\n",
       "      <th id=\"T_23579_level0_col1\" class=\"col_heading level0 col1\" >Calinski-Harabasz</th>\n",
       "      <th id=\"T_23579_level0_col2\" class=\"col_heading level0 col2\" >Davies-Bouldin</th>\n",
       "      <th id=\"T_23579_level0_col3\" class=\"col_heading level0 col3\" >Homogeneity</th>\n",
       "      <th id=\"T_23579_level0_col4\" class=\"col_heading level0 col4\" >Rand Index</th>\n",
       "      <th id=\"T_23579_level0_col5\" class=\"col_heading level0 col5\" >Completeness</th>\n",
       "    </tr>\n",
       "  </thead>\n",
       "  <tbody>\n",
       "    <tr>\n",
       "      <th id=\"T_23579_level0_row0\" class=\"row_heading level0 row0\" >0</th>\n",
       "      <td id=\"T_23579_row0_col0\" class=\"data row0 col0\" >0.3672</td>\n",
       "      <td id=\"T_23579_row0_col1\" class=\"data row0 col1\" >93.5831</td>\n",
       "      <td id=\"T_23579_row0_col2\" class=\"data row0 col2\" >0.8529</td>\n",
       "      <td id=\"T_23579_row0_col3\" class=\"data row0 col3\" >0</td>\n",
       "      <td id=\"T_23579_row0_col4\" class=\"data row0 col4\" >0</td>\n",
       "      <td id=\"T_23579_row0_col5\" class=\"data row0 col5\" >0</td>\n",
       "    </tr>\n",
       "  </tbody>\n",
       "</table>\n"
      ],
      "text/plain": [
       "<pandas.io.formats.style.Styler at 0x239f31c1550>"
      ]
     },
     "metadata": {},
     "output_type": "display_data"
    },
    {
     "data": {
      "text/html": [],
      "text/plain": [
       "<IPython.core.display.HTML object>"
      ]
     },
     "metadata": {},
     "output_type": "display_data"
    },
    {
     "name": "stdout",
     "output_type": "stream",
     "text": [
      "For Cluster = 5\n"
     ]
    },
    {
     "data": {
      "text/html": [],
      "text/plain": [
       "<IPython.core.display.HTML object>"
      ]
     },
     "metadata": {},
     "output_type": "display_data"
    },
    {
     "data": {
      "text/html": [
       "<style type=\"text/css\">\n",
       "</style>\n",
       "<table id=\"T_f0ceb\">\n",
       "  <thead>\n",
       "    <tr>\n",
       "      <th class=\"blank level0\" >&nbsp;</th>\n",
       "      <th id=\"T_f0ceb_level0_col0\" class=\"col_heading level0 col0\" >Silhouette</th>\n",
       "      <th id=\"T_f0ceb_level0_col1\" class=\"col_heading level0 col1\" >Calinski-Harabasz</th>\n",
       "      <th id=\"T_f0ceb_level0_col2\" class=\"col_heading level0 col2\" >Davies-Bouldin</th>\n",
       "      <th id=\"T_f0ceb_level0_col3\" class=\"col_heading level0 col3\" >Homogeneity</th>\n",
       "      <th id=\"T_f0ceb_level0_col4\" class=\"col_heading level0 col4\" >Rand Index</th>\n",
       "      <th id=\"T_f0ceb_level0_col5\" class=\"col_heading level0 col5\" >Completeness</th>\n",
       "    </tr>\n",
       "  </thead>\n",
       "  <tbody>\n",
       "    <tr>\n",
       "      <th id=\"T_f0ceb_level0_row0\" class=\"row_heading level0 row0\" >0</th>\n",
       "      <td id=\"T_f0ceb_row0_col0\" class=\"data row0 col0\" >0.2654</td>\n",
       "      <td id=\"T_f0ceb_row0_col1\" class=\"data row0 col1\" >88.1599</td>\n",
       "      <td id=\"T_f0ceb_row0_col2\" class=\"data row0 col2\" >1.1238</td>\n",
       "      <td id=\"T_f0ceb_row0_col3\" class=\"data row0 col3\" >0</td>\n",
       "      <td id=\"T_f0ceb_row0_col4\" class=\"data row0 col4\" >0</td>\n",
       "      <td id=\"T_f0ceb_row0_col5\" class=\"data row0 col5\" >0</td>\n",
       "    </tr>\n",
       "  </tbody>\n",
       "</table>\n"
      ],
      "text/plain": [
       "<pandas.io.formats.style.Styler at 0x239f9c033d0>"
      ]
     },
     "metadata": {},
     "output_type": "display_data"
    },
    {
     "data": {
      "text/html": [],
      "text/plain": [
       "<IPython.core.display.HTML object>"
      ]
     },
     "metadata": {},
     "output_type": "display_data"
    }
   ],
   "source": [
    "setup(data = population, verbose=False)\n",
    "\n",
    "print(\"For Cluster = 3\")\n",
    "x = create_model('kmeans', num_clusters = 3)\n",
    "\n",
    "print(\"For Cluster = 4\")\n",
    "x = create_model('kmeans', num_clusters = 4)\n",
    "\n",
    "print(\"For Cluster = 5\")\n",
    "x = create_model('kmeans', num_clusters = 5)"
   ]
  },
  {
   "cell_type": "code",
   "execution_count": 16,
   "id": "ddfa6a84-cff8-4ee9-bc9a-a4d921ccd0c9",
   "metadata": {},
   "outputs": [
    {
     "data": {
      "text/html": [],
      "text/plain": [
       "<IPython.core.display.HTML object>"
      ]
     },
     "metadata": {},
     "output_type": "display_data"
    },
    {
     "data": {
      "text/html": [
       "<style type=\"text/css\">\n",
       "</style>\n",
       "<table id=\"T_20853\">\n",
       "  <thead>\n",
       "    <tr>\n",
       "      <th class=\"blank level0\" >&nbsp;</th>\n",
       "      <th id=\"T_20853_level0_col0\" class=\"col_heading level0 col0\" >Silhouette</th>\n",
       "      <th id=\"T_20853_level0_col1\" class=\"col_heading level0 col1\" >Calinski-Harabasz</th>\n",
       "      <th id=\"T_20853_level0_col2\" class=\"col_heading level0 col2\" >Davies-Bouldin</th>\n",
       "      <th id=\"T_20853_level0_col3\" class=\"col_heading level0 col3\" >Homogeneity</th>\n",
       "      <th id=\"T_20853_level0_col4\" class=\"col_heading level0 col4\" >Rand Index</th>\n",
       "      <th id=\"T_20853_level0_col5\" class=\"col_heading level0 col5\" >Completeness</th>\n",
       "    </tr>\n",
       "  </thead>\n",
       "  <tbody>\n",
       "    <tr>\n",
       "      <th id=\"T_20853_level0_row0\" class=\"row_heading level0 row0\" >0</th>\n",
       "      <td id=\"T_20853_row0_col0\" class=\"data row0 col0\" >0.0125</td>\n",
       "      <td id=\"T_20853_row0_col1\" class=\"data row0 col1\" >8.5984</td>\n",
       "      <td id=\"T_20853_row0_col2\" class=\"data row0 col2\" >5.1732</td>\n",
       "      <td id=\"T_20853_row0_col3\" class=\"data row0 col3\" >0</td>\n",
       "      <td id=\"T_20853_row0_col4\" class=\"data row0 col4\" >0</td>\n",
       "      <td id=\"T_20853_row0_col5\" class=\"data row0 col5\" >0</td>\n",
       "    </tr>\n",
       "  </tbody>\n",
       "</table>\n"
      ],
      "text/plain": [
       "<pandas.io.formats.style.Styler at 0x239f56953d0>"
      ]
     },
     "metadata": {},
     "output_type": "display_data"
    },
    {
     "data": {
      "text/html": [],
      "text/plain": [
       "<IPython.core.display.HTML object>"
      ]
     },
     "metadata": {},
     "output_type": "display_data"
    },
    {
     "data": {
      "text/html": [],
      "text/plain": [
       "<IPython.core.display.HTML object>"
      ]
     },
     "metadata": {},
     "output_type": "display_data"
    },
    {
     "data": {
      "image/png": "[encoded data removed]",
      "text/plain": [
       "<Figure size 800x550 with 1 Axes>"
      ]
     },
     "metadata": {},
     "output_type": "display_data"
    }
   ],
   "source": [
    "setup(data = population, normalize = True, normalize_method = 'zscore', verbose=False)\n",
    "x = create_model('kmeans')\n",
    "plot_model(x, plot = 'elbow')"
   ]
  },
  {
   "cell_type": "markdown",
   "id": "ba14755b-29b9-4b29-b97f-5fddc068f290",
   "metadata": {},
   "source": [
    "# Kmeans - Using Normalization"
   ]
  },
  {
   "cell_type": "code",
   "execution_count": 17,
   "id": "578e27bb-6897-47b5-84de-7d7bd5c62ed9",
   "metadata": {},
   "outputs": [
    {
     "name": "stdout",
     "output_type": "stream",
     "text": [
      "For Cluster = 3\n"
     ]
    },
    {
     "data": {
      "text/html": [],
      "text/plain": [
       "<IPython.core.display.HTML object>"
      ]
     },
     "metadata": {},
     "output_type": "display_data"
    },
    {
     "data": {
      "text/html": [
       "<style type=\"text/css\">\n",
       "</style>\n",
       "<table id=\"T_a8d26\">\n",
       "  <thead>\n",
       "    <tr>\n",
       "      <th class=\"blank level0\" >&nbsp;</th>\n",
       "      <th id=\"T_a8d26_level0_col0\" class=\"col_heading level0 col0\" >Silhouette</th>\n",
       "      <th id=\"T_a8d26_level0_col1\" class=\"col_heading level0 col1\" >Calinski-Harabasz</th>\n",
       "      <th id=\"T_a8d26_level0_col2\" class=\"col_heading level0 col2\" >Davies-Bouldin</th>\n",
       "      <th id=\"T_a8d26_level0_col3\" class=\"col_heading level0 col3\" >Homogeneity</th>\n",
       "      <th id=\"T_a8d26_level0_col4\" class=\"col_heading level0 col4\" >Rand Index</th>\n",
       "      <th id=\"T_a8d26_level0_col5\" class=\"col_heading level0 col5\" >Completeness</th>\n",
       "    </tr>\n",
       "  </thead>\n",
       "  <tbody>\n",
       "    <tr>\n",
       "      <th id=\"T_a8d26_level0_row0\" class=\"row_heading level0 row0\" >0</th>\n",
       "      <td id=\"T_a8d26_row0_col0\" class=\"data row0 col0\" >0.0425</td>\n",
       "      <td id=\"T_a8d26_row0_col1\" class=\"data row0 col1\" >11.3263</td>\n",
       "      <td id=\"T_a8d26_row0_col2\" class=\"data row0 col2\" >3.8316</td>\n",
       "      <td id=\"T_a8d26_row0_col3\" class=\"data row0 col3\" >0</td>\n",
       "      <td id=\"T_a8d26_row0_col4\" class=\"data row0 col4\" >0</td>\n",
       "      <td id=\"T_a8d26_row0_col5\" class=\"data row0 col5\" >0</td>\n",
       "    </tr>\n",
       "  </tbody>\n",
       "</table>\n"
      ],
      "text/plain": [
       "<pandas.io.formats.style.Styler at 0x239f9c01210>"
      ]
     },
     "metadata": {},
     "output_type": "display_data"
    },
    {
     "data": {
      "text/html": [],
      "text/plain": [
       "<IPython.core.display.HTML object>"
      ]
     },
     "metadata": {},
     "output_type": "display_data"
    },
    {
     "name": "stdout",
     "output_type": "stream",
     "text": [
      "For Cluster = 4\n"
     ]
    },
    {
     "data": {
      "text/html": [],
      "text/plain": [
       "<IPython.core.display.HTML object>"
      ]
     },
     "metadata": {},
     "output_type": "display_data"
    },
    {
     "data": {
      "text/html": [
       "<style type=\"text/css\">\n",
       "</style>\n",
       "<table id=\"T_5929b\">\n",
       "  <thead>\n",
       "    <tr>\n",
       "      <th class=\"blank level0\" >&nbsp;</th>\n",
       "      <th id=\"T_5929b_level0_col0\" class=\"col_heading level0 col0\" >Silhouette</th>\n",
       "      <th id=\"T_5929b_level0_col1\" class=\"col_heading level0 col1\" >Calinski-Harabasz</th>\n",
       "      <th id=\"T_5929b_level0_col2\" class=\"col_heading level0 col2\" >Davies-Bouldin</th>\n",
       "      <th id=\"T_5929b_level0_col3\" class=\"col_heading level0 col3\" >Homogeneity</th>\n",
       "      <th id=\"T_5929b_level0_col4\" class=\"col_heading level0 col4\" >Rand Index</th>\n",
       "      <th id=\"T_5929b_level0_col5\" class=\"col_heading level0 col5\" >Completeness</th>\n",
       "    </tr>\n",
       "  </thead>\n",
       "  <tbody>\n",
       "    <tr>\n",
       "      <th id=\"T_5929b_level0_row0\" class=\"row_heading level0 row0\" >0</th>\n",
       "      <td id=\"T_5929b_row0_col0\" class=\"data row0 col0\" >0.0196</td>\n",
       "      <td id=\"T_5929b_row0_col1\" class=\"data row0 col1\" >9.4843</td>\n",
       "      <td id=\"T_5929b_row0_col2\" class=\"data row0 col2\" >4.4289</td>\n",
       "      <td id=\"T_5929b_row0_col3\" class=\"data row0 col3\" >0</td>\n",
       "      <td id=\"T_5929b_row0_col4\" class=\"data row0 col4\" >0</td>\n",
       "      <td id=\"T_5929b_row0_col5\" class=\"data row0 col5\" >0</td>\n",
       "    </tr>\n",
       "  </tbody>\n",
       "</table>\n"
      ],
      "text/plain": [
       "<pandas.io.formats.style.Styler at 0x239f5785810>"
      ]
     },
     "metadata": {},
     "output_type": "display_data"
    },
    {
     "data": {
      "text/html": [],
      "text/plain": [
       "<IPython.core.display.HTML object>"
      ]
     },
     "metadata": {},
     "output_type": "display_data"
    },
    {
     "name": "stdout",
     "output_type": "stream",
     "text": [
      "For Cluster = 5\n"
     ]
    },
    {
     "data": {
      "text/html": [],
      "text/plain": [
       "<IPython.core.display.HTML object>"
      ]
     },
     "metadata": {},
     "output_type": "display_data"
    },
    {
     "data": {
      "text/html": [
       "<style type=\"text/css\">\n",
       "</style>\n",
       "<table id=\"T_4d0c2\">\n",
       "  <thead>\n",
       "    <tr>\n",
       "      <th class=\"blank level0\" >&nbsp;</th>\n",
       "      <th id=\"T_4d0c2_level0_col0\" class=\"col_heading level0 col0\" >Silhouette</th>\n",
       "      <th id=\"T_4d0c2_level0_col1\" class=\"col_heading level0 col1\" >Calinski-Harabasz</th>\n",
       "      <th id=\"T_4d0c2_level0_col2\" class=\"col_heading level0 col2\" >Davies-Bouldin</th>\n",
       "      <th id=\"T_4d0c2_level0_col3\" class=\"col_heading level0 col3\" >Homogeneity</th>\n",
       "      <th id=\"T_4d0c2_level0_col4\" class=\"col_heading level0 col4\" >Rand Index</th>\n",
       "      <th id=\"T_4d0c2_level0_col5\" class=\"col_heading level0 col5\" >Completeness</th>\n",
       "    </tr>\n",
       "  </thead>\n",
       "  <tbody>\n",
       "    <tr>\n",
       "      <th id=\"T_4d0c2_level0_row0\" class=\"row_heading level0 row0\" >0</th>\n",
       "      <td id=\"T_4d0c2_row0_col0\" class=\"data row0 col0\" >0.0205</td>\n",
       "      <td id=\"T_4d0c2_row0_col1\" class=\"data row0 col1\" >7.7670</td>\n",
       "      <td id=\"T_4d0c2_row0_col2\" class=\"data row0 col2\" >3.7788</td>\n",
       "      <td id=\"T_4d0c2_row0_col3\" class=\"data row0 col3\" >0</td>\n",
       "      <td id=\"T_4d0c2_row0_col4\" class=\"data row0 col4\" >0</td>\n",
       "      <td id=\"T_4d0c2_row0_col5\" class=\"data row0 col5\" >0</td>\n",
       "    </tr>\n",
       "  </tbody>\n",
       "</table>\n"
      ],
      "text/plain": [
       "<pandas.io.formats.style.Styler at 0x239f9bfe2d0>"
      ]
     },
     "metadata": {},
     "output_type": "display_data"
    },
    {
     "data": {
      "text/html": [],
      "text/plain": [
       "<IPython.core.display.HTML object>"
      ]
     },
     "metadata": {},
     "output_type": "display_data"
    }
   ],
   "source": [
    "setup(data = population, normalize = True, normalize_method = 'zscore', verbose=False)\n",
    "\n",
    "print(\"For Cluster = 3\")\n",
    "x = create_model('kmeans', num_clusters = 3)\n",
    "\n",
    "print(\"For Cluster = 4\")\n",
    "x = create_model('kmeans', num_clusters = 4)\n",
    "\n",
    "print(\"For Cluster = 5\")\n",
    "x = create_model('kmeans', num_clusters = 5)"
   ]
  },
  {
   "cell_type": "markdown",
   "id": "559806ef-bd54-4151-bc2b-08ae3753fe92",
   "metadata": {},
   "source": [
    "# Kmeans - Using Transformation"
   ]
  },
  {
   "cell_type": "code",
   "execution_count": 42,
   "id": "b959fc41-d4b1-43a2-bf30-1a7d55d7cdad",
   "metadata": {},
   "outputs": [
    {
     "data": {
      "text/html": [],
      "text/plain": [
       "<IPython.core.display.HTML object>"
      ]
     },
     "metadata": {},
     "output_type": "display_data"
    },
    {
     "data": {
      "text/html": [
       "<style type=\"text/css\">\n",
       "</style>\n",
       "<table id=\"T_b85dd\">\n",
       "  <thead>\n",
       "    <tr>\n",
       "      <th class=\"blank level0\" >&nbsp;</th>\n",
       "      <th id=\"T_b85dd_level0_col0\" class=\"col_heading level0 col0\" >Silhouette</th>\n",
       "      <th id=\"T_b85dd_level0_col1\" class=\"col_heading level0 col1\" >Calinski-Harabasz</th>\n",
       "      <th id=\"T_b85dd_level0_col2\" class=\"col_heading level0 col2\" >Davies-Bouldin</th>\n",
       "      <th id=\"T_b85dd_level0_col3\" class=\"col_heading level0 col3\" >Homogeneity</th>\n",
       "      <th id=\"T_b85dd_level0_col4\" class=\"col_heading level0 col4\" >Rand Index</th>\n",
       "      <th id=\"T_b85dd_level0_col5\" class=\"col_heading level0 col5\" >Completeness</th>\n",
       "    </tr>\n",
       "  </thead>\n",
       "  <tbody>\n",
       "    <tr>\n",
       "      <th id=\"T_b85dd_level0_row0\" class=\"row_heading level0 row0\" >0</th>\n",
       "      <td id=\"T_b85dd_row0_col0\" class=\"data row0 col0\" >0.2777</td>\n",
       "      <td id=\"T_b85dd_row0_col1\" class=\"data row0 col1\" >85.6604</td>\n",
       "      <td id=\"T_b85dd_row0_col2\" class=\"data row0 col2\" >1.3571</td>\n",
       "      <td id=\"T_b85dd_row0_col3\" class=\"data row0 col3\" >0</td>\n",
       "      <td id=\"T_b85dd_row0_col4\" class=\"data row0 col4\" >0</td>\n",
       "      <td id=\"T_b85dd_row0_col5\" class=\"data row0 col5\" >0</td>\n",
       "    </tr>\n",
       "  </tbody>\n",
       "</table>\n"
      ],
      "text/plain": [
       "<pandas.io.formats.style.Styler at 0x239f9a08c90>"
      ]
     },
     "metadata": {},
     "output_type": "display_data"
    },
    {
     "data": {
      "text/html": [],
      "text/plain": [
       "<IPython.core.display.HTML object>"
      ]
     },
     "metadata": {},
     "output_type": "display_data"
    },
    {
     "data": {
      "text/html": [],
      "text/plain": [
       "<IPython.core.display.HTML object>"
      ]
     },
     "metadata": {},
     "output_type": "display_data"
    },
    {
     "data": {
      "image/png": "[encoded data removed]",
      "text/plain": [
       "<Figure size 800x550 with 1 Axes>"
      ]
     },
     "metadata": {},
     "output_type": "display_data"
    }
   ],
   "source": [
    "setup(data = population, transformation = True, transformation_method = 'yeo-johnson', verbose=False)\n",
    "x = create_model('kmeans')\n",
    "plot_model(x, plot = 'elbow')"
   ]
  },
  {
   "cell_type": "code",
   "execution_count": 45,
   "id": "fff13de0-a112-47f2-962f-ce4267438d5c",
   "metadata": {},
   "outputs": [
    {
     "name": "stdout",
     "output_type": "stream",
     "text": [
      "For Cluster = 3\n"
     ]
    },
    {
     "data": {
      "text/html": [],
      "text/plain": [
       "<IPython.core.display.HTML object>"
      ]
     },
     "metadata": {},
     "output_type": "display_data"
    },
    {
     "data": {
      "text/html": [
       "<style type=\"text/css\">\n",
       "</style>\n",
       "<table id=\"T_5c522\">\n",
       "  <thead>\n",
       "    <tr>\n",
       "      <th class=\"blank level0\" >&nbsp;</th>\n",
       "      <th id=\"T_5c522_level0_col0\" class=\"col_heading level0 col0\" >Silhouette</th>\n",
       "      <th id=\"T_5c522_level0_col1\" class=\"col_heading level0 col1\" >Calinski-Harabasz</th>\n",
       "      <th id=\"T_5c522_level0_col2\" class=\"col_heading level0 col2\" >Davies-Bouldin</th>\n",
       "      <th id=\"T_5c522_level0_col3\" class=\"col_heading level0 col3\" >Homogeneity</th>\n",
       "      <th id=\"T_5c522_level0_col4\" class=\"col_heading level0 col4\" >Rand Index</th>\n",
       "      <th id=\"T_5c522_level0_col5\" class=\"col_heading level0 col5\" >Completeness</th>\n",
       "    </tr>\n",
       "  </thead>\n",
       "  <tbody>\n",
       "    <tr>\n",
       "      <th id=\"T_5c522_level0_row0\" class=\"row_heading level0 row0\" >0</th>\n",
       "      <td id=\"T_5c522_row0_col0\" class=\"data row0 col0\" >0.2760</td>\n",
       "      <td id=\"T_5c522_row0_col1\" class=\"data row0 col1\" >103.8608</td>\n",
       "      <td id=\"T_5c522_row0_col2\" class=\"data row0 col2\" >1.3571</td>\n",
       "      <td id=\"T_5c522_row0_col3\" class=\"data row0 col3\" >0</td>\n",
       "      <td id=\"T_5c522_row0_col4\" class=\"data row0 col4\" >0</td>\n",
       "      <td id=\"T_5c522_row0_col5\" class=\"data row0 col5\" >0</td>\n",
       "    </tr>\n",
       "  </tbody>\n",
       "</table>\n"
      ],
      "text/plain": [
       "<pandas.io.formats.style.Styler at 0x239f9c42750>"
      ]
     },
     "metadata": {},
     "output_type": "display_data"
    },
    {
     "data": {
      "text/html": [],
      "text/plain": [
       "<IPython.core.display.HTML object>"
      ]
     },
     "metadata": {},
     "output_type": "display_data"
    },
    {
     "name": "stdout",
     "output_type": "stream",
     "text": [
      "For Cluster = 4\n"
     ]
    },
    {
     "data": {
      "text/html": [],
      "text/plain": [
       "<IPython.core.display.HTML object>"
      ]
     },
     "metadata": {},
     "output_type": "display_data"
    },
    {
     "data": {
      "text/html": [
       "<style type=\"text/css\">\n",
       "</style>\n",
       "<table id=\"T_0544e\">\n",
       "  <thead>\n",
       "    <tr>\n",
       "      <th class=\"blank level0\" >&nbsp;</th>\n",
       "      <th id=\"T_0544e_level0_col0\" class=\"col_heading level0 col0\" >Silhouette</th>\n",
       "      <th id=\"T_0544e_level0_col1\" class=\"col_heading level0 col1\" >Calinski-Harabasz</th>\n",
       "      <th id=\"T_0544e_level0_col2\" class=\"col_heading level0 col2\" >Davies-Bouldin</th>\n",
       "      <th id=\"T_0544e_level0_col3\" class=\"col_heading level0 col3\" >Homogeneity</th>\n",
       "      <th id=\"T_0544e_level0_col4\" class=\"col_heading level0 col4\" >Rand Index</th>\n",
       "      <th id=\"T_0544e_level0_col5\" class=\"col_heading level0 col5\" >Completeness</th>\n",
       "    </tr>\n",
       "  </thead>\n",
       "  <tbody>\n",
       "    <tr>\n",
       "      <th id=\"T_0544e_level0_row0\" class=\"row_heading level0 row0\" >0</th>\n",
       "      <td id=\"T_0544e_row0_col0\" class=\"data row0 col0\" >0.2780</td>\n",
       "      <td id=\"T_0544e_row0_col1\" class=\"data row0 col1\" >85.6623</td>\n",
       "      <td id=\"T_0544e_row0_col2\" class=\"data row0 col2\" >1.3523</td>\n",
       "      <td id=\"T_0544e_row0_col3\" class=\"data row0 col3\" >0</td>\n",
       "      <td id=\"T_0544e_row0_col4\" class=\"data row0 col4\" >0</td>\n",
       "      <td id=\"T_0544e_row0_col5\" class=\"data row0 col5\" >0</td>\n",
       "    </tr>\n",
       "  </tbody>\n",
       "</table>\n"
      ],
      "text/plain": [
       "<pandas.io.formats.style.Styler at 0x239f9c39b50>"
      ]
     },
     "metadata": {},
     "output_type": "display_data"
    },
    {
     "data": {
      "text/html": [],
      "text/plain": [
       "<IPython.core.display.HTML object>"
      ]
     },
     "metadata": {},
     "output_type": "display_data"
    },
    {
     "name": "stdout",
     "output_type": "stream",
     "text": [
      "For Cluster = 5\n"
     ]
    },
    {
     "data": {
      "text/html": [],
      "text/plain": [
       "<IPython.core.display.HTML object>"
      ]
     },
     "metadata": {},
     "output_type": "display_data"
    },
    {
     "data": {
      "text/html": [
       "<style type=\"text/css\">\n",
       "</style>\n",
       "<table id=\"T_9530d\">\n",
       "  <thead>\n",
       "    <tr>\n",
       "      <th class=\"blank level0\" >&nbsp;</th>\n",
       "      <th id=\"T_9530d_level0_col0\" class=\"col_heading level0 col0\" >Silhouette</th>\n",
       "      <th id=\"T_9530d_level0_col1\" class=\"col_heading level0 col1\" >Calinski-Harabasz</th>\n",
       "      <th id=\"T_9530d_level0_col2\" class=\"col_heading level0 col2\" >Davies-Bouldin</th>\n",
       "      <th id=\"T_9530d_level0_col3\" class=\"col_heading level0 col3\" >Homogeneity</th>\n",
       "      <th id=\"T_9530d_level0_col4\" class=\"col_heading level0 col4\" >Rand Index</th>\n",
       "      <th id=\"T_9530d_level0_col5\" class=\"col_heading level0 col5\" >Completeness</th>\n",
       "    </tr>\n",
       "  </thead>\n",
       "  <tbody>\n",
       "    <tr>\n",
       "      <th id=\"T_9530d_level0_row0\" class=\"row_heading level0 row0\" >0</th>\n",
       "      <td id=\"T_9530d_row0_col0\" class=\"data row0 col0\" >0.2784</td>\n",
       "      <td id=\"T_9530d_row0_col1\" class=\"data row0 col1\" >73.9444</td>\n",
       "      <td id=\"T_9530d_row0_col2\" class=\"data row0 col2\" >1.3648</td>\n",
       "      <td id=\"T_9530d_row0_col3\" class=\"data row0 col3\" >0</td>\n",
       "      <td id=\"T_9530d_row0_col4\" class=\"data row0 col4\" >0</td>\n",
       "      <td id=\"T_9530d_row0_col5\" class=\"data row0 col5\" >0</td>\n",
       "    </tr>\n",
       "  </tbody>\n",
       "</table>\n"
      ],
      "text/plain": [
       "<pandas.io.formats.style.Styler at 0x239fce56f50>"
      ]
     },
     "metadata": {},
     "output_type": "display_data"
    },
    {
     "data": {
      "text/html": [],
      "text/plain": [
       "<IPython.core.display.HTML object>"
      ]
     },
     "metadata": {},
     "output_type": "display_data"
    }
   ],
   "source": [
    "setup(data = population, transformation = True, transformation_method = 'yeo-johnson', verbose=False)\n",
    "\n",
    "print(\"For Cluster = 3\")\n",
    "x = create_model('kmeans', num_clusters = 3)\n",
    "\n",
    "print(\"For Cluster = 4\")\n",
    "x = create_model('kmeans', num_clusters = 4)\n",
    "\n",
    "print(\"For Cluster = 5\")\n",
    "x = create_model('kmeans', num_clusters = 5)"
   ]
  },
  {
   "cell_type": "markdown",
   "id": "84ecb1ef-012e-4f9d-bf1f-8011c9e7e9a7",
   "metadata": {},
   "source": [
    "# Kmeans - Using PCA"
   ]
  },
  {
   "cell_type": "code",
   "execution_count": 20,
   "id": "86e7492d-4526-4dd2-be17-aa5e7576b077",
   "metadata": {},
   "outputs": [
    {
     "data": {
      "text/html": [],
      "text/plain": [
       "<IPython.core.display.HTML object>"
      ]
     },
     "metadata": {},
     "output_type": "display_data"
    },
    {
     "data": {
      "text/html": [
       "<style type=\"text/css\">\n",
       "</style>\n",
       "<table id=\"T_b1f40\">\n",
       "  <thead>\n",
       "    <tr>\n",
       "      <th class=\"blank level0\" >&nbsp;</th>\n",
       "      <th id=\"T_b1f40_level0_col0\" class=\"col_heading level0 col0\" >Silhouette</th>\n",
       "      <th id=\"T_b1f40_level0_col1\" class=\"col_heading level0 col1\" >Calinski-Harabasz</th>\n",
       "      <th id=\"T_b1f40_level0_col2\" class=\"col_heading level0 col2\" >Davies-Bouldin</th>\n",
       "      <th id=\"T_b1f40_level0_col3\" class=\"col_heading level0 col3\" >Homogeneity</th>\n",
       "      <th id=\"T_b1f40_level0_col4\" class=\"col_heading level0 col4\" >Rand Index</th>\n",
       "      <th id=\"T_b1f40_level0_col5\" class=\"col_heading level0 col5\" >Completeness</th>\n",
       "    </tr>\n",
       "  </thead>\n",
       "  <tbody>\n",
       "    <tr>\n",
       "      <th id=\"T_b1f40_level0_row0\" class=\"row_heading level0 row0\" >0</th>\n",
       "      <td id=\"T_b1f40_row0_col0\" class=\"data row0 col0\" >0.2504</td>\n",
       "      <td id=\"T_b1f40_row0_col1\" class=\"data row0 col1\" >91.4425</td>\n",
       "      <td id=\"T_b1f40_row0_col2\" class=\"data row0 col2\" >1.2878</td>\n",
       "      <td id=\"T_b1f40_row0_col3\" class=\"data row0 col3\" >0</td>\n",
       "      <td id=\"T_b1f40_row0_col4\" class=\"data row0 col4\" >0</td>\n",
       "      <td id=\"T_b1f40_row0_col5\" class=\"data row0 col5\" >0</td>\n",
       "    </tr>\n",
       "  </tbody>\n",
       "</table>\n"
      ],
      "text/plain": [
       "<pandas.io.formats.style.Styler at 0x239f57ecb10>"
      ]
     },
     "metadata": {},
     "output_type": "display_data"
    },
    {
     "data": {
      "text/html": [],
      "text/plain": [
       "<IPython.core.display.HTML object>"
      ]
     },
     "metadata": {},
     "output_type": "display_data"
    },
    {
     "data": {
      "text/html": [],
      "text/plain": [
       "<IPython.core.display.HTML object>"
      ]
     },
     "metadata": {},
     "output_type": "display_data"
    },
    {
     "data": {
      "image/png": "[encoded data removed]",
      "text/plain": [
       "<Figure size 800x550 with 1 Axes>"
      ]
     },
     "metadata": {},
     "output_type": "display_data"
    }
   ],
   "source": [
    "setup(data = population, pca = True, pca_method = 'linear', verbose=False)\n",
    "x = create_model('kmeans')\n",
    "plot_model(x, plot = 'elbow')"
   ]
  },
  {
   "cell_type": "code",
   "execution_count": 46,
   "id": "0ad9fd46-6967-4f85-9599-268316f3aaac",
   "metadata": {},
   "outputs": [
    {
     "name": "stdout",
     "output_type": "stream",
     "text": [
      "For Cluster = 3\n"
     ]
    },
    {
     "data": {
      "text/html": [],
      "text/plain": [
       "<IPython.core.display.HTML object>"
      ]
     },
     "metadata": {},
     "output_type": "display_data"
    },
    {
     "data": {
      "text/html": [
       "<style type=\"text/css\">\n",
       "</style>\n",
       "<table id=\"T_9e47d\">\n",
       "  <thead>\n",
       "    <tr>\n",
       "      <th class=\"blank level0\" >&nbsp;</th>\n",
       "      <th id=\"T_9e47d_level0_col0\" class=\"col_heading level0 col0\" >Silhouette</th>\n",
       "      <th id=\"T_9e47d_level0_col1\" class=\"col_heading level0 col1\" >Calinski-Harabasz</th>\n",
       "      <th id=\"T_9e47d_level0_col2\" class=\"col_heading level0 col2\" >Davies-Bouldin</th>\n",
       "      <th id=\"T_9e47d_level0_col3\" class=\"col_heading level0 col3\" >Homogeneity</th>\n",
       "      <th id=\"T_9e47d_level0_col4\" class=\"col_heading level0 col4\" >Rand Index</th>\n",
       "      <th id=\"T_9e47d_level0_col5\" class=\"col_heading level0 col5\" >Completeness</th>\n",
       "    </tr>\n",
       "  </thead>\n",
       "  <tbody>\n",
       "    <tr>\n",
       "      <th id=\"T_9e47d_level0_row0\" class=\"row_heading level0 row0\" >0</th>\n",
       "      <td id=\"T_9e47d_row0_col0\" class=\"data row0 col0\" >0.3581</td>\n",
       "      <td id=\"T_9e47d_row0_col1\" class=\"data row0 col1\" >109.6751</td>\n",
       "      <td id=\"T_9e47d_row0_col2\" class=\"data row0 col2\" >0.9127</td>\n",
       "      <td id=\"T_9e47d_row0_col3\" class=\"data row0 col3\" >0</td>\n",
       "      <td id=\"T_9e47d_row0_col4\" class=\"data row0 col4\" >0</td>\n",
       "      <td id=\"T_9e47d_row0_col5\" class=\"data row0 col5\" >0</td>\n",
       "    </tr>\n",
       "  </tbody>\n",
       "</table>\n"
      ],
      "text/plain": [
       "<pandas.io.formats.style.Styler at 0x239fce40090>"
      ]
     },
     "metadata": {},
     "output_type": "display_data"
    },
    {
     "data": {
      "text/html": [],
      "text/plain": [
       "<IPython.core.display.HTML object>"
      ]
     },
     "metadata": {},
     "output_type": "display_data"
    },
    {
     "name": "stdout",
     "output_type": "stream",
     "text": [
      "For Cluster = 4\n"
     ]
    },
    {
     "data": {
      "text/html": [],
      "text/plain": [
       "<IPython.core.display.HTML object>"
      ]
     },
     "metadata": {},
     "output_type": "display_data"
    },
    {
     "data": {
      "text/html": [
       "<style type=\"text/css\">\n",
       "</style>\n",
       "<table id=\"T_c051d\">\n",
       "  <thead>\n",
       "    <tr>\n",
       "      <th class=\"blank level0\" >&nbsp;</th>\n",
       "      <th id=\"T_c051d_level0_col0\" class=\"col_heading level0 col0\" >Silhouette</th>\n",
       "      <th id=\"T_c051d_level0_col1\" class=\"col_heading level0 col1\" >Calinski-Harabasz</th>\n",
       "      <th id=\"T_c051d_level0_col2\" class=\"col_heading level0 col2\" >Davies-Bouldin</th>\n",
       "      <th id=\"T_c051d_level0_col3\" class=\"col_heading level0 col3\" >Homogeneity</th>\n",
       "      <th id=\"T_c051d_level0_col4\" class=\"col_heading level0 col4\" >Rand Index</th>\n",
       "      <th id=\"T_c051d_level0_col5\" class=\"col_heading level0 col5\" >Completeness</th>\n",
       "    </tr>\n",
       "  </thead>\n",
       "  <tbody>\n",
       "    <tr>\n",
       "      <th id=\"T_c051d_level0_row0\" class=\"row_heading level0 row0\" >0</th>\n",
       "      <td id=\"T_c051d_row0_col0\" class=\"data row0 col0\" >0.2569</td>\n",
       "      <td id=\"T_c051d_row0_col1\" class=\"data row0 col1\" >91.4150</td>\n",
       "      <td id=\"T_c051d_row0_col2\" class=\"data row0 col2\" >1.3045</td>\n",
       "      <td id=\"T_c051d_row0_col3\" class=\"data row0 col3\" >0</td>\n",
       "      <td id=\"T_c051d_row0_col4\" class=\"data row0 col4\" >0</td>\n",
       "      <td id=\"T_c051d_row0_col5\" class=\"data row0 col5\" >0</td>\n",
       "    </tr>\n",
       "  </tbody>\n",
       "</table>\n"
      ],
      "text/plain": [
       "<pandas.io.formats.style.Styler at 0x239f9c529d0>"
      ]
     },
     "metadata": {},
     "output_type": "display_data"
    },
    {
     "data": {
      "text/html": [],
      "text/plain": [
       "<IPython.core.display.HTML object>"
      ]
     },
     "metadata": {},
     "output_type": "display_data"
    },
    {
     "name": "stdout",
     "output_type": "stream",
     "text": [
      "For Cluster = 5\n"
     ]
    },
    {
     "data": {
      "text/html": [],
      "text/plain": [
       "<IPython.core.display.HTML object>"
      ]
     },
     "metadata": {},
     "output_type": "display_data"
    },
    {
     "data": {
      "text/html": [
       "<style type=\"text/css\">\n",
       "</style>\n",
       "<table id=\"T_d84b7\">\n",
       "  <thead>\n",
       "    <tr>\n",
       "      <th class=\"blank level0\" >&nbsp;</th>\n",
       "      <th id=\"T_d84b7_level0_col0\" class=\"col_heading level0 col0\" >Silhouette</th>\n",
       "      <th id=\"T_d84b7_level0_col1\" class=\"col_heading level0 col1\" >Calinski-Harabasz</th>\n",
       "      <th id=\"T_d84b7_level0_col2\" class=\"col_heading level0 col2\" >Davies-Bouldin</th>\n",
       "      <th id=\"T_d84b7_level0_col3\" class=\"col_heading level0 col3\" >Homogeneity</th>\n",
       "      <th id=\"T_d84b7_level0_col4\" class=\"col_heading level0 col4\" >Rand Index</th>\n",
       "      <th id=\"T_d84b7_level0_col5\" class=\"col_heading level0 col5\" >Completeness</th>\n",
       "    </tr>\n",
       "  </thead>\n",
       "  <tbody>\n",
       "    <tr>\n",
       "      <th id=\"T_d84b7_level0_row0\" class=\"row_heading level0 row0\" >0</th>\n",
       "      <td id=\"T_d84b7_row0_col0\" class=\"data row0 col0\" >0.2654</td>\n",
       "      <td id=\"T_d84b7_row0_col1\" class=\"data row0 col1\" >88.1599</td>\n",
       "      <td id=\"T_d84b7_row0_col2\" class=\"data row0 col2\" >1.1238</td>\n",
       "      <td id=\"T_d84b7_row0_col3\" class=\"data row0 col3\" >0</td>\n",
       "      <td id=\"T_d84b7_row0_col4\" class=\"data row0 col4\" >0</td>\n",
       "      <td id=\"T_d84b7_row0_col5\" class=\"data row0 col5\" >0</td>\n",
       "    </tr>\n",
       "  </tbody>\n",
       "</table>\n"
      ],
      "text/plain": [
       "<pandas.io.formats.style.Styler at 0x239f9cd5cd0>"
      ]
     },
     "metadata": {},
     "output_type": "display_data"
    },
    {
     "data": {
      "text/html": [],
      "text/plain": [
       "<IPython.core.display.HTML object>"
      ]
     },
     "metadata": {},
     "output_type": "display_data"
    }
   ],
   "source": [
    "setup(data = population, pca = True, pca_method = 'linear', verbose=False)\n",
    "\n",
    "print(\"For Cluster = 3\")\n",
    "x = create_model('kmeans', num_clusters = 3)\n",
    "\n",
    "print(\"For Cluster = 4\")\n",
    "x = create_model('kmeans', num_clusters = 4)\n",
    "\n",
    "print(\"For Cluster = 5\")\n",
    "x = create_model('kmeans', num_clusters = 5)"
   ]
  },
  {
   "cell_type": "markdown",
   "id": "35d1b591-e3ea-481b-8ab8-b83cfa64d109",
   "metadata": {},
   "source": [
    "## Kmeans - Using Transformation and Normalization"
   ]
  },
  {
   "cell_type": "code",
   "execution_count": 22,
   "id": "df886fbe-883d-4c4d-9a1a-07bcdd67de95",
   "metadata": {},
   "outputs": [
    {
     "data": {
      "text/html": [],
      "text/plain": [
       "<IPython.core.display.HTML object>"
      ]
     },
     "metadata": {},
     "output_type": "display_data"
    },
    {
     "data": {
      "text/html": [
       "<style type=\"text/css\">\n",
       "</style>\n",
       "<table id=\"T_691bb\">\n",
       "  <thead>\n",
       "    <tr>\n",
       "      <th class=\"blank level0\" >&nbsp;</th>\n",
       "      <th id=\"T_691bb_level0_col0\" class=\"col_heading level0 col0\" >Silhouette</th>\n",
       "      <th id=\"T_691bb_level0_col1\" class=\"col_heading level0 col1\" >Calinski-Harabasz</th>\n",
       "      <th id=\"T_691bb_level0_col2\" class=\"col_heading level0 col2\" >Davies-Bouldin</th>\n",
       "      <th id=\"T_691bb_level0_col3\" class=\"col_heading level0 col3\" >Homogeneity</th>\n",
       "      <th id=\"T_691bb_level0_col4\" class=\"col_heading level0 col4\" >Rand Index</th>\n",
       "      <th id=\"T_691bb_level0_col5\" class=\"col_heading level0 col5\" >Completeness</th>\n",
       "    </tr>\n",
       "  </thead>\n",
       "  <tbody>\n",
       "    <tr>\n",
       "      <th id=\"T_691bb_level0_row0\" class=\"row_heading level0 row0\" >0</th>\n",
       "      <td id=\"T_691bb_row0_col0\" class=\"data row0 col0\" >0.0202</td>\n",
       "      <td id=\"T_691bb_row0_col1\" class=\"data row0 col1\" >8.5769</td>\n",
       "      <td id=\"T_691bb_row0_col2\" class=\"data row0 col2\" >5.0591</td>\n",
       "      <td id=\"T_691bb_row0_col3\" class=\"data row0 col3\" >0</td>\n",
       "      <td id=\"T_691bb_row0_col4\" class=\"data row0 col4\" >0</td>\n",
       "      <td id=\"T_691bb_row0_col5\" class=\"data row0 col5\" >0</td>\n",
       "    </tr>\n",
       "  </tbody>\n",
       "</table>\n"
      ],
      "text/plain": [
       "<pandas.io.formats.style.Styler at 0x239f9c34f50>"
      ]
     },
     "metadata": {},
     "output_type": "display_data"
    },
    {
     "data": {
      "text/html": [],
      "text/plain": [
       "<IPython.core.display.HTML object>"
      ]
     },
     "metadata": {},
     "output_type": "display_data"
    },
    {
     "data": {
      "text/html": [],
      "text/plain": [
       "<IPython.core.display.HTML object>"
      ]
     },
     "metadata": {},
     "output_type": "display_data"
    },
    {
     "data": {
      "image/png": "[encoded data removed]",
      "text/plain": [
       "<Figure size 800x550 with 1 Axes>"
      ]
     },
     "metadata": {},
     "output_type": "display_data"
    }
   ],
   "source": [
    "setup(data = population, transformation = True, normalize = True,\n",
    "      normalize_method = 'zscore', transformation_method = 'yeo-johnson', verbose=False)\n",
    "x = create_model('kmeans')\n",
    "plot_model(x, plot = 'elbow')"
   ]
  },
  {
   "cell_type": "code",
   "execution_count": 24,
   "id": "922b64c8-187b-45f0-9e19-de3827461aab",
   "metadata": {},
   "outputs": [
    {
     "name": "stdout",
     "output_type": "stream",
     "text": [
      "For Cluster = 3\n"
     ]
    },
    {
     "data": {
      "text/html": [],
      "text/plain": [
       "<IPython.core.display.HTML object>"
      ]
     },
     "metadata": {},
     "output_type": "display_data"
    },
    {
     "data": {
      "text/html": [
       "<style type=\"text/css\">\n",
       "</style>\n",
       "<table id=\"T_e776c\">\n",
       "  <thead>\n",
       "    <tr>\n",
       "      <th class=\"blank level0\" >&nbsp;</th>\n",
       "      <th id=\"T_e776c_level0_col0\" class=\"col_heading level0 col0\" >Silhouette</th>\n",
       "      <th id=\"T_e776c_level0_col1\" class=\"col_heading level0 col1\" >Calinski-Harabasz</th>\n",
       "      <th id=\"T_e776c_level0_col2\" class=\"col_heading level0 col2\" >Davies-Bouldin</th>\n",
       "      <th id=\"T_e776c_level0_col3\" class=\"col_heading level0 col3\" >Homogeneity</th>\n",
       "      <th id=\"T_e776c_level0_col4\" class=\"col_heading level0 col4\" >Rand Index</th>\n",
       "      <th id=\"T_e776c_level0_col5\" class=\"col_heading level0 col5\" >Completeness</th>\n",
       "    </tr>\n",
       "  </thead>\n",
       "  <tbody>\n",
       "    <tr>\n",
       "      <th id=\"T_e776c_level0_row0\" class=\"row_heading level0 row0\" >0</th>\n",
       "      <td id=\"T_e776c_row0_col0\" class=\"data row0 col0\" >0.0277</td>\n",
       "      <td id=\"T_e776c_row0_col1\" class=\"data row0 col1\" >11.5119</td>\n",
       "      <td id=\"T_e776c_row0_col2\" class=\"data row0 col2\" >5.0016</td>\n",
       "      <td id=\"T_e776c_row0_col3\" class=\"data row0 col3\" >0</td>\n",
       "      <td id=\"T_e776c_row0_col4\" class=\"data row0 col4\" >0</td>\n",
       "      <td id=\"T_e776c_row0_col5\" class=\"data row0 col5\" >0</td>\n",
       "    </tr>\n",
       "  </tbody>\n",
       "</table>\n"
      ],
      "text/plain": [
       "<pandas.io.formats.style.Styler at 0x239f9c004d0>"
      ]
     },
     "metadata": {},
     "output_type": "display_data"
    },
    {
     "data": {
      "text/html": [],
      "text/plain": [
       "<IPython.core.display.HTML object>"
      ]
     },
     "metadata": {},
     "output_type": "display_data"
    },
    {
     "name": "stdout",
     "output_type": "stream",
     "text": [
      "For Cluster = 4\n"
     ]
    },
    {
     "data": {
      "text/html": [],
      "text/plain": [
       "<IPython.core.display.HTML object>"
      ]
     },
     "metadata": {},
     "output_type": "display_data"
    },
    {
     "data": {
      "text/html": [
       "<style type=\"text/css\">\n",
       "</style>\n",
       "<table id=\"T_7abdc\">\n",
       "  <thead>\n",
       "    <tr>\n",
       "      <th class=\"blank level0\" >&nbsp;</th>\n",
       "      <th id=\"T_7abdc_level0_col0\" class=\"col_heading level0 col0\" >Silhouette</th>\n",
       "      <th id=\"T_7abdc_level0_col1\" class=\"col_heading level0 col1\" >Calinski-Harabasz</th>\n",
       "      <th id=\"T_7abdc_level0_col2\" class=\"col_heading level0 col2\" >Davies-Bouldin</th>\n",
       "      <th id=\"T_7abdc_level0_col3\" class=\"col_heading level0 col3\" >Homogeneity</th>\n",
       "      <th id=\"T_7abdc_level0_col4\" class=\"col_heading level0 col4\" >Rand Index</th>\n",
       "      <th id=\"T_7abdc_level0_col5\" class=\"col_heading level0 col5\" >Completeness</th>\n",
       "    </tr>\n",
       "  </thead>\n",
       "  <tbody>\n",
       "    <tr>\n",
       "      <th id=\"T_7abdc_level0_row0\" class=\"row_heading level0 row0\" >0</th>\n",
       "      <td id=\"T_7abdc_row0_col0\" class=\"data row0 col0\" >0.0272</td>\n",
       "      <td id=\"T_7abdc_row0_col1\" class=\"data row0 col1\" >9.0887</td>\n",
       "      <td id=\"T_7abdc_row0_col2\" class=\"data row0 col2\" >4.6178</td>\n",
       "      <td id=\"T_7abdc_row0_col3\" class=\"data row0 col3\" >0</td>\n",
       "      <td id=\"T_7abdc_row0_col4\" class=\"data row0 col4\" >0</td>\n",
       "      <td id=\"T_7abdc_row0_col5\" class=\"data row0 col5\" >0</td>\n",
       "    </tr>\n",
       "  </tbody>\n",
       "</table>\n"
      ],
      "text/plain": [
       "<pandas.io.formats.style.Styler at 0x239f994d810>"
      ]
     },
     "metadata": {},
     "output_type": "display_data"
    },
    {
     "data": {
      "text/html": [],
      "text/plain": [
       "<IPython.core.display.HTML object>"
      ]
     },
     "metadata": {},
     "output_type": "display_data"
    },
    {
     "name": "stdout",
     "output_type": "stream",
     "text": [
      "For Cluster = 5\n"
     ]
    },
    {
     "data": {
      "text/html": [],
      "text/plain": [
       "<IPython.core.display.HTML object>"
      ]
     },
     "metadata": {},
     "output_type": "display_data"
    },
    {
     "data": {
      "text/html": [
       "<style type=\"text/css\">\n",
       "</style>\n",
       "<table id=\"T_81c44\">\n",
       "  <thead>\n",
       "    <tr>\n",
       "      <th class=\"blank level0\" >&nbsp;</th>\n",
       "      <th id=\"T_81c44_level0_col0\" class=\"col_heading level0 col0\" >Silhouette</th>\n",
       "      <th id=\"T_81c44_level0_col1\" class=\"col_heading level0 col1\" >Calinski-Harabasz</th>\n",
       "      <th id=\"T_81c44_level0_col2\" class=\"col_heading level0 col2\" >Davies-Bouldin</th>\n",
       "      <th id=\"T_81c44_level0_col3\" class=\"col_heading level0 col3\" >Homogeneity</th>\n",
       "      <th id=\"T_81c44_level0_col4\" class=\"col_heading level0 col4\" >Rand Index</th>\n",
       "      <th id=\"T_81c44_level0_col5\" class=\"col_heading level0 col5\" >Completeness</th>\n",
       "    </tr>\n",
       "  </thead>\n",
       "  <tbody>\n",
       "    <tr>\n",
       "      <th id=\"T_81c44_level0_row0\" class=\"row_heading level0 row0\" >0</th>\n",
       "      <td id=\"T_81c44_row0_col0\" class=\"data row0 col0\" >0.0172</td>\n",
       "      <td id=\"T_81c44_row0_col1\" class=\"data row0 col1\" >7.3539</td>\n",
       "      <td id=\"T_81c44_row0_col2\" class=\"data row0 col2\" >5.0876</td>\n",
       "      <td id=\"T_81c44_row0_col3\" class=\"data row0 col3\" >0</td>\n",
       "      <td id=\"T_81c44_row0_col4\" class=\"data row0 col4\" >0</td>\n",
       "      <td id=\"T_81c44_row0_col5\" class=\"data row0 col5\" >0</td>\n",
       "    </tr>\n",
       "  </tbody>\n",
       "</table>\n"
      ],
      "text/plain": [
       "<pandas.io.formats.style.Styler at 0x239f4cbd810>"
      ]
     },
     "metadata": {},
     "output_type": "display_data"
    },
    {
     "data": {
      "text/html": [],
      "text/plain": [
       "<IPython.core.display.HTML object>"
      ]
     },
     "metadata": {},
     "output_type": "display_data"
    }
   ],
   "source": [
    "setup(data = population, transformation = True, normalize = True,\n",
    "      normalize_method = 'zscore', transformation_method = 'yeo-johnson', verbose=False)\n",
    "\n",
    "print(\"For Cluster = 3\")\n",
    "x = create_model('kmeans', num_clusters = 3)\n",
    "\n",
    "print(\"For Cluster = 4\")\n",
    "x = create_model('kmeans', num_clusters = 4)\n",
    "\n",
    "print(\"For Cluster = 5\")\n",
    "x = create_model('kmeans', num_clusters = 5)"
   ]
  },
  {
   "cell_type": "markdown",
   "id": "ecb552ac-bb00-44ac-8353-54e4603d9e5c",
   "metadata": {},
   "source": [
    "## Kmeans - Using Normalization, Transformation and PCA"
   ]
  },
  {
   "cell_type": "code",
   "execution_count": 25,
   "id": "a3fccd16-fee9-49c6-be57-91079d2c39d9",
   "metadata": {},
   "outputs": [
    {
     "data": {
      "text/html": [],
      "text/plain": [
       "<IPython.core.display.HTML object>"
      ]
     },
     "metadata": {},
     "output_type": "display_data"
    },
    {
     "data": {
      "text/html": [
       "<style type=\"text/css\">\n",
       "</style>\n",
       "<table id=\"T_591bc\">\n",
       "  <thead>\n",
       "    <tr>\n",
       "      <th class=\"blank level0\" >&nbsp;</th>\n",
       "      <th id=\"T_591bc_level0_col0\" class=\"col_heading level0 col0\" >Silhouette</th>\n",
       "      <th id=\"T_591bc_level0_col1\" class=\"col_heading level0 col1\" >Calinski-Harabasz</th>\n",
       "      <th id=\"T_591bc_level0_col2\" class=\"col_heading level0 col2\" >Davies-Bouldin</th>\n",
       "      <th id=\"T_591bc_level0_col3\" class=\"col_heading level0 col3\" >Homogeneity</th>\n",
       "      <th id=\"T_591bc_level0_col4\" class=\"col_heading level0 col4\" >Rand Index</th>\n",
       "      <th id=\"T_591bc_level0_col5\" class=\"col_heading level0 col5\" >Completeness</th>\n",
       "    </tr>\n",
       "  </thead>\n",
       "  <tbody>\n",
       "    <tr>\n",
       "      <th id=\"T_591bc_level0_row0\" class=\"row_heading level0 row0\" >0</th>\n",
       "      <td id=\"T_591bc_row0_col0\" class=\"data row0 col0\" >0.0263</td>\n",
       "      <td id=\"T_591bc_row0_col1\" class=\"data row0 col1\" >8.9612</td>\n",
       "      <td id=\"T_591bc_row0_col2\" class=\"data row0 col2\" >4.5931</td>\n",
       "      <td id=\"T_591bc_row0_col3\" class=\"data row0 col3\" >0</td>\n",
       "      <td id=\"T_591bc_row0_col4\" class=\"data row0 col4\" >0</td>\n",
       "      <td id=\"T_591bc_row0_col5\" class=\"data row0 col5\" >0</td>\n",
       "    </tr>\n",
       "  </tbody>\n",
       "</table>\n"
      ],
      "text/plain": [
       "<pandas.io.formats.style.Styler at 0x239f4c69cd0>"
      ]
     },
     "metadata": {},
     "output_type": "display_data"
    },
    {
     "data": {
      "text/html": [],
      "text/plain": [
       "<IPython.core.display.HTML object>"
      ]
     },
     "metadata": {},
     "output_type": "display_data"
    },
    {
     "data": {
      "text/html": [],
      "text/plain": [
       "<IPython.core.display.HTML object>"
      ]
     },
     "metadata": {},
     "output_type": "display_data"
    },
    {
     "data": {
      "image/png": "[encoded data removed]",
      "text/plain": [
       "<Figure size 800x550 with 1 Axes>"
      ]
     },
     "metadata": {},
     "output_type": "display_data"
    }
   ],
   "source": [
    "setup(data = population, transformation = True, normalize = True, pca = True,\n",
    "      normalize_method = 'zscore', transformation_method = 'yeo-johnson',\n",
    "      pca_method = 'linear', verbose=False)\n",
    "x = create_model('kmeans')\n",
    "plot_model(x, plot = 'elbow')"
   ]
  },
  {
   "cell_type": "code",
   "execution_count": 27,
   "id": "3bbaa0e0-afa2-49c9-b4eb-74ab960bd1b7",
   "metadata": {},
   "outputs": [
    {
     "name": "stdout",
     "output_type": "stream",
     "text": [
      "For Cluster = 3\n"
     ]
    },
    {
     "data": {
      "text/html": [],
      "text/plain": [
       "<IPython.core.display.HTML object>"
      ]
     },
     "metadata": {},
     "output_type": "display_data"
    },
    {
     "data": {
      "text/html": [
       "<style type=\"text/css\">\n",
       "</style>\n",
       "<table id=\"T_f6d5b\">\n",
       "  <thead>\n",
       "    <tr>\n",
       "      <th class=\"blank level0\" >&nbsp;</th>\n",
       "      <th id=\"T_f6d5b_level0_col0\" class=\"col_heading level0 col0\" >Silhouette</th>\n",
       "      <th id=\"T_f6d5b_level0_col1\" class=\"col_heading level0 col1\" >Calinski-Harabasz</th>\n",
       "      <th id=\"T_f6d5b_level0_col2\" class=\"col_heading level0 col2\" >Davies-Bouldin</th>\n",
       "      <th id=\"T_f6d5b_level0_col3\" class=\"col_heading level0 col3\" >Homogeneity</th>\n",
       "      <th id=\"T_f6d5b_level0_col4\" class=\"col_heading level0 col4\" >Rand Index</th>\n",
       "      <th id=\"T_f6d5b_level0_col5\" class=\"col_heading level0 col5\" >Completeness</th>\n",
       "    </tr>\n",
       "  </thead>\n",
       "  <tbody>\n",
       "    <tr>\n",
       "      <th id=\"T_f6d5b_level0_row0\" class=\"row_heading level0 row0\" >0</th>\n",
       "      <td id=\"T_f6d5b_row0_col0\" class=\"data row0 col0\" >0.0279</td>\n",
       "      <td id=\"T_f6d5b_row0_col1\" class=\"data row0 col1\" >11.5172</td>\n",
       "      <td id=\"T_f6d5b_row0_col2\" class=\"data row0 col2\" >5.0868</td>\n",
       "      <td id=\"T_f6d5b_row0_col3\" class=\"data row0 col3\" >0</td>\n",
       "      <td id=\"T_f6d5b_row0_col4\" class=\"data row0 col4\" >0</td>\n",
       "      <td id=\"T_f6d5b_row0_col5\" class=\"data row0 col5\" >0</td>\n",
       "    </tr>\n",
       "  </tbody>\n",
       "</table>\n"
      ],
      "text/plain": [
       "<pandas.io.formats.style.Styler at 0x239f9c5a450>"
      ]
     },
     "metadata": {},
     "output_type": "display_data"
    },
    {
     "data": {
      "text/html": [],
      "text/plain": [
       "<IPython.core.display.HTML object>"
      ]
     },
     "metadata": {},
     "output_type": "display_data"
    },
    {
     "name": "stdout",
     "output_type": "stream",
     "text": [
      "For Cluster = 4\n"
     ]
    },
    {
     "data": {
      "text/html": [],
      "text/plain": [
       "<IPython.core.display.HTML object>"
      ]
     },
     "metadata": {},
     "output_type": "display_data"
    },
    {
     "data": {
      "text/html": [
       "<style type=\"text/css\">\n",
       "</style>\n",
       "<table id=\"T_6d53d\">\n",
       "  <thead>\n",
       "    <tr>\n",
       "      <th class=\"blank level0\" >&nbsp;</th>\n",
       "      <th id=\"T_6d53d_level0_col0\" class=\"col_heading level0 col0\" >Silhouette</th>\n",
       "      <th id=\"T_6d53d_level0_col1\" class=\"col_heading level0 col1\" >Calinski-Harabasz</th>\n",
       "      <th id=\"T_6d53d_level0_col2\" class=\"col_heading level0 col2\" >Davies-Bouldin</th>\n",
       "      <th id=\"T_6d53d_level0_col3\" class=\"col_heading level0 col3\" >Homogeneity</th>\n",
       "      <th id=\"T_6d53d_level0_col4\" class=\"col_heading level0 col4\" >Rand Index</th>\n",
       "      <th id=\"T_6d53d_level0_col5\" class=\"col_heading level0 col5\" >Completeness</th>\n",
       "    </tr>\n",
       "  </thead>\n",
       "  <tbody>\n",
       "    <tr>\n",
       "      <th id=\"T_6d53d_level0_row0\" class=\"row_heading level0 row0\" >0</th>\n",
       "      <td id=\"T_6d53d_row0_col0\" class=\"data row0 col0\" >0.0272</td>\n",
       "      <td id=\"T_6d53d_row0_col1\" class=\"data row0 col1\" >9.1942</td>\n",
       "      <td id=\"T_6d53d_row0_col2\" class=\"data row0 col2\" >4.3964</td>\n",
       "      <td id=\"T_6d53d_row0_col3\" class=\"data row0 col3\" >0</td>\n",
       "      <td id=\"T_6d53d_row0_col4\" class=\"data row0 col4\" >0</td>\n",
       "      <td id=\"T_6d53d_row0_col5\" class=\"data row0 col5\" >0</td>\n",
       "    </tr>\n",
       "  </tbody>\n",
       "</table>\n"
      ],
      "text/plain": [
       "<pandas.io.formats.style.Styler at 0x239f99ff8d0>"
      ]
     },
     "metadata": {},
     "output_type": "display_data"
    },
    {
     "data": {
      "text/html": [],
      "text/plain": [
       "<IPython.core.display.HTML object>"
      ]
     },
     "metadata": {},
     "output_type": "display_data"
    },
    {
     "name": "stdout",
     "output_type": "stream",
     "text": [
      "For Cluster = 5\n"
     ]
    },
    {
     "data": {
      "text/html": [],
      "text/plain": [
       "<IPython.core.display.HTML object>"
      ]
     },
     "metadata": {},
     "output_type": "display_data"
    },
    {
     "data": {
      "text/html": [
       "<style type=\"text/css\">\n",
       "</style>\n",
       "<table id=\"T_1903d\">\n",
       "  <thead>\n",
       "    <tr>\n",
       "      <th class=\"blank level0\" >&nbsp;</th>\n",
       "      <th id=\"T_1903d_level0_col0\" class=\"col_heading level0 col0\" >Silhouette</th>\n",
       "      <th id=\"T_1903d_level0_col1\" class=\"col_heading level0 col1\" >Calinski-Harabasz</th>\n",
       "      <th id=\"T_1903d_level0_col2\" class=\"col_heading level0 col2\" >Davies-Bouldin</th>\n",
       "      <th id=\"T_1903d_level0_col3\" class=\"col_heading level0 col3\" >Homogeneity</th>\n",
       "      <th id=\"T_1903d_level0_col4\" class=\"col_heading level0 col4\" >Rand Index</th>\n",
       "      <th id=\"T_1903d_level0_col5\" class=\"col_heading level0 col5\" >Completeness</th>\n",
       "    </tr>\n",
       "  </thead>\n",
       "  <tbody>\n",
       "    <tr>\n",
       "      <th id=\"T_1903d_level0_row0\" class=\"row_heading level0 row0\" >0</th>\n",
       "      <td id=\"T_1903d_row0_col0\" class=\"data row0 col0\" >0.0272</td>\n",
       "      <td id=\"T_1903d_row0_col1\" class=\"data row0 col1\" >7.3847</td>\n",
       "      <td id=\"T_1903d_row0_col2\" class=\"data row0 col2\" >4.0174</td>\n",
       "      <td id=\"T_1903d_row0_col3\" class=\"data row0 col3\" >0</td>\n",
       "      <td id=\"T_1903d_row0_col4\" class=\"data row0 col4\" >0</td>\n",
       "      <td id=\"T_1903d_row0_col5\" class=\"data row0 col5\" >0</td>\n",
       "    </tr>\n",
       "  </tbody>\n",
       "</table>\n"
      ],
      "text/plain": [
       "<pandas.io.formats.style.Styler at 0x239f57ed810>"
      ]
     },
     "metadata": {},
     "output_type": "display_data"
    },
    {
     "data": {
      "text/html": [],
      "text/plain": [
       "<IPython.core.display.HTML object>"
      ]
     },
     "metadata": {},
     "output_type": "display_data"
    }
   ],
   "source": [
    "setup(data = population, transformation = True, normalize = True, pca = True,\n",
    "      normalize_method = 'zscore',\n",
    "      transformation_method = 'yeo-johnson',\n",
    "      pca_method = 'linear', verbose=False)\n",
    "\n",
    "print(\"For Cluster = 3\")\n",
    "x = create_model('kmeans', num_clusters = 3)\n",
    "\n",
    "print(\"For Cluster = 4\")\n",
    "x = create_model('kmeans', num_clusters = 4)\n",
    "\n",
    "print(\"For Cluster = 5\")\n",
    "x = create_model('kmeans', num_clusters = 5)"
   ]
  },
  {
   "cell_type": "markdown",
   "id": "cd6921f1-d961-4035-86f6-192cefffc91f",
   "metadata": {},
   "source": [
    "# Using Hierarical Clustering"
   ]
  },
  {
   "cell_type": "code",
   "execution_count": 28,
   "id": "26459c17-060e-46e6-976d-51c8e3c3e823",
   "metadata": {},
   "outputs": [
    {
     "data": {
      "text/html": [],
      "text/plain": [
       "<IPython.core.display.HTML object>"
      ]
     },
     "metadata": {},
     "output_type": "display_data"
    },
    {
     "data": {
      "text/html": [
       "<style type=\"text/css\">\n",
       "</style>\n",
       "<table id=\"T_aedd6\">\n",
       "  <thead>\n",
       "    <tr>\n",
       "      <th class=\"blank level0\" >&nbsp;</th>\n",
       "      <th id=\"T_aedd6_level0_col0\" class=\"col_heading level0 col0\" >Silhouette</th>\n",
       "      <th id=\"T_aedd6_level0_col1\" class=\"col_heading level0 col1\" >Calinski-Harabasz</th>\n",
       "      <th id=\"T_aedd6_level0_col2\" class=\"col_heading level0 col2\" >Davies-Bouldin</th>\n",
       "      <th id=\"T_aedd6_level0_col3\" class=\"col_heading level0 col3\" >Homogeneity</th>\n",
       "      <th id=\"T_aedd6_level0_col4\" class=\"col_heading level0 col4\" >Rand Index</th>\n",
       "      <th id=\"T_aedd6_level0_col5\" class=\"col_heading level0 col5\" >Completeness</th>\n",
       "    </tr>\n",
       "  </thead>\n",
       "  <tbody>\n",
       "    <tr>\n",
       "      <th id=\"T_aedd6_level0_row0\" class=\"row_heading level0 row0\" >0</th>\n",
       "      <td id=\"T_aedd6_row0_col0\" class=\"data row0 col0\" >0.2614</td>\n",
       "      <td id=\"T_aedd6_row0_col1\" class=\"data row0 col1\" >87.4201</td>\n",
       "      <td id=\"T_aedd6_row0_col2\" class=\"data row0 col2\" >1.3069</td>\n",
       "      <td id=\"T_aedd6_row0_col3\" class=\"data row0 col3\" >0</td>\n",
       "      <td id=\"T_aedd6_row0_col4\" class=\"data row0 col4\" >0</td>\n",
       "      <td id=\"T_aedd6_row0_col5\" class=\"data row0 col5\" >0</td>\n",
       "    </tr>\n",
       "  </tbody>\n",
       "</table>\n"
      ],
      "text/plain": [
       "<pandas.io.formats.style.Styler at 0x239f4c55810>"
      ]
     },
     "metadata": {},
     "output_type": "display_data"
    },
    {
     "data": {
      "text/html": [],
      "text/plain": [
       "<IPython.core.display.HTML object>"
      ]
     },
     "metadata": {},
     "output_type": "display_data"
    },
    {
     "data": {
      "text/html": [],
      "text/plain": [
       "<IPython.core.display.HTML object>"
      ]
     },
     "metadata": {},
     "output_type": "display_data"
    },
    {
     "data": {
      "image/png": "[encoded data removed]",
      "text/plain": [
       "<Figure size 800x550 with 1 Axes>"
      ]
     },
     "metadata": {},
     "output_type": "display_data"
    }
   ],
   "source": [
    "setup(data = population, verbose=False)\n",
    "\n",
    "x = create_model('hclust')\n",
    "plot_model(x, plot = 'elbow')"
   ]
  },
  {
   "cell_type": "markdown",
   "id": "cd75b553-13e9-4e51-b6d5-2e0ac4bdbfda",
   "metadata": {},
   "source": [
    "## H-Clust - No data Preprocessing"
   ]
  },
  {
   "cell_type": "code",
   "execution_count": 29,
   "id": "1639dee0-6869-47d1-9b8a-98778ce2cc4f",
   "metadata": {},
   "outputs": [
    {
     "name": "stdout",
     "output_type": "stream",
     "text": [
      "For Cluster = 3\n"
     ]
    },
    {
     "data": {
      "text/html": [],
      "text/plain": [
       "<IPython.core.display.HTML object>"
      ]
     },
     "metadata": {},
     "output_type": "display_data"
    },
    {
     "data": {
      "text/html": [
       "<style type=\"text/css\">\n",
       "</style>\n",
       "<table id=\"T_78e2a\">\n",
       "  <thead>\n",
       "    <tr>\n",
       "      <th class=\"blank level0\" >&nbsp;</th>\n",
       "      <th id=\"T_78e2a_level0_col0\" class=\"col_heading level0 col0\" >Silhouette</th>\n",
       "      <th id=\"T_78e2a_level0_col1\" class=\"col_heading level0 col1\" >Calinski-Harabasz</th>\n",
       "      <th id=\"T_78e2a_level0_col2\" class=\"col_heading level0 col2\" >Davies-Bouldin</th>\n",
       "      <th id=\"T_78e2a_level0_col3\" class=\"col_heading level0 col3\" >Homogeneity</th>\n",
       "      <th id=\"T_78e2a_level0_col4\" class=\"col_heading level0 col4\" >Rand Index</th>\n",
       "      <th id=\"T_78e2a_level0_col5\" class=\"col_heading level0 col5\" >Completeness</th>\n",
       "    </tr>\n",
       "  </thead>\n",
       "  <tbody>\n",
       "    <tr>\n",
       "      <th id=\"T_78e2a_level0_row0\" class=\"row_heading level0 row0\" >0</th>\n",
       "      <td id=\"T_78e2a_row0_col0\" class=\"data row0 col0\" >0.3445</td>\n",
       "      <td id=\"T_78e2a_row0_col1\" class=\"data row0 col1\" >101.8723</td>\n",
       "      <td id=\"T_78e2a_row0_col2\" class=\"data row0 col2\" >0.8718</td>\n",
       "      <td id=\"T_78e2a_row0_col3\" class=\"data row0 col3\" >0</td>\n",
       "      <td id=\"T_78e2a_row0_col4\" class=\"data row0 col4\" >0</td>\n",
       "      <td id=\"T_78e2a_row0_col5\" class=\"data row0 col5\" >0</td>\n",
       "    </tr>\n",
       "  </tbody>\n",
       "</table>\n"
      ],
      "text/plain": [
       "<pandas.io.formats.style.Styler at 0x239f57ed810>"
      ]
     },
     "metadata": {},
     "output_type": "display_data"
    },
    {
     "data": {
      "text/html": [],
      "text/plain": [
       "<IPython.core.display.HTML object>"
      ]
     },
     "metadata": {},
     "output_type": "display_data"
    },
    {
     "name": "stdout",
     "output_type": "stream",
     "text": [
      "For Cluster = 4\n"
     ]
    },
    {
     "data": {
      "text/html": [],
      "text/plain": [
       "<IPython.core.display.HTML object>"
      ]
     },
     "metadata": {},
     "output_type": "display_data"
    },
    {
     "data": {
      "text/html": [
       "<style type=\"text/css\">\n",
       "</style>\n",
       "<table id=\"T_8c5fb\">\n",
       "  <thead>\n",
       "    <tr>\n",
       "      <th class=\"blank level0\" >&nbsp;</th>\n",
       "      <th id=\"T_8c5fb_level0_col0\" class=\"col_heading level0 col0\" >Silhouette</th>\n",
       "      <th id=\"T_8c5fb_level0_col1\" class=\"col_heading level0 col1\" >Calinski-Harabasz</th>\n",
       "      <th id=\"T_8c5fb_level0_col2\" class=\"col_heading level0 col2\" >Davies-Bouldin</th>\n",
       "      <th id=\"T_8c5fb_level0_col3\" class=\"col_heading level0 col3\" >Homogeneity</th>\n",
       "      <th id=\"T_8c5fb_level0_col4\" class=\"col_heading level0 col4\" >Rand Index</th>\n",
       "      <th id=\"T_8c5fb_level0_col5\" class=\"col_heading level0 col5\" >Completeness</th>\n",
       "    </tr>\n",
       "  </thead>\n",
       "  <tbody>\n",
       "    <tr>\n",
       "      <th id=\"T_8c5fb_level0_row0\" class=\"row_heading level0 row0\" >0</th>\n",
       "      <td id=\"T_8c5fb_row0_col0\" class=\"data row0 col0\" >0.2614</td>\n",
       "      <td id=\"T_8c5fb_row0_col1\" class=\"data row0 col1\" >87.4201</td>\n",
       "      <td id=\"T_8c5fb_row0_col2\" class=\"data row0 col2\" >1.3069</td>\n",
       "      <td id=\"T_8c5fb_row0_col3\" class=\"data row0 col3\" >0</td>\n",
       "      <td id=\"T_8c5fb_row0_col4\" class=\"data row0 col4\" >0</td>\n",
       "      <td id=\"T_8c5fb_row0_col5\" class=\"data row0 col5\" >0</td>\n",
       "    </tr>\n",
       "  </tbody>\n",
       "</table>\n"
      ],
      "text/plain": [
       "<pandas.io.formats.style.Styler at 0x239f578f4d0>"
      ]
     },
     "metadata": {},
     "output_type": "display_data"
    },
    {
     "data": {
      "text/html": [],
      "text/plain": [
       "<IPython.core.display.HTML object>"
      ]
     },
     "metadata": {},
     "output_type": "display_data"
    },
    {
     "name": "stdout",
     "output_type": "stream",
     "text": [
      "For Cluster = 5\n"
     ]
    },
    {
     "data": {
      "text/html": [],
      "text/plain": [
       "<IPython.core.display.HTML object>"
      ]
     },
     "metadata": {},
     "output_type": "display_data"
    },
    {
     "data": {
      "text/html": [
       "<style type=\"text/css\">\n",
       "</style>\n",
       "<table id=\"T_5be86\">\n",
       "  <thead>\n",
       "    <tr>\n",
       "      <th class=\"blank level0\" >&nbsp;</th>\n",
       "      <th id=\"T_5be86_level0_col0\" class=\"col_heading level0 col0\" >Silhouette</th>\n",
       "      <th id=\"T_5be86_level0_col1\" class=\"col_heading level0 col1\" >Calinski-Harabasz</th>\n",
       "      <th id=\"T_5be86_level0_col2\" class=\"col_heading level0 col2\" >Davies-Bouldin</th>\n",
       "      <th id=\"T_5be86_level0_col3\" class=\"col_heading level0 col3\" >Homogeneity</th>\n",
       "      <th id=\"T_5be86_level0_col4\" class=\"col_heading level0 col4\" >Rand Index</th>\n",
       "      <th id=\"T_5be86_level0_col5\" class=\"col_heading level0 col5\" >Completeness</th>\n",
       "    </tr>\n",
       "  </thead>\n",
       "  <tbody>\n",
       "    <tr>\n",
       "      <th id=\"T_5be86_level0_row0\" class=\"row_heading level0 row0\" >0</th>\n",
       "      <td id=\"T_5be86_row0_col0\" class=\"data row0 col0\" >0.2671</td>\n",
       "      <td id=\"T_5be86_row0_col1\" class=\"data row0 col1\" >84.2096</td>\n",
       "      <td id=\"T_5be86_row0_col2\" class=\"data row0 col2\" >1.1521</td>\n",
       "      <td id=\"T_5be86_row0_col3\" class=\"data row0 col3\" >0</td>\n",
       "      <td id=\"T_5be86_row0_col4\" class=\"data row0 col4\" >0</td>\n",
       "      <td id=\"T_5be86_row0_col5\" class=\"data row0 col5\" >0</td>\n",
       "    </tr>\n",
       "  </tbody>\n",
       "</table>\n"
      ],
      "text/plain": [
       "<pandas.io.formats.style.Styler at 0x239f9c38a10>"
      ]
     },
     "metadata": {},
     "output_type": "display_data"
    },
    {
     "data": {
      "text/html": [],
      "text/plain": [
       "<IPython.core.display.HTML object>"
      ]
     },
     "metadata": {},
     "output_type": "display_data"
    }
   ],
   "source": [
    "setup(data = population, verbose=False)\n",
    "\n",
    "print(\"For Cluster = 3\")\n",
    "x = create_model('hclust', num_clusters = 3)\n",
    "\n",
    "print(\"For Cluster = 4\")\n",
    "x = create_model('hclust', num_clusters = 4)\n",
    "\n",
    "print(\"For Cluster = 5\")\n",
    "x = create_model('hclust', num_clusters = 5)"
   ]
  },
  {
   "cell_type": "markdown",
   "id": "931ef6cc-bba3-4f1c-b1ca-05ad4ec3f281",
   "metadata": {},
   "source": [
    "## H-Clust - Using Normalization"
   ]
  },
  {
   "cell_type": "code",
   "execution_count": 47,
   "id": "d082cf23-f11e-42de-90ce-51a628da13a9",
   "metadata": {},
   "outputs": [
    {
     "name": "stdout",
     "output_type": "stream",
     "text": [
      "For Cluster = 3\n"
     ]
    },
    {
     "data": {
      "text/html": [],
      "text/plain": [
       "<IPython.core.display.HTML object>"
      ]
     },
     "metadata": {},
     "output_type": "display_data"
    },
    {
     "data": {
      "text/html": [
       "<style type=\"text/css\">\n",
       "</style>\n",
       "<table id=\"T_2ea85\">\n",
       "  <thead>\n",
       "    <tr>\n",
       "      <th class=\"blank level0\" >&nbsp;</th>\n",
       "      <th id=\"T_2ea85_level0_col0\" class=\"col_heading level0 col0\" >Silhouette</th>\n",
       "      <th id=\"T_2ea85_level0_col1\" class=\"col_heading level0 col1\" >Calinski-Harabasz</th>\n",
       "      <th id=\"T_2ea85_level0_col2\" class=\"col_heading level0 col2\" >Davies-Bouldin</th>\n",
       "      <th id=\"T_2ea85_level0_col3\" class=\"col_heading level0 col3\" >Homogeneity</th>\n",
       "      <th id=\"T_2ea85_level0_col4\" class=\"col_heading level0 col4\" >Rand Index</th>\n",
       "      <th id=\"T_2ea85_level0_col5\" class=\"col_heading level0 col5\" >Completeness</th>\n",
       "    </tr>\n",
       "  </thead>\n",
       "  <tbody>\n",
       "    <tr>\n",
       "      <th id=\"T_2ea85_level0_row0\" class=\"row_heading level0 row0\" >0</th>\n",
       "      <td id=\"T_2ea85_row0_col0\" class=\"data row0 col0\" >0.0498</td>\n",
       "      <td id=\"T_2ea85_row0_col1\" class=\"data row0 col1\" >11.5234</td>\n",
       "      <td id=\"T_2ea85_row0_col2\" class=\"data row0 col2\" >2.9231</td>\n",
       "      <td id=\"T_2ea85_row0_col3\" class=\"data row0 col3\" >0</td>\n",
       "      <td id=\"T_2ea85_row0_col4\" class=\"data row0 col4\" >0</td>\n",
       "      <td id=\"T_2ea85_row0_col5\" class=\"data row0 col5\" >0</td>\n",
       "    </tr>\n",
       "  </tbody>\n",
       "</table>\n"
      ],
      "text/plain": [
       "<pandas.io.formats.style.Styler at 0x239f4cbd810>"
      ]
     },
     "metadata": {},
     "output_type": "display_data"
    },
    {
     "data": {
      "text/html": [],
      "text/plain": [
       "<IPython.core.display.HTML object>"
      ]
     },
     "metadata": {},
     "output_type": "display_data"
    },
    {
     "name": "stdout",
     "output_type": "stream",
     "text": [
      "For Cluster = 4\n"
     ]
    },
    {
     "data": {
      "text/html": [],
      "text/plain": [
       "<IPython.core.display.HTML object>"
      ]
     },
     "metadata": {},
     "output_type": "display_data"
    },
    {
     "data": {
      "text/html": [
       "<style type=\"text/css\">\n",
       "</style>\n",
       "<table id=\"T_60698\">\n",
       "  <thead>\n",
       "    <tr>\n",
       "      <th class=\"blank level0\" >&nbsp;</th>\n",
       "      <th id=\"T_60698_level0_col0\" class=\"col_heading level0 col0\" >Silhouette</th>\n",
       "      <th id=\"T_60698_level0_col1\" class=\"col_heading level0 col1\" >Calinski-Harabasz</th>\n",
       "      <th id=\"T_60698_level0_col2\" class=\"col_heading level0 col2\" >Davies-Bouldin</th>\n",
       "      <th id=\"T_60698_level0_col3\" class=\"col_heading level0 col3\" >Homogeneity</th>\n",
       "      <th id=\"T_60698_level0_col4\" class=\"col_heading level0 col4\" >Rand Index</th>\n",
       "      <th id=\"T_60698_level0_col5\" class=\"col_heading level0 col5\" >Completeness</th>\n",
       "    </tr>\n",
       "  </thead>\n",
       "  <tbody>\n",
       "    <tr>\n",
       "      <th id=\"T_60698_level0_row0\" class=\"row_heading level0 row0\" >0</th>\n",
       "      <td id=\"T_60698_row0_col0\" class=\"data row0 col0\" >0.0266</td>\n",
       "      <td id=\"T_60698_row0_col1\" class=\"data row0 col1\" >9.4197</td>\n",
       "      <td id=\"T_60698_row0_col2\" class=\"data row0 col2\" >4.2791</td>\n",
       "      <td id=\"T_60698_row0_col3\" class=\"data row0 col3\" >0</td>\n",
       "      <td id=\"T_60698_row0_col4\" class=\"data row0 col4\" >0</td>\n",
       "      <td id=\"T_60698_row0_col5\" class=\"data row0 col5\" >0</td>\n",
       "    </tr>\n",
       "  </tbody>\n",
       "</table>\n"
      ],
      "text/plain": [
       "<pandas.io.formats.style.Styler at 0x239f9ce9150>"
      ]
     },
     "metadata": {},
     "output_type": "display_data"
    },
    {
     "data": {
      "text/html": [],
      "text/plain": [
       "<IPython.core.display.HTML object>"
      ]
     },
     "metadata": {},
     "output_type": "display_data"
    },
    {
     "name": "stdout",
     "output_type": "stream",
     "text": [
      "For Cluster = 5\n"
     ]
    },
    {
     "data": {
      "text/html": [],
      "text/plain": [
       "<IPython.core.display.HTML object>"
      ]
     },
     "metadata": {},
     "output_type": "display_data"
    },
    {
     "data": {
      "text/html": [
       "<style type=\"text/css\">\n",
       "</style>\n",
       "<table id=\"T_5f430\">\n",
       "  <thead>\n",
       "    <tr>\n",
       "      <th class=\"blank level0\" >&nbsp;</th>\n",
       "      <th id=\"T_5f430_level0_col0\" class=\"col_heading level0 col0\" >Silhouette</th>\n",
       "      <th id=\"T_5f430_level0_col1\" class=\"col_heading level0 col1\" >Calinski-Harabasz</th>\n",
       "      <th id=\"T_5f430_level0_col2\" class=\"col_heading level0 col2\" >Davies-Bouldin</th>\n",
       "      <th id=\"T_5f430_level0_col3\" class=\"col_heading level0 col3\" >Homogeneity</th>\n",
       "      <th id=\"T_5f430_level0_col4\" class=\"col_heading level0 col4\" >Rand Index</th>\n",
       "      <th id=\"T_5f430_level0_col5\" class=\"col_heading level0 col5\" >Completeness</th>\n",
       "    </tr>\n",
       "  </thead>\n",
       "  <tbody>\n",
       "    <tr>\n",
       "      <th id=\"T_5f430_level0_row0\" class=\"row_heading level0 row0\" >0</th>\n",
       "      <td id=\"T_5f430_row0_col0\" class=\"data row0 col0\" >0.0223</td>\n",
       "      <td id=\"T_5f430_row0_col1\" class=\"data row0 col1\" >8.0437</td>\n",
       "      <td id=\"T_5f430_row0_col2\" class=\"data row0 col2\" >4.1323</td>\n",
       "      <td id=\"T_5f430_row0_col3\" class=\"data row0 col3\" >0</td>\n",
       "      <td id=\"T_5f430_row0_col4\" class=\"data row0 col4\" >0</td>\n",
       "      <td id=\"T_5f430_row0_col5\" class=\"data row0 col5\" >0</td>\n",
       "    </tr>\n",
       "  </tbody>\n",
       "</table>\n"
      ],
      "text/plain": [
       "<pandas.io.formats.style.Styler at 0x239f4cb6ad0>"
      ]
     },
     "metadata": {},
     "output_type": "display_data"
    },
    {
     "data": {
      "text/html": [],
      "text/plain": [
       "<IPython.core.display.HTML object>"
      ]
     },
     "metadata": {},
     "output_type": "display_data"
    }
   ],
   "source": [
    "\n",
    "setup(data = population, normalize = True, normalize_method = 'zscore', verbose=False)\n",
    "\n",
    "print(\"For Cluster = 3\")\n",
    "x = create_model('hclust', num_clusters = 3)\n",
    "\n",
    "print(\"For Cluster = 4\")\n",
    "x = create_model('hclust', num_clusters = 4)\n",
    "\n",
    "print(\"For Cluster = 5\")\n",
    "x = create_model('hclust', num_clusters = 5)"
   ]
  },
  {
   "cell_type": "markdown",
   "id": "566c418e-a7aa-48d3-97b5-a0ef0fe88254",
   "metadata": {},
   "source": [
    "## H-Clust - Using Transformation"
   ]
  },
  {
   "cell_type": "code",
   "execution_count": 31,
   "id": "b4cb7820-3b1f-4cd5-9dd3-4f1ed775dec5",
   "metadata": {},
   "outputs": [
    {
     "name": "stdout",
     "output_type": "stream",
     "text": [
      "For Cluster = 3\n"
     ]
    },
    {
     "data": {
      "text/html": [],
      "text/plain": [
       "<IPython.core.display.HTML object>"
      ]
     },
     "metadata": {},
     "output_type": "display_data"
    },
    {
     "data": {
      "text/html": [
       "<style type=\"text/css\">\n",
       "</style>\n",
       "<table id=\"T_09aa4\">\n",
       "  <thead>\n",
       "    <tr>\n",
       "      <th class=\"blank level0\" >&nbsp;</th>\n",
       "      <th id=\"T_09aa4_level0_col0\" class=\"col_heading level0 col0\" >Silhouette</th>\n",
       "      <th id=\"T_09aa4_level0_col1\" class=\"col_heading level0 col1\" >Calinski-Harabasz</th>\n",
       "      <th id=\"T_09aa4_level0_col2\" class=\"col_heading level0 col2\" >Davies-Bouldin</th>\n",
       "      <th id=\"T_09aa4_level0_col3\" class=\"col_heading level0 col3\" >Homogeneity</th>\n",
       "      <th id=\"T_09aa4_level0_col4\" class=\"col_heading level0 col4\" >Rand Index</th>\n",
       "      <th id=\"T_09aa4_level0_col5\" class=\"col_heading level0 col5\" >Completeness</th>\n",
       "    </tr>\n",
       "  </thead>\n",
       "  <tbody>\n",
       "    <tr>\n",
       "      <th id=\"T_09aa4_level0_row0\" class=\"row_heading level0 row0\" >0</th>\n",
       "      <td id=\"T_09aa4_row0_col0\" class=\"data row0 col0\" >0.2528</td>\n",
       "      <td id=\"T_09aa4_row0_col1\" class=\"data row0 col1\" >92.9111</td>\n",
       "      <td id=\"T_09aa4_row0_col2\" class=\"data row0 col2\" >1.3316</td>\n",
       "      <td id=\"T_09aa4_row0_col3\" class=\"data row0 col3\" >0</td>\n",
       "      <td id=\"T_09aa4_row0_col4\" class=\"data row0 col4\" >0</td>\n",
       "      <td id=\"T_09aa4_row0_col5\" class=\"data row0 col5\" >0</td>\n",
       "    </tr>\n",
       "  </tbody>\n",
       "</table>\n"
      ],
      "text/plain": [
       "<pandas.io.formats.style.Styler at 0x239f4cca8d0>"
      ]
     },
     "metadata": {},
     "output_type": "display_data"
    },
    {
     "data": {
      "text/html": [],
      "text/plain": [
       "<IPython.core.display.HTML object>"
      ]
     },
     "metadata": {},
     "output_type": "display_data"
    },
    {
     "name": "stdout",
     "output_type": "stream",
     "text": [
      "For Cluster = 4\n"
     ]
    },
    {
     "data": {
      "text/html": [],
      "text/plain": [
       "<IPython.core.display.HTML object>"
      ]
     },
     "metadata": {},
     "output_type": "display_data"
    },
    {
     "data": {
      "text/html": [
       "<style type=\"text/css\">\n",
       "</style>\n",
       "<table id=\"T_9f1ec\">\n",
       "  <thead>\n",
       "    <tr>\n",
       "      <th class=\"blank level0\" >&nbsp;</th>\n",
       "      <th id=\"T_9f1ec_level0_col0\" class=\"col_heading level0 col0\" >Silhouette</th>\n",
       "      <th id=\"T_9f1ec_level0_col1\" class=\"col_heading level0 col1\" >Calinski-Harabasz</th>\n",
       "      <th id=\"T_9f1ec_level0_col2\" class=\"col_heading level0 col2\" >Davies-Bouldin</th>\n",
       "      <th id=\"T_9f1ec_level0_col3\" class=\"col_heading level0 col3\" >Homogeneity</th>\n",
       "      <th id=\"T_9f1ec_level0_col4\" class=\"col_heading level0 col4\" >Rand Index</th>\n",
       "      <th id=\"T_9f1ec_level0_col5\" class=\"col_heading level0 col5\" >Completeness</th>\n",
       "    </tr>\n",
       "  </thead>\n",
       "  <tbody>\n",
       "    <tr>\n",
       "      <th id=\"T_9f1ec_level0_row0\" class=\"row_heading level0 row0\" >0</th>\n",
       "      <td id=\"T_9f1ec_row0_col0\" class=\"data row0 col0\" >0.2417</td>\n",
       "      <td id=\"T_9f1ec_row0_col1\" class=\"data row0 col1\" >76.6607</td>\n",
       "      <td id=\"T_9f1ec_row0_col2\" class=\"data row0 col2\" >1.1646</td>\n",
       "      <td id=\"T_9f1ec_row0_col3\" class=\"data row0 col3\" >0</td>\n",
       "      <td id=\"T_9f1ec_row0_col4\" class=\"data row0 col4\" >0</td>\n",
       "      <td id=\"T_9f1ec_row0_col5\" class=\"data row0 col5\" >0</td>\n",
       "    </tr>\n",
       "  </tbody>\n",
       "</table>\n"
      ],
      "text/plain": [
       "<pandas.io.formats.style.Styler at 0x239f9a0ec50>"
      ]
     },
     "metadata": {},
     "output_type": "display_data"
    },
    {
     "data": {
      "text/html": [],
      "text/plain": [
       "<IPython.core.display.HTML object>"
      ]
     },
     "metadata": {},
     "output_type": "display_data"
    },
    {
     "name": "stdout",
     "output_type": "stream",
     "text": [
      "For Cluster = 5\n"
     ]
    },
    {
     "data": {
      "text/html": [],
      "text/plain": [
       "<IPython.core.display.HTML object>"
      ]
     },
     "metadata": {},
     "output_type": "display_data"
    },
    {
     "data": {
      "text/html": [
       "<style type=\"text/css\">\n",
       "</style>\n",
       "<table id=\"T_36fea\">\n",
       "  <thead>\n",
       "    <tr>\n",
       "      <th class=\"blank level0\" >&nbsp;</th>\n",
       "      <th id=\"T_36fea_level0_col0\" class=\"col_heading level0 col0\" >Silhouette</th>\n",
       "      <th id=\"T_36fea_level0_col1\" class=\"col_heading level0 col1\" >Calinski-Harabasz</th>\n",
       "      <th id=\"T_36fea_level0_col2\" class=\"col_heading level0 col2\" >Davies-Bouldin</th>\n",
       "      <th id=\"T_36fea_level0_col3\" class=\"col_heading level0 col3\" >Homogeneity</th>\n",
       "      <th id=\"T_36fea_level0_col4\" class=\"col_heading level0 col4\" >Rand Index</th>\n",
       "      <th id=\"T_36fea_level0_col5\" class=\"col_heading level0 col5\" >Completeness</th>\n",
       "    </tr>\n",
       "  </thead>\n",
       "  <tbody>\n",
       "    <tr>\n",
       "      <th id=\"T_36fea_level0_row0\" class=\"row_heading level0 row0\" >0</th>\n",
       "      <td id=\"T_36fea_row0_col0\" class=\"data row0 col0\" >0.2195</td>\n",
       "      <td id=\"T_36fea_row0_col1\" class=\"data row0 col1\" >68.3883</td>\n",
       "      <td id=\"T_36fea_row0_col2\" class=\"data row0 col2\" >1.5329</td>\n",
       "      <td id=\"T_36fea_row0_col3\" class=\"data row0 col3\" >0</td>\n",
       "      <td id=\"T_36fea_row0_col4\" class=\"data row0 col4\" >0</td>\n",
       "      <td id=\"T_36fea_row0_col5\" class=\"data row0 col5\" >0</td>\n",
       "    </tr>\n",
       "  </tbody>\n",
       "</table>\n"
      ],
      "text/plain": [
       "<pandas.io.formats.style.Styler at 0x239f9a0a7d0>"
      ]
     },
     "metadata": {},
     "output_type": "display_data"
    },
    {
     "data": {
      "text/html": [],
      "text/plain": [
       "<IPython.core.display.HTML object>"
      ]
     },
     "metadata": {},
     "output_type": "display_data"
    }
   ],
   "source": [
    "setup(data = population, transformation = True, transformation_method = 'yeo-johnson', verbose=False)\n",
    "\n",
    "print(\"For Cluster = 3\")\n",
    "x = create_model('hclust', num_clusters = 3)\n",
    "\n",
    "print(\"For Cluster = 4\")\n",
    "x = create_model('hclust', num_clusters = 4)\n",
    "\n",
    "print(\"For Cluster = 5\")\n",
    "x = create_model('hclust', num_clusters = 5)"
   ]
  },
  {
   "cell_type": "markdown",
   "id": "1c122353-0814-46d6-b490-d687d44d8697",
   "metadata": {},
   "source": [
    "## H-Clust - Using PCA"
   ]
  },
  {
   "cell_type": "code",
   "execution_count": 32,
   "id": "c30e8889-e1e3-4897-889d-1c8f7cf555ad",
   "metadata": {},
   "outputs": [
    {
     "name": "stdout",
     "output_type": "stream",
     "text": [
      "For Cluster = 3\n"
     ]
    },
    {
     "data": {
      "text/html": [],
      "text/plain": [
       "<IPython.core.display.HTML object>"
      ]
     },
     "metadata": {},
     "output_type": "display_data"
    },
    {
     "data": {
      "text/html": [
       "<style type=\"text/css\">\n",
       "</style>\n",
       "<table id=\"T_8d85f\">\n",
       "  <thead>\n",
       "    <tr>\n",
       "      <th class=\"blank level0\" >&nbsp;</th>\n",
       "      <th id=\"T_8d85f_level0_col0\" class=\"col_heading level0 col0\" >Silhouette</th>\n",
       "      <th id=\"T_8d85f_level0_col1\" class=\"col_heading level0 col1\" >Calinski-Harabasz</th>\n",
       "      <th id=\"T_8d85f_level0_col2\" class=\"col_heading level0 col2\" >Davies-Bouldin</th>\n",
       "      <th id=\"T_8d85f_level0_col3\" class=\"col_heading level0 col3\" >Homogeneity</th>\n",
       "      <th id=\"T_8d85f_level0_col4\" class=\"col_heading level0 col4\" >Rand Index</th>\n",
       "      <th id=\"T_8d85f_level0_col5\" class=\"col_heading level0 col5\" >Completeness</th>\n",
       "    </tr>\n",
       "  </thead>\n",
       "  <tbody>\n",
       "    <tr>\n",
       "      <th id=\"T_8d85f_level0_row0\" class=\"row_heading level0 row0\" >0</th>\n",
       "      <td id=\"T_8d85f_row0_col0\" class=\"data row0 col0\" >0.3445</td>\n",
       "      <td id=\"T_8d85f_row0_col1\" class=\"data row0 col1\" >101.8723</td>\n",
       "      <td id=\"T_8d85f_row0_col2\" class=\"data row0 col2\" >0.8718</td>\n",
       "      <td id=\"T_8d85f_row0_col3\" class=\"data row0 col3\" >0</td>\n",
       "      <td id=\"T_8d85f_row0_col4\" class=\"data row0 col4\" >0</td>\n",
       "      <td id=\"T_8d85f_row0_col5\" class=\"data row0 col5\" >0</td>\n",
       "    </tr>\n",
       "  </tbody>\n",
       "</table>\n"
      ],
      "text/plain": [
       "<pandas.io.formats.style.Styler at 0x239f9c3ba10>"
      ]
     },
     "metadata": {},
     "output_type": "display_data"
    },
    {
     "data": {
      "text/html": [],
      "text/plain": [
       "<IPython.core.display.HTML object>"
      ]
     },
     "metadata": {},
     "output_type": "display_data"
    },
    {
     "name": "stdout",
     "output_type": "stream",
     "text": [
      "For Cluster = 4\n"
     ]
    },
    {
     "data": {
      "text/html": [],
      "text/plain": [
       "<IPython.core.display.HTML object>"
      ]
     },
     "metadata": {},
     "output_type": "display_data"
    },
    {
     "data": {
      "text/html": [
       "<style type=\"text/css\">\n",
       "</style>\n",
       "<table id=\"T_40907\">\n",
       "  <thead>\n",
       "    <tr>\n",
       "      <th class=\"blank level0\" >&nbsp;</th>\n",
       "      <th id=\"T_40907_level0_col0\" class=\"col_heading level0 col0\" >Silhouette</th>\n",
       "      <th id=\"T_40907_level0_col1\" class=\"col_heading level0 col1\" >Calinski-Harabasz</th>\n",
       "      <th id=\"T_40907_level0_col2\" class=\"col_heading level0 col2\" >Davies-Bouldin</th>\n",
       "      <th id=\"T_40907_level0_col3\" class=\"col_heading level0 col3\" >Homogeneity</th>\n",
       "      <th id=\"T_40907_level0_col4\" class=\"col_heading level0 col4\" >Rand Index</th>\n",
       "      <th id=\"T_40907_level0_col5\" class=\"col_heading level0 col5\" >Completeness</th>\n",
       "    </tr>\n",
       "  </thead>\n",
       "  <tbody>\n",
       "    <tr>\n",
       "      <th id=\"T_40907_level0_row0\" class=\"row_heading level0 row0\" >0</th>\n",
       "      <td id=\"T_40907_row0_col0\" class=\"data row0 col0\" >0.2614</td>\n",
       "      <td id=\"T_40907_row0_col1\" class=\"data row0 col1\" >87.4201</td>\n",
       "      <td id=\"T_40907_row0_col2\" class=\"data row0 col2\" >1.3069</td>\n",
       "      <td id=\"T_40907_row0_col3\" class=\"data row0 col3\" >0</td>\n",
       "      <td id=\"T_40907_row0_col4\" class=\"data row0 col4\" >0</td>\n",
       "      <td id=\"T_40907_row0_col5\" class=\"data row0 col5\" >0</td>\n",
       "    </tr>\n",
       "  </tbody>\n",
       "</table>\n"
      ],
      "text/plain": [
       "<pandas.io.formats.style.Styler at 0x239f9c4bed0>"
      ]
     },
     "metadata": {},
     "output_type": "display_data"
    },
    {
     "data": {
      "text/html": [],
      "text/plain": [
       "<IPython.core.display.HTML object>"
      ]
     },
     "metadata": {},
     "output_type": "display_data"
    },
    {
     "name": "stdout",
     "output_type": "stream",
     "text": [
      "For Cluster = 5\n"
     ]
    },
    {
     "data": {
      "text/html": [],
      "text/plain": [
       "<IPython.core.display.HTML object>"
      ]
     },
     "metadata": {},
     "output_type": "display_data"
    },
    {
     "data": {
      "text/html": [
       "<style type=\"text/css\">\n",
       "</style>\n",
       "<table id=\"T_40c45\">\n",
       "  <thead>\n",
       "    <tr>\n",
       "      <th class=\"blank level0\" >&nbsp;</th>\n",
       "      <th id=\"T_40c45_level0_col0\" class=\"col_heading level0 col0\" >Silhouette</th>\n",
       "      <th id=\"T_40c45_level0_col1\" class=\"col_heading level0 col1\" >Calinski-Harabasz</th>\n",
       "      <th id=\"T_40c45_level0_col2\" class=\"col_heading level0 col2\" >Davies-Bouldin</th>\n",
       "      <th id=\"T_40c45_level0_col3\" class=\"col_heading level0 col3\" >Homogeneity</th>\n",
       "      <th id=\"T_40c45_level0_col4\" class=\"col_heading level0 col4\" >Rand Index</th>\n",
       "      <th id=\"T_40c45_level0_col5\" class=\"col_heading level0 col5\" >Completeness</th>\n",
       "    </tr>\n",
       "  </thead>\n",
       "  <tbody>\n",
       "    <tr>\n",
       "      <th id=\"T_40c45_level0_row0\" class=\"row_heading level0 row0\" >0</th>\n",
       "      <td id=\"T_40c45_row0_col0\" class=\"data row0 col0\" >0.2671</td>\n",
       "      <td id=\"T_40c45_row0_col1\" class=\"data row0 col1\" >84.2096</td>\n",
       "      <td id=\"T_40c45_row0_col2\" class=\"data row0 col2\" >1.1521</td>\n",
       "      <td id=\"T_40c45_row0_col3\" class=\"data row0 col3\" >0</td>\n",
       "      <td id=\"T_40c45_row0_col4\" class=\"data row0 col4\" >0</td>\n",
       "      <td id=\"T_40c45_row0_col5\" class=\"data row0 col5\" >0</td>\n",
       "    </tr>\n",
       "  </tbody>\n",
       "</table>\n"
      ],
      "text/plain": [
       "<pandas.io.formats.style.Styler at 0x239f4cc81d0>"
      ]
     },
     "metadata": {},
     "output_type": "display_data"
    },
    {
     "data": {
      "text/html": [],
      "text/plain": [
       "<IPython.core.display.HTML object>"
      ]
     },
     "metadata": {},
     "output_type": "display_data"
    }
   ],
   "source": [
    "setup(data = population, pca = True, pca_method = 'linear', verbose=False)\n",
    "\n",
    "print(\"For Cluster = 3\")\n",
    "x = create_model('hclust', num_clusters = 3)\n",
    "\n",
    "print(\"For Cluster = 4\")\n",
    "x = create_model('hclust', num_clusters = 4)\n",
    "\n",
    "print(\"For Cluster = 5\")\n",
    "x = create_model('hclust', num_clusters = 5)"
   ]
  },
  {
   "cell_type": "markdown",
   "id": "dbbb4cc2-69c9-4204-b6eb-89d66f839f1c",
   "metadata": {},
   "source": [
    "## H-Clust - Using Normalization + Transformation"
   ]
  },
  {
   "cell_type": "code",
   "execution_count": 33,
   "id": "f1f00e2b-4d53-43c9-8285-dec16065dc50",
   "metadata": {},
   "outputs": [
    {
     "name": "stdout",
     "output_type": "stream",
     "text": [
      "For Cluster = 3\n"
     ]
    },
    {
     "data": {
      "text/html": [],
      "text/plain": [
       "<IPython.core.display.HTML object>"
      ]
     },
     "metadata": {},
     "output_type": "display_data"
    },
    {
     "data": {
      "text/html": [
       "<style type=\"text/css\">\n",
       "</style>\n",
       "<table id=\"T_6a859\">\n",
       "  <thead>\n",
       "    <tr>\n",
       "      <th class=\"blank level0\" >&nbsp;</th>\n",
       "      <th id=\"T_6a859_level0_col0\" class=\"col_heading level0 col0\" >Silhouette</th>\n",
       "      <th id=\"T_6a859_level0_col1\" class=\"col_heading level0 col1\" >Calinski-Harabasz</th>\n",
       "      <th id=\"T_6a859_level0_col2\" class=\"col_heading level0 col2\" >Davies-Bouldin</th>\n",
       "      <th id=\"T_6a859_level0_col3\" class=\"col_heading level0 col3\" >Homogeneity</th>\n",
       "      <th id=\"T_6a859_level0_col4\" class=\"col_heading level0 col4\" >Rand Index</th>\n",
       "      <th id=\"T_6a859_level0_col5\" class=\"col_heading level0 col5\" >Completeness</th>\n",
       "    </tr>\n",
       "  </thead>\n",
       "  <tbody>\n",
       "    <tr>\n",
       "      <th id=\"T_6a859_level0_row0\" class=\"row_heading level0 row0\" >0</th>\n",
       "      <td id=\"T_6a859_row0_col0\" class=\"data row0 col0\" >0.0553</td>\n",
       "      <td id=\"T_6a859_row0_col1\" class=\"data row0 col1\" >11.0352</td>\n",
       "      <td id=\"T_6a859_row0_col2\" class=\"data row0 col2\" >2.9755</td>\n",
       "      <td id=\"T_6a859_row0_col3\" class=\"data row0 col3\" >0</td>\n",
       "      <td id=\"T_6a859_row0_col4\" class=\"data row0 col4\" >0</td>\n",
       "      <td id=\"T_6a859_row0_col5\" class=\"data row0 col5\" >0</td>\n",
       "    </tr>\n",
       "  </tbody>\n",
       "</table>\n"
      ],
      "text/plain": [
       "<pandas.io.formats.style.Styler at 0x239f57ed810>"
      ]
     },
     "metadata": {},
     "output_type": "display_data"
    },
    {
     "data": {
      "text/html": [],
      "text/plain": [
       "<IPython.core.display.HTML object>"
      ]
     },
     "metadata": {},
     "output_type": "display_data"
    },
    {
     "name": "stdout",
     "output_type": "stream",
     "text": [
      "For Cluster = 4\n"
     ]
    },
    {
     "data": {
      "text/html": [],
      "text/plain": [
       "<IPython.core.display.HTML object>"
      ]
     },
     "metadata": {},
     "output_type": "display_data"
    },
    {
     "data": {
      "text/html": [
       "<style type=\"text/css\">\n",
       "</style>\n",
       "<table id=\"T_0389c\">\n",
       "  <thead>\n",
       "    <tr>\n",
       "      <th class=\"blank level0\" >&nbsp;</th>\n",
       "      <th id=\"T_0389c_level0_col0\" class=\"col_heading level0 col0\" >Silhouette</th>\n",
       "      <th id=\"T_0389c_level0_col1\" class=\"col_heading level0 col1\" >Calinski-Harabasz</th>\n",
       "      <th id=\"T_0389c_level0_col2\" class=\"col_heading level0 col2\" >Davies-Bouldin</th>\n",
       "      <th id=\"T_0389c_level0_col3\" class=\"col_heading level0 col3\" >Homogeneity</th>\n",
       "      <th id=\"T_0389c_level0_col4\" class=\"col_heading level0 col4\" >Rand Index</th>\n",
       "      <th id=\"T_0389c_level0_col5\" class=\"col_heading level0 col5\" >Completeness</th>\n",
       "    </tr>\n",
       "  </thead>\n",
       "  <tbody>\n",
       "    <tr>\n",
       "      <th id=\"T_0389c_level0_row0\" class=\"row_heading level0 row0\" >0</th>\n",
       "      <td id=\"T_0389c_row0_col0\" class=\"data row0 col0\" >0.0291</td>\n",
       "      <td id=\"T_0389c_row0_col1\" class=\"data row0 col1\" >8.8742</td>\n",
       "      <td id=\"T_0389c_row0_col2\" class=\"data row0 col2\" >4.3685</td>\n",
       "      <td id=\"T_0389c_row0_col3\" class=\"data row0 col3\" >0</td>\n",
       "      <td id=\"T_0389c_row0_col4\" class=\"data row0 col4\" >0</td>\n",
       "      <td id=\"T_0389c_row0_col5\" class=\"data row0 col5\" >0</td>\n",
       "    </tr>\n",
       "  </tbody>\n",
       "</table>\n"
      ],
      "text/plain": [
       "<pandas.io.formats.style.Styler at 0x239f9c5e690>"
      ]
     },
     "metadata": {},
     "output_type": "display_data"
    },
    {
     "data": {
      "text/html": [],
      "text/plain": [
       "<IPython.core.display.HTML object>"
      ]
     },
     "metadata": {},
     "output_type": "display_data"
    },
    {
     "name": "stdout",
     "output_type": "stream",
     "text": [
      "For Cluster = 5\n"
     ]
    },
    {
     "data": {
      "text/html": [],
      "text/plain": [
       "<IPython.core.display.HTML object>"
      ]
     },
     "metadata": {},
     "output_type": "display_data"
    },
    {
     "data": {
      "text/html": [
       "<style type=\"text/css\">\n",
       "</style>\n",
       "<table id=\"T_a22a2\">\n",
       "  <thead>\n",
       "    <tr>\n",
       "      <th class=\"blank level0\" >&nbsp;</th>\n",
       "      <th id=\"T_a22a2_level0_col0\" class=\"col_heading level0 col0\" >Silhouette</th>\n",
       "      <th id=\"T_a22a2_level0_col1\" class=\"col_heading level0 col1\" >Calinski-Harabasz</th>\n",
       "      <th id=\"T_a22a2_level0_col2\" class=\"col_heading level0 col2\" >Davies-Bouldin</th>\n",
       "      <th id=\"T_a22a2_level0_col3\" class=\"col_heading level0 col3\" >Homogeneity</th>\n",
       "      <th id=\"T_a22a2_level0_col4\" class=\"col_heading level0 col4\" >Rand Index</th>\n",
       "      <th id=\"T_a22a2_level0_col5\" class=\"col_heading level0 col5\" >Completeness</th>\n",
       "    </tr>\n",
       "  </thead>\n",
       "  <tbody>\n",
       "    <tr>\n",
       "      <th id=\"T_a22a2_level0_row0\" class=\"row_heading level0 row0\" >0</th>\n",
       "      <td id=\"T_a22a2_row0_col0\" class=\"data row0 col0\" >0.0287</td>\n",
       "      <td id=\"T_a22a2_row0_col1\" class=\"data row0 col1\" >7.3751</td>\n",
       "      <td id=\"T_a22a2_row0_col2\" class=\"data row0 col2\" >4.1495</td>\n",
       "      <td id=\"T_a22a2_row0_col3\" class=\"data row0 col3\" >0</td>\n",
       "      <td id=\"T_a22a2_row0_col4\" class=\"data row0 col4\" >0</td>\n",
       "      <td id=\"T_a22a2_row0_col5\" class=\"data row0 col5\" >0</td>\n",
       "    </tr>\n",
       "  </tbody>\n",
       "</table>\n"
      ],
      "text/plain": [
       "<pandas.io.formats.style.Styler at 0x239f9c58910>"
      ]
     },
     "metadata": {},
     "output_type": "display_data"
    },
    {
     "data": {
      "text/html": [],
      "text/plain": [
       "<IPython.core.display.HTML object>"
      ]
     },
     "metadata": {},
     "output_type": "display_data"
    }
   ],
   "source": [
    "setup(data = population, transformation = True, normalize = True,\n",
    "      normalize_method = 'zscore', transformation_method = 'yeo-johnson', verbose=False)\n",
    "\n",
    "print(\"For Cluster = 3\")\n",
    "x = create_model('hclust', num_clusters = 3)\n",
    "\n",
    "print(\"For Cluster = 4\")\n",
    "x = create_model('hclust', num_clusters = 4)\n",
    "\n",
    "print(\"For Cluster = 5\")\n",
    "x = create_model('hclust', num_clusters = 5)"
   ]
  },
  {
   "cell_type": "markdown",
   "id": "f1bea580-e895-4ccd-8e46-333202b19f63",
   "metadata": {},
   "source": [
    "## H-Clust - Using Transformation + Normalization + PCA"
   ]
  },
  {
   "cell_type": "code",
   "execution_count": 48,
   "id": "762c5a6e-f23f-4ba2-8b3b-1278dbaf5a8c",
   "metadata": {},
   "outputs": [
    {
     "name": "stdout",
     "output_type": "stream",
     "text": [
      "For Cluster = 3\n"
     ]
    },
    {
     "data": {
      "text/html": [],
      "text/plain": [
       "<IPython.core.display.HTML object>"
      ]
     },
     "metadata": {},
     "output_type": "display_data"
    },
    {
     "data": {
      "text/html": [
       "<style type=\"text/css\">\n",
       "</style>\n",
       "<table id=\"T_31745\">\n",
       "  <thead>\n",
       "    <tr>\n",
       "      <th class=\"blank level0\" >&nbsp;</th>\n",
       "      <th id=\"T_31745_level0_col0\" class=\"col_heading level0 col0\" >Silhouette</th>\n",
       "      <th id=\"T_31745_level0_col1\" class=\"col_heading level0 col1\" >Calinski-Harabasz</th>\n",
       "      <th id=\"T_31745_level0_col2\" class=\"col_heading level0 col2\" >Davies-Bouldin</th>\n",
       "      <th id=\"T_31745_level0_col3\" class=\"col_heading level0 col3\" >Homogeneity</th>\n",
       "      <th id=\"T_31745_level0_col4\" class=\"col_heading level0 col4\" >Rand Index</th>\n",
       "      <th id=\"T_31745_level0_col5\" class=\"col_heading level0 col5\" >Completeness</th>\n",
       "    </tr>\n",
       "  </thead>\n",
       "  <tbody>\n",
       "    <tr>\n",
       "      <th id=\"T_31745_level0_row0\" class=\"row_heading level0 row0\" >0</th>\n",
       "      <td id=\"T_31745_row0_col0\" class=\"data row0 col0\" >0.0553</td>\n",
       "      <td id=\"T_31745_row0_col1\" class=\"data row0 col1\" >11.0352</td>\n",
       "      <td id=\"T_31745_row0_col2\" class=\"data row0 col2\" >2.9755</td>\n",
       "      <td id=\"T_31745_row0_col3\" class=\"data row0 col3\" >0</td>\n",
       "      <td id=\"T_31745_row0_col4\" class=\"data row0 col4\" >0</td>\n",
       "      <td id=\"T_31745_row0_col5\" class=\"data row0 col5\" >0</td>\n",
       "    </tr>\n",
       "  </tbody>\n",
       "</table>\n"
      ],
      "text/plain": [
       "<pandas.io.formats.style.Styler at 0x239f9c48490>"
      ]
     },
     "metadata": {},
     "output_type": "display_data"
    },
    {
     "data": {
      "text/html": [],
      "text/plain": [
       "<IPython.core.display.HTML object>"
      ]
     },
     "metadata": {},
     "output_type": "display_data"
    },
    {
     "name": "stdout",
     "output_type": "stream",
     "text": [
      "For Cluster = 4\n"
     ]
    },
    {
     "data": {
      "text/html": [],
      "text/plain": [
       "<IPython.core.display.HTML object>"
      ]
     },
     "metadata": {},
     "output_type": "display_data"
    },
    {
     "data": {
      "text/html": [
       "<style type=\"text/css\">\n",
       "</style>\n",
       "<table id=\"T_87a90\">\n",
       "  <thead>\n",
       "    <tr>\n",
       "      <th class=\"blank level0\" >&nbsp;</th>\n",
       "      <th id=\"T_87a90_level0_col0\" class=\"col_heading level0 col0\" >Silhouette</th>\n",
       "      <th id=\"T_87a90_level0_col1\" class=\"col_heading level0 col1\" >Calinski-Harabasz</th>\n",
       "      <th id=\"T_87a90_level0_col2\" class=\"col_heading level0 col2\" >Davies-Bouldin</th>\n",
       "      <th id=\"T_87a90_level0_col3\" class=\"col_heading level0 col3\" >Homogeneity</th>\n",
       "      <th id=\"T_87a90_level0_col4\" class=\"col_heading level0 col4\" >Rand Index</th>\n",
       "      <th id=\"T_87a90_level0_col5\" class=\"col_heading level0 col5\" >Completeness</th>\n",
       "    </tr>\n",
       "  </thead>\n",
       "  <tbody>\n",
       "    <tr>\n",
       "      <th id=\"T_87a90_level0_row0\" class=\"row_heading level0 row0\" >0</th>\n",
       "      <td id=\"T_87a90_row0_col0\" class=\"data row0 col0\" >0.0291</td>\n",
       "      <td id=\"T_87a90_row0_col1\" class=\"data row0 col1\" >8.8742</td>\n",
       "      <td id=\"T_87a90_row0_col2\" class=\"data row0 col2\" >4.3685</td>\n",
       "      <td id=\"T_87a90_row0_col3\" class=\"data row0 col3\" >0</td>\n",
       "      <td id=\"T_87a90_row0_col4\" class=\"data row0 col4\" >0</td>\n",
       "      <td id=\"T_87a90_row0_col5\" class=\"data row0 col5\" >0</td>\n",
       "    </tr>\n",
       "  </tbody>\n",
       "</table>\n"
      ],
      "text/plain": [
       "<pandas.io.formats.style.Styler at 0x239f9ca3550>"
      ]
     },
     "metadata": {},
     "output_type": "display_data"
    },
    {
     "data": {
      "text/html": [],
      "text/plain": [
       "<IPython.core.display.HTML object>"
      ]
     },
     "metadata": {},
     "output_type": "display_data"
    },
    {
     "name": "stdout",
     "output_type": "stream",
     "text": [
      "For Cluster = 5\n"
     ]
    },
    {
     "data": {
      "text/html": [],
      "text/plain": [
       "<IPython.core.display.HTML object>"
      ]
     },
     "metadata": {},
     "output_type": "display_data"
    },
    {
     "data": {
      "text/html": [
       "<style type=\"text/css\">\n",
       "</style>\n",
       "<table id=\"T_a0f7c\">\n",
       "  <thead>\n",
       "    <tr>\n",
       "      <th class=\"blank level0\" >&nbsp;</th>\n",
       "      <th id=\"T_a0f7c_level0_col0\" class=\"col_heading level0 col0\" >Silhouette</th>\n",
       "      <th id=\"T_a0f7c_level0_col1\" class=\"col_heading level0 col1\" >Calinski-Harabasz</th>\n",
       "      <th id=\"T_a0f7c_level0_col2\" class=\"col_heading level0 col2\" >Davies-Bouldin</th>\n",
       "      <th id=\"T_a0f7c_level0_col3\" class=\"col_heading level0 col3\" >Homogeneity</th>\n",
       "      <th id=\"T_a0f7c_level0_col4\" class=\"col_heading level0 col4\" >Rand Index</th>\n",
       "      <th id=\"T_a0f7c_level0_col5\" class=\"col_heading level0 col5\" >Completeness</th>\n",
       "    </tr>\n",
       "  </thead>\n",
       "  <tbody>\n",
       "    <tr>\n",
       "      <th id=\"T_a0f7c_level0_row0\" class=\"row_heading level0 row0\" >0</th>\n",
       "      <td id=\"T_a0f7c_row0_col0\" class=\"data row0 col0\" >0.0287</td>\n",
       "      <td id=\"T_a0f7c_row0_col1\" class=\"data row0 col1\" >7.3751</td>\n",
       "      <td id=\"T_a0f7c_row0_col2\" class=\"data row0 col2\" >4.1495</td>\n",
       "      <td id=\"T_a0f7c_row0_col3\" class=\"data row0 col3\" >0</td>\n",
       "      <td id=\"T_a0f7c_row0_col4\" class=\"data row0 col4\" >0</td>\n",
       "      <td id=\"T_a0f7c_row0_col5\" class=\"data row0 col5\" >0</td>\n",
       "    </tr>\n",
       "  </tbody>\n",
       "</table>\n"
      ],
      "text/plain": [
       "<pandas.io.formats.style.Styler at 0x239f9afe990>"
      ]
     },
     "metadata": {},
     "output_type": "display_data"
    },
    {
     "data": {
      "text/html": [],
      "text/plain": [
       "<IPython.core.display.HTML object>"
      ]
     },
     "metadata": {},
     "output_type": "display_data"
    }
   ],
   "source": [
    "setup(data = population, transformation = True, normalize = True, pca = True,\n",
    "      normalize_method = 'zscore',\n",
    "      transformation_method = 'yeo-johnson',\n",
    "      pca_method = 'linear', verbose=False)\n",
    "\n",
    "print(\"For Cluster = 3\")\n",
    "x = create_model('hclust', num_clusters = 3)\n",
    "\n",
    "print(\"For Cluster = 4\")\n",
    "x = create_model('hclust', num_clusters = 4)\n",
    "\n",
    "print(\"For Cluster = 5\")\n",
    "x = create_model('hclust', num_clusters = 5)"
   ]
  },
  {
   "cell_type": "markdown",
   "id": "c23c99fa-582e-4fd9-bd1e-d2d3296829d6",
   "metadata": {},
   "source": [
    "## Kmean-Shift - No data Preprocessing"
   ]
  },
  {
   "cell_type": "code",
   "execution_count": 49,
   "id": "afb68017-dace-425a-99e8-139ea42d16b2",
   "metadata": {},
   "outputs": [
    {
     "name": "stdout",
     "output_type": "stream",
     "text": [
      "For Cluster = 3\n"
     ]
    },
    {
     "data": {
      "text/html": [],
      "text/plain": [
       "<IPython.core.display.HTML object>"
      ]
     },
     "metadata": {},
     "output_type": "display_data"
    },
    {
     "data": {
      "text/html": [
       "<style type=\"text/css\">\n",
       "</style>\n",
       "<table id=\"T_4aca2\">\n",
       "  <thead>\n",
       "    <tr>\n",
       "      <th class=\"blank level0\" >&nbsp;</th>\n",
       "      <th id=\"T_4aca2_level0_col0\" class=\"col_heading level0 col0\" >Silhouette</th>\n",
       "      <th id=\"T_4aca2_level0_col1\" class=\"col_heading level0 col1\" >Calinski-Harabasz</th>\n",
       "      <th id=\"T_4aca2_level0_col2\" class=\"col_heading level0 col2\" >Davies-Bouldin</th>\n",
       "      <th id=\"T_4aca2_level0_col3\" class=\"col_heading level0 col3\" >Homogeneity</th>\n",
       "      <th id=\"T_4aca2_level0_col4\" class=\"col_heading level0 col4\" >Rand Index</th>\n",
       "      <th id=\"T_4aca2_level0_col5\" class=\"col_heading level0 col5\" >Completeness</th>\n",
       "    </tr>\n",
       "  </thead>\n",
       "  <tbody>\n",
       "    <tr>\n",
       "      <th id=\"T_4aca2_level0_row0\" class=\"row_heading level0 row0\" >0</th>\n",
       "      <td id=\"T_4aca2_row0_col0\" class=\"data row0 col0\" >0.0948</td>\n",
       "      <td id=\"T_4aca2_row0_col1\" class=\"data row0 col1\" >12.4134</td>\n",
       "      <td id=\"T_4aca2_row0_col2\" class=\"data row0 col2\" >0.5093</td>\n",
       "      <td id=\"T_4aca2_row0_col3\" class=\"data row0 col3\" >0</td>\n",
       "      <td id=\"T_4aca2_row0_col4\" class=\"data row0 col4\" >0</td>\n",
       "      <td id=\"T_4aca2_row0_col5\" class=\"data row0 col5\" >0</td>\n",
       "    </tr>\n",
       "  </tbody>\n",
       "</table>\n"
      ],
      "text/plain": [
       "<pandas.io.formats.style.Styler at 0x239f9cc65d0>"
      ]
     },
     "metadata": {},
     "output_type": "display_data"
    },
    {
     "data": {
      "text/html": [],
      "text/plain": [
       "<IPython.core.display.HTML object>"
      ]
     },
     "metadata": {},
     "output_type": "display_data"
    },
    {
     "name": "stdout",
     "output_type": "stream",
     "text": [
      "For Cluster = 4\n"
     ]
    },
    {
     "data": {
      "text/html": [],
      "text/plain": [
       "<IPython.core.display.HTML object>"
      ]
     },
     "metadata": {},
     "output_type": "display_data"
    },
    {
     "data": {
      "text/html": [
       "<style type=\"text/css\">\n",
       "</style>\n",
       "<table id=\"T_59303\">\n",
       "  <thead>\n",
       "    <tr>\n",
       "      <th class=\"blank level0\" >&nbsp;</th>\n",
       "      <th id=\"T_59303_level0_col0\" class=\"col_heading level0 col0\" >Silhouette</th>\n",
       "      <th id=\"T_59303_level0_col1\" class=\"col_heading level0 col1\" >Calinski-Harabasz</th>\n",
       "      <th id=\"T_59303_level0_col2\" class=\"col_heading level0 col2\" >Davies-Bouldin</th>\n",
       "      <th id=\"T_59303_level0_col3\" class=\"col_heading level0 col3\" >Homogeneity</th>\n",
       "      <th id=\"T_59303_level0_col4\" class=\"col_heading level0 col4\" >Rand Index</th>\n",
       "      <th id=\"T_59303_level0_col5\" class=\"col_heading level0 col5\" >Completeness</th>\n",
       "    </tr>\n",
       "  </thead>\n",
       "  <tbody>\n",
       "    <tr>\n",
       "      <th id=\"T_59303_level0_row0\" class=\"row_heading level0 row0\" >0</th>\n",
       "      <td id=\"T_59303_row0_col0\" class=\"data row0 col0\" >0.0948</td>\n",
       "      <td id=\"T_59303_row0_col1\" class=\"data row0 col1\" >12.4134</td>\n",
       "      <td id=\"T_59303_row0_col2\" class=\"data row0 col2\" >0.5093</td>\n",
       "      <td id=\"T_59303_row0_col3\" class=\"data row0 col3\" >0</td>\n",
       "      <td id=\"T_59303_row0_col4\" class=\"data row0 col4\" >0</td>\n",
       "      <td id=\"T_59303_row0_col5\" class=\"data row0 col5\" >0</td>\n",
       "    </tr>\n",
       "  </tbody>\n",
       "</table>\n"
      ],
      "text/plain": [
       "<pandas.io.formats.style.Styler at 0x239f9c65110>"
      ]
     },
     "metadata": {},
     "output_type": "display_data"
    },
    {
     "data": {
      "text/html": [],
      "text/plain": [
       "<IPython.core.display.HTML object>"
      ]
     },
     "metadata": {},
     "output_type": "display_data"
    },
    {
     "name": "stdout",
     "output_type": "stream",
     "text": [
      "For Cluster = 5\n"
     ]
    },
    {
     "data": {
      "text/html": [],
      "text/plain": [
       "<IPython.core.display.HTML object>"
      ]
     },
     "metadata": {},
     "output_type": "display_data"
    },
    {
     "data": {
      "text/html": [
       "<style type=\"text/css\">\n",
       "</style>\n",
       "<table id=\"T_7b021\">\n",
       "  <thead>\n",
       "    <tr>\n",
       "      <th class=\"blank level0\" >&nbsp;</th>\n",
       "      <th id=\"T_7b021_level0_col0\" class=\"col_heading level0 col0\" >Silhouette</th>\n",
       "      <th id=\"T_7b021_level0_col1\" class=\"col_heading level0 col1\" >Calinski-Harabasz</th>\n",
       "      <th id=\"T_7b021_level0_col2\" class=\"col_heading level0 col2\" >Davies-Bouldin</th>\n",
       "      <th id=\"T_7b021_level0_col3\" class=\"col_heading level0 col3\" >Homogeneity</th>\n",
       "      <th id=\"T_7b021_level0_col4\" class=\"col_heading level0 col4\" >Rand Index</th>\n",
       "      <th id=\"T_7b021_level0_col5\" class=\"col_heading level0 col5\" >Completeness</th>\n",
       "    </tr>\n",
       "  </thead>\n",
       "  <tbody>\n",
       "    <tr>\n",
       "      <th id=\"T_7b021_level0_row0\" class=\"row_heading level0 row0\" >0</th>\n",
       "      <td id=\"T_7b021_row0_col0\" class=\"data row0 col0\" >0.0948</td>\n",
       "      <td id=\"T_7b021_row0_col1\" class=\"data row0 col1\" >12.4134</td>\n",
       "      <td id=\"T_7b021_row0_col2\" class=\"data row0 col2\" >0.5093</td>\n",
       "      <td id=\"T_7b021_row0_col3\" class=\"data row0 col3\" >0</td>\n",
       "      <td id=\"T_7b021_row0_col4\" class=\"data row0 col4\" >0</td>\n",
       "      <td id=\"T_7b021_row0_col5\" class=\"data row0 col5\" >0</td>\n",
       "    </tr>\n",
       "  </tbody>\n",
       "</table>\n"
      ],
      "text/plain": [
       "<pandas.io.formats.style.Styler at 0x239f9ca0110>"
      ]
     },
     "metadata": {},
     "output_type": "display_data"
    },
    {
     "data": {
      "text/html": [],
      "text/plain": [
       "<IPython.core.display.HTML object>"
      ]
     },
     "metadata": {},
     "output_type": "display_data"
    }
   ],
   "source": [
    "setup(data = population, verbose=False)\n",
    "\n",
    "print(\"For Cluster = 3\")\n",
    "x = create_model('meanshift', num_clusters = 3)\n",
    "\n",
    "print(\"For Cluster = 4\")\n",
    "x = create_model('meanshift', num_clusters = 4)\n",
    "\n",
    "print(\"For Cluster = 5\")\n",
    "x = create_model('meanshift', num_clusters = 5)"
   ]
  },
  {
   "cell_type": "markdown",
   "id": "9711cff4-443f-46dc-ae0a-21898683f102",
   "metadata": {},
   "source": [
    "## Kmean-Shift - Using Normalization"
   ]
  },
  {
   "cell_type": "code",
   "execution_count": 50,
   "id": "3e48e495-9492-4623-9c76-fc10893d4959",
   "metadata": {},
   "outputs": [
    {
     "name": "stdout",
     "output_type": "stream",
     "text": [
      "For Cluster = 3\n"
     ]
    },
    {
     "data": {
      "text/html": [],
      "text/plain": [
       "<IPython.core.display.HTML object>"
      ]
     },
     "metadata": {},
     "output_type": "display_data"
    },
    {
     "data": {
      "text/html": [
       "<style type=\"text/css\">\n",
       "</style>\n",
       "<table id=\"T_f077c\">\n",
       "  <thead>\n",
       "    <tr>\n",
       "      <th class=\"blank level0\" >&nbsp;</th>\n",
       "      <th id=\"T_f077c_level0_col0\" class=\"col_heading level0 col0\" >Silhouette</th>\n",
       "      <th id=\"T_f077c_level0_col1\" class=\"col_heading level0 col1\" >Calinski-Harabasz</th>\n",
       "      <th id=\"T_f077c_level0_col2\" class=\"col_heading level0 col2\" >Davies-Bouldin</th>\n",
       "      <th id=\"T_f077c_level0_col3\" class=\"col_heading level0 col3\" >Homogeneity</th>\n",
       "      <th id=\"T_f077c_level0_col4\" class=\"col_heading level0 col4\" >Rand Index</th>\n",
       "      <th id=\"T_f077c_level0_col5\" class=\"col_heading level0 col5\" >Completeness</th>\n",
       "    </tr>\n",
       "  </thead>\n",
       "  <tbody>\n",
       "    <tr>\n",
       "      <th id=\"T_f077c_level0_row0\" class=\"row_heading level0 row0\" >0</th>\n",
       "      <td id=\"T_f077c_row0_col0\" class=\"data row0 col0\" >0.1844</td>\n",
       "      <td id=\"T_f077c_row0_col1\" class=\"data row0 col1\" >3.4193</td>\n",
       "      <td id=\"T_f077c_row0_col2\" class=\"data row0 col2\" >0.5812</td>\n",
       "      <td id=\"T_f077c_row0_col3\" class=\"data row0 col3\" >0</td>\n",
       "      <td id=\"T_f077c_row0_col4\" class=\"data row0 col4\" >0</td>\n",
       "      <td id=\"T_f077c_row0_col5\" class=\"data row0 col5\" >0</td>\n",
       "    </tr>\n",
       "  </tbody>\n",
       "</table>\n"
      ],
      "text/plain": [
       "<pandas.io.formats.style.Styler at 0x239fce58d10>"
      ]
     },
     "metadata": {},
     "output_type": "display_data"
    },
    {
     "data": {
      "text/html": [],
      "text/plain": [
       "<IPython.core.display.HTML object>"
      ]
     },
     "metadata": {},
     "output_type": "display_data"
    },
    {
     "name": "stdout",
     "output_type": "stream",
     "text": [
      "For Cluster = 4\n"
     ]
    },
    {
     "data": {
      "text/html": [],
      "text/plain": [
       "<IPython.core.display.HTML object>"
      ]
     },
     "metadata": {},
     "output_type": "display_data"
    },
    {
     "data": {
      "text/html": [
       "<style type=\"text/css\">\n",
       "</style>\n",
       "<table id=\"T_dfb97\">\n",
       "  <thead>\n",
       "    <tr>\n",
       "      <th class=\"blank level0\" >&nbsp;</th>\n",
       "      <th id=\"T_dfb97_level0_col0\" class=\"col_heading level0 col0\" >Silhouette</th>\n",
       "      <th id=\"T_dfb97_level0_col1\" class=\"col_heading level0 col1\" >Calinski-Harabasz</th>\n",
       "      <th id=\"T_dfb97_level0_col2\" class=\"col_heading level0 col2\" >Davies-Bouldin</th>\n",
       "      <th id=\"T_dfb97_level0_col3\" class=\"col_heading level0 col3\" >Homogeneity</th>\n",
       "      <th id=\"T_dfb97_level0_col4\" class=\"col_heading level0 col4\" >Rand Index</th>\n",
       "      <th id=\"T_dfb97_level0_col5\" class=\"col_heading level0 col5\" >Completeness</th>\n",
       "    </tr>\n",
       "  </thead>\n",
       "  <tbody>\n",
       "    <tr>\n",
       "      <th id=\"T_dfb97_level0_row0\" class=\"row_heading level0 row0\" >0</th>\n",
       "      <td id=\"T_dfb97_row0_col0\" class=\"data row0 col0\" >0.1844</td>\n",
       "      <td id=\"T_dfb97_row0_col1\" class=\"data row0 col1\" >3.4193</td>\n",
       "      <td id=\"T_dfb97_row0_col2\" class=\"data row0 col2\" >0.5812</td>\n",
       "      <td id=\"T_dfb97_row0_col3\" class=\"data row0 col3\" >0</td>\n",
       "      <td id=\"T_dfb97_row0_col4\" class=\"data row0 col4\" >0</td>\n",
       "      <td id=\"T_dfb97_row0_col5\" class=\"data row0 col5\" >0</td>\n",
       "    </tr>\n",
       "  </tbody>\n",
       "</table>\n"
      ],
      "text/plain": [
       "<pandas.io.formats.style.Styler at 0x239f9a45810>"
      ]
     },
     "metadata": {},
     "output_type": "display_data"
    },
    {
     "data": {
      "text/html": [],
      "text/plain": [
       "<IPython.core.display.HTML object>"
      ]
     },
     "metadata": {},
     "output_type": "display_data"
    },
    {
     "name": "stdout",
     "output_type": "stream",
     "text": [
      "For Cluster = 5\n"
     ]
    },
    {
     "data": {
      "text/html": [],
      "text/plain": [
       "<IPython.core.display.HTML object>"
      ]
     },
     "metadata": {},
     "output_type": "display_data"
    },
    {
     "data": {
      "text/html": [
       "<style type=\"text/css\">\n",
       "</style>\n",
       "<table id=\"T_4a0b6\">\n",
       "  <thead>\n",
       "    <tr>\n",
       "      <th class=\"blank level0\" >&nbsp;</th>\n",
       "      <th id=\"T_4a0b6_level0_col0\" class=\"col_heading level0 col0\" >Silhouette</th>\n",
       "      <th id=\"T_4a0b6_level0_col1\" class=\"col_heading level0 col1\" >Calinski-Harabasz</th>\n",
       "      <th id=\"T_4a0b6_level0_col2\" class=\"col_heading level0 col2\" >Davies-Bouldin</th>\n",
       "      <th id=\"T_4a0b6_level0_col3\" class=\"col_heading level0 col3\" >Homogeneity</th>\n",
       "      <th id=\"T_4a0b6_level0_col4\" class=\"col_heading level0 col4\" >Rand Index</th>\n",
       "      <th id=\"T_4a0b6_level0_col5\" class=\"col_heading level0 col5\" >Completeness</th>\n",
       "    </tr>\n",
       "  </thead>\n",
       "  <tbody>\n",
       "    <tr>\n",
       "      <th id=\"T_4a0b6_level0_row0\" class=\"row_heading level0 row0\" >0</th>\n",
       "      <td id=\"T_4a0b6_row0_col0\" class=\"data row0 col0\" >0.1844</td>\n",
       "      <td id=\"T_4a0b6_row0_col1\" class=\"data row0 col1\" >3.4193</td>\n",
       "      <td id=\"T_4a0b6_row0_col2\" class=\"data row0 col2\" >0.5812</td>\n",
       "      <td id=\"T_4a0b6_row0_col3\" class=\"data row0 col3\" >0</td>\n",
       "      <td id=\"T_4a0b6_row0_col4\" class=\"data row0 col4\" >0</td>\n",
       "      <td id=\"T_4a0b6_row0_col5\" class=\"data row0 col5\" >0</td>\n",
       "    </tr>\n",
       "  </tbody>\n",
       "</table>\n"
      ],
      "text/plain": [
       "<pandas.io.formats.style.Styler at 0x239f9c48810>"
      ]
     },
     "metadata": {},
     "output_type": "display_data"
    },
    {
     "data": {
      "text/html": [],
      "text/plain": [
       "<IPython.core.display.HTML object>"
      ]
     },
     "metadata": {},
     "output_type": "display_data"
    }
   ],
   "source": [
    "setup(data = population, normalize = True, normalize_method = 'zscore', verbose=False)\n",
    "\n",
    "print(\"For Cluster = 3\")\n",
    "x = create_model('meanshift', num_clusters = 3)\n",
    "\n",
    "print(\"For Cluster = 4\")\n",
    "x = create_model('meanshift', num_clusters = 4)\n",
    "\n",
    "print(\"For Cluster = 5\")\n",
    "x = create_model('meanshift', num_clusters = 5)"
   ]
  },
  {
   "cell_type": "markdown",
   "id": "56cdfd67-9aab-4712-a4ac-0822f94b7176",
   "metadata": {},
   "source": [
    "## Kmean-Shift - Using Transformation"
   ]
  },
  {
   "cell_type": "code",
   "execution_count": 37,
   "id": "0b59343b-50dd-4cdc-91d3-1e87f30133cf",
   "metadata": {},
   "outputs": [
    {
     "name": "stdout",
     "output_type": "stream",
     "text": [
      "For Cluster = 3\n"
     ]
    },
    {
     "data": {
      "text/html": [],
      "text/plain": [
       "<IPython.core.display.HTML object>"
      ]
     },
     "metadata": {},
     "output_type": "display_data"
    },
    {
     "data": {
      "text/html": [
       "<style type=\"text/css\">\n",
       "</style>\n",
       "<table id=\"T_f5312\">\n",
       "  <thead>\n",
       "    <tr>\n",
       "      <th class=\"blank level0\" >&nbsp;</th>\n",
       "      <th id=\"T_f5312_level0_col0\" class=\"col_heading level0 col0\" >Silhouette</th>\n",
       "      <th id=\"T_f5312_level0_col1\" class=\"col_heading level0 col1\" >Calinski-Harabasz</th>\n",
       "      <th id=\"T_f5312_level0_col2\" class=\"col_heading level0 col2\" >Davies-Bouldin</th>\n",
       "      <th id=\"T_f5312_level0_col3\" class=\"col_heading level0 col3\" >Homogeneity</th>\n",
       "      <th id=\"T_f5312_level0_col4\" class=\"col_heading level0 col4\" >Rand Index</th>\n",
       "      <th id=\"T_f5312_level0_col5\" class=\"col_heading level0 col5\" >Completeness</th>\n",
       "    </tr>\n",
       "  </thead>\n",
       "  <tbody>\n",
       "    <tr>\n",
       "      <th id=\"T_f5312_level0_row0\" class=\"row_heading level0 row0\" >0</th>\n",
       "      <td id=\"T_f5312_row0_col0\" class=\"data row0 col0\" >0.1547</td>\n",
       "      <td id=\"T_f5312_row0_col1\" class=\"data row0 col1\" >17.8767</td>\n",
       "      <td id=\"T_f5312_row0_col2\" class=\"data row0 col2\" >0.5989</td>\n",
       "      <td id=\"T_f5312_row0_col3\" class=\"data row0 col3\" >0</td>\n",
       "      <td id=\"T_f5312_row0_col4\" class=\"data row0 col4\" >0</td>\n",
       "      <td id=\"T_f5312_row0_col5\" class=\"data row0 col5\" >0</td>\n",
       "    </tr>\n",
       "  </tbody>\n",
       "</table>\n"
      ],
      "text/plain": [
       "<pandas.io.formats.style.Styler at 0x239f4c56b50>"
      ]
     },
     "metadata": {},
     "output_type": "display_data"
    },
    {
     "data": {
      "text/html": [],
      "text/plain": [
       "<IPython.core.display.HTML object>"
      ]
     },
     "metadata": {},
     "output_type": "display_data"
    },
    {
     "name": "stdout",
     "output_type": "stream",
     "text": [
      "For Cluster = 4\n"
     ]
    },
    {
     "data": {
      "text/html": [],
      "text/plain": [
       "<IPython.core.display.HTML object>"
      ]
     },
     "metadata": {},
     "output_type": "display_data"
    },
    {
     "data": {
      "text/html": [
       "<style type=\"text/css\">\n",
       "</style>\n",
       "<table id=\"T_e7c30\">\n",
       "  <thead>\n",
       "    <tr>\n",
       "      <th class=\"blank level0\" >&nbsp;</th>\n",
       "      <th id=\"T_e7c30_level0_col0\" class=\"col_heading level0 col0\" >Silhouette</th>\n",
       "      <th id=\"T_e7c30_level0_col1\" class=\"col_heading level0 col1\" >Calinski-Harabasz</th>\n",
       "      <th id=\"T_e7c30_level0_col2\" class=\"col_heading level0 col2\" >Davies-Bouldin</th>\n",
       "      <th id=\"T_e7c30_level0_col3\" class=\"col_heading level0 col3\" >Homogeneity</th>\n",
       "      <th id=\"T_e7c30_level0_col4\" class=\"col_heading level0 col4\" >Rand Index</th>\n",
       "      <th id=\"T_e7c30_level0_col5\" class=\"col_heading level0 col5\" >Completeness</th>\n",
       "    </tr>\n",
       "  </thead>\n",
       "  <tbody>\n",
       "    <tr>\n",
       "      <th id=\"T_e7c30_level0_row0\" class=\"row_heading level0 row0\" >0</th>\n",
       "      <td id=\"T_e7c30_row0_col0\" class=\"data row0 col0\" >0.1547</td>\n",
       "      <td id=\"T_e7c30_row0_col1\" class=\"data row0 col1\" >17.8767</td>\n",
       "      <td id=\"T_e7c30_row0_col2\" class=\"data row0 col2\" >0.5989</td>\n",
       "      <td id=\"T_e7c30_row0_col3\" class=\"data row0 col3\" >0</td>\n",
       "      <td id=\"T_e7c30_row0_col4\" class=\"data row0 col4\" >0</td>\n",
       "      <td id=\"T_e7c30_row0_col5\" class=\"data row0 col5\" >0</td>\n",
       "    </tr>\n",
       "  </tbody>\n",
       "</table>\n"
      ],
      "text/plain": [
       "<pandas.io.formats.style.Styler at 0x239f994c3d0>"
      ]
     },
     "metadata": {},
     "output_type": "display_data"
    },
    {
     "data": {
      "text/html": [],
      "text/plain": [
       "<IPython.core.display.HTML object>"
      ]
     },
     "metadata": {},
     "output_type": "display_data"
    },
    {
     "name": "stdout",
     "output_type": "stream",
     "text": [
      "For Cluster = 5\n"
     ]
    },
    {
     "data": {
      "text/html": [],
      "text/plain": [
       "<IPython.core.display.HTML object>"
      ]
     },
     "metadata": {},
     "output_type": "display_data"
    },
    {
     "data": {
      "text/html": [
       "<style type=\"text/css\">\n",
       "</style>\n",
       "<table id=\"T_063f8\">\n",
       "  <thead>\n",
       "    <tr>\n",
       "      <th class=\"blank level0\" >&nbsp;</th>\n",
       "      <th id=\"T_063f8_level0_col0\" class=\"col_heading level0 col0\" >Silhouette</th>\n",
       "      <th id=\"T_063f8_level0_col1\" class=\"col_heading level0 col1\" >Calinski-Harabasz</th>\n",
       "      <th id=\"T_063f8_level0_col2\" class=\"col_heading level0 col2\" >Davies-Bouldin</th>\n",
       "      <th id=\"T_063f8_level0_col3\" class=\"col_heading level0 col3\" >Homogeneity</th>\n",
       "      <th id=\"T_063f8_level0_col4\" class=\"col_heading level0 col4\" >Rand Index</th>\n",
       "      <th id=\"T_063f8_level0_col5\" class=\"col_heading level0 col5\" >Completeness</th>\n",
       "    </tr>\n",
       "  </thead>\n",
       "  <tbody>\n",
       "    <tr>\n",
       "      <th id=\"T_063f8_level0_row0\" class=\"row_heading level0 row0\" >0</th>\n",
       "      <td id=\"T_063f8_row0_col0\" class=\"data row0 col0\" >0.1547</td>\n",
       "      <td id=\"T_063f8_row0_col1\" class=\"data row0 col1\" >17.8767</td>\n",
       "      <td id=\"T_063f8_row0_col2\" class=\"data row0 col2\" >0.5989</td>\n",
       "      <td id=\"T_063f8_row0_col3\" class=\"data row0 col3\" >0</td>\n",
       "      <td id=\"T_063f8_row0_col4\" class=\"data row0 col4\" >0</td>\n",
       "      <td id=\"T_063f8_row0_col5\" class=\"data row0 col5\" >0</td>\n",
       "    </tr>\n",
       "  </tbody>\n",
       "</table>\n"
      ],
      "text/plain": [
       "<pandas.io.formats.style.Styler at 0x239f9a754d0>"
      ]
     },
     "metadata": {},
     "output_type": "display_data"
    },
    {
     "data": {
      "text/html": [],
      "text/plain": [
       "<IPython.core.display.HTML object>"
      ]
     },
     "metadata": {},
     "output_type": "display_data"
    }
   ],
   "source": [
    "setup(data = population, transformation = True, transformation_method = 'yeo-johnson', verbose=False)\n",
    "\n",
    "print(\"For Cluster = 3\")\n",
    "x = create_model('meanshift', num_clusters = 3)\n",
    "\n",
    "print(\"For Cluster = 4\")\n",
    "x = create_model('meanshift', num_clusters = 4)\n",
    "\n",
    "print(\"For Cluster = 5\")\n",
    "x = create_model('meanshift', num_clusters = 5)"
   ]
  },
  {
   "cell_type": "markdown",
   "id": "6db2e933-d9bb-49ed-af68-52a07f6c0f04",
   "metadata": {},
   "source": [
    "## Kmean-Shift - Using PCA"
   ]
  },
  {
   "cell_type": "code",
   "execution_count": 38,
   "id": "6c5826a8-f72c-4580-8f8a-9989a7cadc68",
   "metadata": {},
   "outputs": [
    {
     "name": "stdout",
     "output_type": "stream",
     "text": [
      "For Cluster = 3\n"
     ]
    },
    {
     "data": {
      "text/html": [],
      "text/plain": [
       "<IPython.core.display.HTML object>"
      ]
     },
     "metadata": {},
     "output_type": "display_data"
    },
    {
     "data": {
      "text/html": [
       "<style type=\"text/css\">\n",
       "</style>\n",
       "<table id=\"T_658e6\">\n",
       "  <thead>\n",
       "    <tr>\n",
       "      <th class=\"blank level0\" >&nbsp;</th>\n",
       "      <th id=\"T_658e6_level0_col0\" class=\"col_heading level0 col0\" >Silhouette</th>\n",
       "      <th id=\"T_658e6_level0_col1\" class=\"col_heading level0 col1\" >Calinski-Harabasz</th>\n",
       "      <th id=\"T_658e6_level0_col2\" class=\"col_heading level0 col2\" >Davies-Bouldin</th>\n",
       "      <th id=\"T_658e6_level0_col3\" class=\"col_heading level0 col3\" >Homogeneity</th>\n",
       "      <th id=\"T_658e6_level0_col4\" class=\"col_heading level0 col4\" >Rand Index</th>\n",
       "      <th id=\"T_658e6_level0_col5\" class=\"col_heading level0 col5\" >Completeness</th>\n",
       "    </tr>\n",
       "  </thead>\n",
       "  <tbody>\n",
       "    <tr>\n",
       "      <th id=\"T_658e6_level0_row0\" class=\"row_heading level0 row0\" >0</th>\n",
       "      <td id=\"T_658e6_row0_col0\" class=\"data row0 col0\" >0.0948</td>\n",
       "      <td id=\"T_658e6_row0_col1\" class=\"data row0 col1\" >12.4134</td>\n",
       "      <td id=\"T_658e6_row0_col2\" class=\"data row0 col2\" >0.5093</td>\n",
       "      <td id=\"T_658e6_row0_col3\" class=\"data row0 col3\" >0</td>\n",
       "      <td id=\"T_658e6_row0_col4\" class=\"data row0 col4\" >0</td>\n",
       "      <td id=\"T_658e6_row0_col5\" class=\"data row0 col5\" >0</td>\n",
       "    </tr>\n",
       "  </tbody>\n",
       "</table>\n"
      ],
      "text/plain": [
       "<pandas.io.formats.style.Styler at 0x239f9c53050>"
      ]
     },
     "metadata": {},
     "output_type": "display_data"
    },
    {
     "data": {
      "text/html": [],
      "text/plain": [
       "<IPython.core.display.HTML object>"
      ]
     },
     "metadata": {},
     "output_type": "display_data"
    },
    {
     "name": "stdout",
     "output_type": "stream",
     "text": [
      "For Cluster = 4\n"
     ]
    },
    {
     "data": {
      "text/html": [],
      "text/plain": [
       "<IPython.core.display.HTML object>"
      ]
     },
     "metadata": {},
     "output_type": "display_data"
    },
    {
     "data": {
      "text/html": [
       "<style type=\"text/css\">\n",
       "</style>\n",
       "<table id=\"T_12dd0\">\n",
       "  <thead>\n",
       "    <tr>\n",
       "      <th class=\"blank level0\" >&nbsp;</th>\n",
       "      <th id=\"T_12dd0_level0_col0\" class=\"col_heading level0 col0\" >Silhouette</th>\n",
       "      <th id=\"T_12dd0_level0_col1\" class=\"col_heading level0 col1\" >Calinski-Harabasz</th>\n",
       "      <th id=\"T_12dd0_level0_col2\" class=\"col_heading level0 col2\" >Davies-Bouldin</th>\n",
       "      <th id=\"T_12dd0_level0_col3\" class=\"col_heading level0 col3\" >Homogeneity</th>\n",
       "      <th id=\"T_12dd0_level0_col4\" class=\"col_heading level0 col4\" >Rand Index</th>\n",
       "      <th id=\"T_12dd0_level0_col5\" class=\"col_heading level0 col5\" >Completeness</th>\n",
       "    </tr>\n",
       "  </thead>\n",
       "  <tbody>\n",
       "    <tr>\n",
       "      <th id=\"T_12dd0_level0_row0\" class=\"row_heading level0 row0\" >0</th>\n",
       "      <td id=\"T_12dd0_row0_col0\" class=\"data row0 col0\" >0.0948</td>\n",
       "      <td id=\"T_12dd0_row0_col1\" class=\"data row0 col1\" >12.4134</td>\n",
       "      <td id=\"T_12dd0_row0_col2\" class=\"data row0 col2\" >0.5093</td>\n",
       "      <td id=\"T_12dd0_row0_col3\" class=\"data row0 col3\" >0</td>\n",
       "      <td id=\"T_12dd0_row0_col4\" class=\"data row0 col4\" >0</td>\n",
       "      <td id=\"T_12dd0_row0_col5\" class=\"data row0 col5\" >0</td>\n",
       "    </tr>\n",
       "  </tbody>\n",
       "</table>\n"
      ],
      "text/plain": [
       "<pandas.io.formats.style.Styler at 0x239f9c00810>"
      ]
     },
     "metadata": {},
     "output_type": "display_data"
    },
    {
     "data": {
      "text/html": [],
      "text/plain": [
       "<IPython.core.display.HTML object>"
      ]
     },
     "metadata": {},
     "output_type": "display_data"
    },
    {
     "name": "stdout",
     "output_type": "stream",
     "text": [
      "For Cluster = 5\n"
     ]
    },
    {
     "data": {
      "text/html": [],
      "text/plain": [
       "<IPython.core.display.HTML object>"
      ]
     },
     "metadata": {},
     "output_type": "display_data"
    },
    {
     "data": {
      "text/html": [
       "<style type=\"text/css\">\n",
       "</style>\n",
       "<table id=\"T_a0912\">\n",
       "  <thead>\n",
       "    <tr>\n",
       "      <th class=\"blank level0\" >&nbsp;</th>\n",
       "      <th id=\"T_a0912_level0_col0\" class=\"col_heading level0 col0\" >Silhouette</th>\n",
       "      <th id=\"T_a0912_level0_col1\" class=\"col_heading level0 col1\" >Calinski-Harabasz</th>\n",
       "      <th id=\"T_a0912_level0_col2\" class=\"col_heading level0 col2\" >Davies-Bouldin</th>\n",
       "      <th id=\"T_a0912_level0_col3\" class=\"col_heading level0 col3\" >Homogeneity</th>\n",
       "      <th id=\"T_a0912_level0_col4\" class=\"col_heading level0 col4\" >Rand Index</th>\n",
       "      <th id=\"T_a0912_level0_col5\" class=\"col_heading level0 col5\" >Completeness</th>\n",
       "    </tr>\n",
       "  </thead>\n",
       "  <tbody>\n",
       "    <tr>\n",
       "      <th id=\"T_a0912_level0_row0\" class=\"row_heading level0 row0\" >0</th>\n",
       "      <td id=\"T_a0912_row0_col0\" class=\"data row0 col0\" >0.0948</td>\n",
       "      <td id=\"T_a0912_row0_col1\" class=\"data row0 col1\" >12.4134</td>\n",
       "      <td id=\"T_a0912_row0_col2\" class=\"data row0 col2\" >0.5093</td>\n",
       "      <td id=\"T_a0912_row0_col3\" class=\"data row0 col3\" >0</td>\n",
       "      <td id=\"T_a0912_row0_col4\" class=\"data row0 col4\" >0</td>\n",
       "      <td id=\"T_a0912_row0_col5\" class=\"data row0 col5\" >0</td>\n",
       "    </tr>\n",
       "  </tbody>\n",
       "</table>\n"
      ],
      "text/plain": [
       "<pandas.io.formats.style.Styler at 0x239f57ed7d0>"
      ]
     },
     "metadata": {},
     "output_type": "display_data"
    },
    {
     "data": {
      "text/html": [],
      "text/plain": [
       "<IPython.core.display.HTML object>"
      ]
     },
     "metadata": {},
     "output_type": "display_data"
    }
   ],
   "source": [
    "setup(data = population, pca = True, pca_method = 'linear', verbose=False)\n",
    "\n",
    "print(\"For Cluster = 3\")\n",
    "x = create_model('meanshift', num_clusters = 3)\n",
    "\n",
    "print(\"For Cluster = 4\")\n",
    "x = create_model('meanshift', num_clusters = 4)\n",
    "\n",
    "print(\"For Cluster = 5\")\n",
    "x = create_model('meanshift', num_clusters = 5)"
   ]
  },
  {
   "cell_type": "markdown",
   "id": "3eff0255-d5c6-44c8-a687-1b050165d779",
   "metadata": {},
   "source": [
    "## Kmean-Shift - Using Transformation + Normalization"
   ]
  },
  {
   "cell_type": "code",
   "execution_count": 39,
   "id": "a481137e-c617-43f3-987a-795104fe3591",
   "metadata": {},
   "outputs": [
    {
     "name": "stdout",
     "output_type": "stream",
     "text": [
      "For Cluster = 3\n"
     ]
    },
    {
     "data": {
      "text/html": [],
      "text/plain": [
       "<IPython.core.display.HTML object>"
      ]
     },
     "metadata": {},
     "output_type": "display_data"
    },
    {
     "data": {
      "text/html": [
       "<style type=\"text/css\">\n",
       "</style>\n",
       "<table id=\"T_d81ca\">\n",
       "  <thead>\n",
       "    <tr>\n",
       "      <th class=\"blank level0\" >&nbsp;</th>\n",
       "      <th id=\"T_d81ca_level0_col0\" class=\"col_heading level0 col0\" >Silhouette</th>\n",
       "      <th id=\"T_d81ca_level0_col1\" class=\"col_heading level0 col1\" >Calinski-Harabasz</th>\n",
       "      <th id=\"T_d81ca_level0_col2\" class=\"col_heading level0 col2\" >Davies-Bouldin</th>\n",
       "      <th id=\"T_d81ca_level0_col3\" class=\"col_heading level0 col3\" >Homogeneity</th>\n",
       "      <th id=\"T_d81ca_level0_col4\" class=\"col_heading level0 col4\" >Rand Index</th>\n",
       "      <th id=\"T_d81ca_level0_col5\" class=\"col_heading level0 col5\" >Completeness</th>\n",
       "    </tr>\n",
       "  </thead>\n",
       "  <tbody>\n",
       "    <tr>\n",
       "      <th id=\"T_d81ca_level0_row0\" class=\"row_heading level0 row0\" >0</th>\n",
       "      <td id=\"T_d81ca_row0_col0\" class=\"data row0 col0\" >0.1487</td>\n",
       "      <td id=\"T_d81ca_row0_col1\" class=\"data row0 col1\" >2.4316</td>\n",
       "      <td id=\"T_d81ca_row0_col2\" class=\"data row0 col2\" >0.6565</td>\n",
       "      <td id=\"T_d81ca_row0_col3\" class=\"data row0 col3\" >0</td>\n",
       "      <td id=\"T_d81ca_row0_col4\" class=\"data row0 col4\" >0</td>\n",
       "      <td id=\"T_d81ca_row0_col5\" class=\"data row0 col5\" >0</td>\n",
       "    </tr>\n",
       "  </tbody>\n",
       "</table>\n"
      ],
      "text/plain": [
       "<pandas.io.formats.style.Styler at 0x239f9cc65d0>"
      ]
     },
     "metadata": {},
     "output_type": "display_data"
    },
    {
     "data": {
      "text/html": [],
      "text/plain": [
       "<IPython.core.display.HTML object>"
      ]
     },
     "metadata": {},
     "output_type": "display_data"
    },
    {
     "name": "stdout",
     "output_type": "stream",
     "text": [
      "For Cluster = 4\n"
     ]
    },
    {
     "data": {
      "text/html": [],
      "text/plain": [
       "<IPython.core.display.HTML object>"
      ]
     },
     "metadata": {},
     "output_type": "display_data"
    },
    {
     "data": {
      "text/html": [
       "<style type=\"text/css\">\n",
       "</style>\n",
       "<table id=\"T_a7094\">\n",
       "  <thead>\n",
       "    <tr>\n",
       "      <th class=\"blank level0\" >&nbsp;</th>\n",
       "      <th id=\"T_a7094_level0_col0\" class=\"col_heading level0 col0\" >Silhouette</th>\n",
       "      <th id=\"T_a7094_level0_col1\" class=\"col_heading level0 col1\" >Calinski-Harabasz</th>\n",
       "      <th id=\"T_a7094_level0_col2\" class=\"col_heading level0 col2\" >Davies-Bouldin</th>\n",
       "      <th id=\"T_a7094_level0_col3\" class=\"col_heading level0 col3\" >Homogeneity</th>\n",
       "      <th id=\"T_a7094_level0_col4\" class=\"col_heading level0 col4\" >Rand Index</th>\n",
       "      <th id=\"T_a7094_level0_col5\" class=\"col_heading level0 col5\" >Completeness</th>\n",
       "    </tr>\n",
       "  </thead>\n",
       "  <tbody>\n",
       "    <tr>\n",
       "      <th id=\"T_a7094_level0_row0\" class=\"row_heading level0 row0\" >0</th>\n",
       "      <td id=\"T_a7094_row0_col0\" class=\"data row0 col0\" >0.1487</td>\n",
       "      <td id=\"T_a7094_row0_col1\" class=\"data row0 col1\" >2.4316</td>\n",
       "      <td id=\"T_a7094_row0_col2\" class=\"data row0 col2\" >0.6565</td>\n",
       "      <td id=\"T_a7094_row0_col3\" class=\"data row0 col3\" >0</td>\n",
       "      <td id=\"T_a7094_row0_col4\" class=\"data row0 col4\" >0</td>\n",
       "      <td id=\"T_a7094_row0_col5\" class=\"data row0 col5\" >0</td>\n",
       "    </tr>\n",
       "  </tbody>\n",
       "</table>\n"
      ],
      "text/plain": [
       "<pandas.io.formats.style.Styler at 0x239f9ab3a90>"
      ]
     },
     "metadata": {},
     "output_type": "display_data"
    },
    {
     "data": {
      "text/html": [],
      "text/plain": [
       "<IPython.core.display.HTML object>"
      ]
     },
     "metadata": {},
     "output_type": "display_data"
    },
    {
     "name": "stdout",
     "output_type": "stream",
     "text": [
      "For Cluster = 5\n"
     ]
    },
    {
     "data": {
      "text/html": [],
      "text/plain": [
       "<IPython.core.display.HTML object>"
      ]
     },
     "metadata": {},
     "output_type": "display_data"
    },
    {
     "data": {
      "text/html": [
       "<style type=\"text/css\">\n",
       "</style>\n",
       "<table id=\"T_ada2f\">\n",
       "  <thead>\n",
       "    <tr>\n",
       "      <th class=\"blank level0\" >&nbsp;</th>\n",
       "      <th id=\"T_ada2f_level0_col0\" class=\"col_heading level0 col0\" >Silhouette</th>\n",
       "      <th id=\"T_ada2f_level0_col1\" class=\"col_heading level0 col1\" >Calinski-Harabasz</th>\n",
       "      <th id=\"T_ada2f_level0_col2\" class=\"col_heading level0 col2\" >Davies-Bouldin</th>\n",
       "      <th id=\"T_ada2f_level0_col3\" class=\"col_heading level0 col3\" >Homogeneity</th>\n",
       "      <th id=\"T_ada2f_level0_col4\" class=\"col_heading level0 col4\" >Rand Index</th>\n",
       "      <th id=\"T_ada2f_level0_col5\" class=\"col_heading level0 col5\" >Completeness</th>\n",
       "    </tr>\n",
       "  </thead>\n",
       "  <tbody>\n",
       "    <tr>\n",
       "      <th id=\"T_ada2f_level0_row0\" class=\"row_heading level0 row0\" >0</th>\n",
       "      <td id=\"T_ada2f_row0_col0\" class=\"data row0 col0\" >0.1487</td>\n",
       "      <td id=\"T_ada2f_row0_col1\" class=\"data row0 col1\" >2.4316</td>\n",
       "      <td id=\"T_ada2f_row0_col2\" class=\"data row0 col2\" >0.6565</td>\n",
       "      <td id=\"T_ada2f_row0_col3\" class=\"data row0 col3\" >0</td>\n",
       "      <td id=\"T_ada2f_row0_col4\" class=\"data row0 col4\" >0</td>\n",
       "      <td id=\"T_ada2f_row0_col5\" class=\"data row0 col5\" >0</td>\n",
       "    </tr>\n",
       "  </tbody>\n",
       "</table>\n"
      ],
      "text/plain": [
       "<pandas.io.formats.style.Styler at 0x239f9abd4d0>"
      ]
     },
     "metadata": {},
     "output_type": "display_data"
    },
    {
     "data": {
      "text/html": [],
      "text/plain": [
       "<IPython.core.display.HTML object>"
      ]
     },
     "metadata": {},
     "output_type": "display_data"
    }
   ],
   "source": [
    "setup(data = population, transformation = True, normalize = True,\n",
    "      normalize_method = 'zscore', transformation_method = 'yeo-johnson', verbose=False)\n",
    "\n",
    "print(\"For Cluster = 3\")\n",
    "x = create_model('meanshift', num_clusters = 3)\n",
    "\n",
    "print(\"For Cluster = 4\")\n",
    "x = create_model('meanshift', num_clusters = 4)\n",
    "\n",
    "print(\"For Cluster = 5\")\n",
    "x = create_model('meanshift', num_clusters = 5)"
   ]
  },
  {
   "cell_type": "markdown",
   "id": "9239f47a-0583-4603-b87d-9dcc59b62cb0",
   "metadata": {},
   "source": [
    "## Kmean-Shift-Using Normalization + Transformation + PCA"
   ]
  },
  {
   "cell_type": "code",
   "execution_count": 40,
   "id": "74053c45-7ca6-40ad-b77c-af37259c08f8",
   "metadata": {},
   "outputs": [
    {
     "name": "stdout",
     "output_type": "stream",
     "text": [
      "For Cluster = 3\n"
     ]
    },
    {
     "data": {
      "text/html": [],
      "text/plain": [
       "<IPython.core.display.HTML object>"
      ]
     },
     "metadata": {},
     "output_type": "display_data"
    },
    {
     "data": {
      "text/html": [
       "<style type=\"text/css\">\n",
       "</style>\n",
       "<table id=\"T_e577e\">\n",
       "  <thead>\n",
       "    <tr>\n",
       "      <th class=\"blank level0\" >&nbsp;</th>\n",
       "      <th id=\"T_e577e_level0_col0\" class=\"col_heading level0 col0\" >Silhouette</th>\n",
       "      <th id=\"T_e577e_level0_col1\" class=\"col_heading level0 col1\" >Calinski-Harabasz</th>\n",
       "      <th id=\"T_e577e_level0_col2\" class=\"col_heading level0 col2\" >Davies-Bouldin</th>\n",
       "      <th id=\"T_e577e_level0_col3\" class=\"col_heading level0 col3\" >Homogeneity</th>\n",
       "      <th id=\"T_e577e_level0_col4\" class=\"col_heading level0 col4\" >Rand Index</th>\n",
       "      <th id=\"T_e577e_level0_col5\" class=\"col_heading level0 col5\" >Completeness</th>\n",
       "    </tr>\n",
       "  </thead>\n",
       "  <tbody>\n",
       "    <tr>\n",
       "      <th id=\"T_e577e_level0_row0\" class=\"row_heading level0 row0\" >0</th>\n",
       "      <td id=\"T_e577e_row0_col0\" class=\"data row0 col0\" >0.1487</td>\n",
       "      <td id=\"T_e577e_row0_col1\" class=\"data row0 col1\" >2.4316</td>\n",
       "      <td id=\"T_e577e_row0_col2\" class=\"data row0 col2\" >0.6565</td>\n",
       "      <td id=\"T_e577e_row0_col3\" class=\"data row0 col3\" >0</td>\n",
       "      <td id=\"T_e577e_row0_col4\" class=\"data row0 col4\" >0</td>\n",
       "      <td id=\"T_e577e_row0_col5\" class=\"data row0 col5\" >0</td>\n",
       "    </tr>\n",
       "  </tbody>\n",
       "</table>\n"
      ],
      "text/plain": [
       "<pandas.io.formats.style.Styler at 0x239f9cd61d0>"
      ]
     },
     "metadata": {},
     "output_type": "display_data"
    },
    {
     "data": {
      "text/html": [],
      "text/plain": [
       "<IPython.core.display.HTML object>"
      ]
     },
     "metadata": {},
     "output_type": "display_data"
    },
    {
     "name": "stdout",
     "output_type": "stream",
     "text": [
      "For Cluster = 4\n"
     ]
    },
    {
     "data": {
      "text/html": [],
      "text/plain": [
       "<IPython.core.display.HTML object>"
      ]
     },
     "metadata": {},
     "output_type": "display_data"
    },
    {
     "data": {
      "text/html": [
       "<style type=\"text/css\">\n",
       "</style>\n",
       "<table id=\"T_a4798\">\n",
       "  <thead>\n",
       "    <tr>\n",
       "      <th class=\"blank level0\" >&nbsp;</th>\n",
       "      <th id=\"T_a4798_level0_col0\" class=\"col_heading level0 col0\" >Silhouette</th>\n",
       "      <th id=\"T_a4798_level0_col1\" class=\"col_heading level0 col1\" >Calinski-Harabasz</th>\n",
       "      <th id=\"T_a4798_level0_col2\" class=\"col_heading level0 col2\" >Davies-Bouldin</th>\n",
       "      <th id=\"T_a4798_level0_col3\" class=\"col_heading level0 col3\" >Homogeneity</th>\n",
       "      <th id=\"T_a4798_level0_col4\" class=\"col_heading level0 col4\" >Rand Index</th>\n",
       "      <th id=\"T_a4798_level0_col5\" class=\"col_heading level0 col5\" >Completeness</th>\n",
       "    </tr>\n",
       "  </thead>\n",
       "  <tbody>\n",
       "    <tr>\n",
       "      <th id=\"T_a4798_level0_row0\" class=\"row_heading level0 row0\" >0</th>\n",
       "      <td id=\"T_a4798_row0_col0\" class=\"data row0 col0\" >0.1487</td>\n",
       "      <td id=\"T_a4798_row0_col1\" class=\"data row0 col1\" >2.4316</td>\n",
       "      <td id=\"T_a4798_row0_col2\" class=\"data row0 col2\" >0.6565</td>\n",
       "      <td id=\"T_a4798_row0_col3\" class=\"data row0 col3\" >0</td>\n",
       "      <td id=\"T_a4798_row0_col4\" class=\"data row0 col4\" >0</td>\n",
       "      <td id=\"T_a4798_row0_col5\" class=\"data row0 col5\" >0</td>\n",
       "    </tr>\n",
       "  </tbody>\n",
       "</table>\n"
      ],
      "text/plain": [
       "<pandas.io.formats.style.Styler at 0x239f9c83990>"
      ]
     },
     "metadata": {},
     "output_type": "display_data"
    },
    {
     "data": {
      "text/html": [],
      "text/plain": [
       "<IPython.core.display.HTML object>"
      ]
     },
     "metadata": {},
     "output_type": "display_data"
    },
    {
     "name": "stdout",
     "output_type": "stream",
     "text": [
      "For Cluster = 5\n"
     ]
    },
    {
     "data": {
      "text/html": [],
      "text/plain": [
       "<IPython.core.display.HTML object>"
      ]
     },
     "metadata": {},
     "output_type": "display_data"
    },
    {
     "data": {
      "text/html": [
       "<style type=\"text/css\">\n",
       "</style>\n",
       "<table id=\"T_3609e\">\n",
       "  <thead>\n",
       "    <tr>\n",
       "      <th class=\"blank level0\" >&nbsp;</th>\n",
       "      <th id=\"T_3609e_level0_col0\" class=\"col_heading level0 col0\" >Silhouette</th>\n",
       "      <th id=\"T_3609e_level0_col1\" class=\"col_heading level0 col1\" >Calinski-Harabasz</th>\n",
       "      <th id=\"T_3609e_level0_col2\" class=\"col_heading level0 col2\" >Davies-Bouldin</th>\n",
       "      <th id=\"T_3609e_level0_col3\" class=\"col_heading level0 col3\" >Homogeneity</th>\n",
       "      <th id=\"T_3609e_level0_col4\" class=\"col_heading level0 col4\" >Rand Index</th>\n",
       "      <th id=\"T_3609e_level0_col5\" class=\"col_heading level0 col5\" >Completeness</th>\n",
       "    </tr>\n",
       "  </thead>\n",
       "  <tbody>\n",
       "    <tr>\n",
       "      <th id=\"T_3609e_level0_row0\" class=\"row_heading level0 row0\" >0</th>\n",
       "      <td id=\"T_3609e_row0_col0\" class=\"data row0 col0\" >0.1487</td>\n",
       "      <td id=\"T_3609e_row0_col1\" class=\"data row0 col1\" >2.4316</td>\n",
       "      <td id=\"T_3609e_row0_col2\" class=\"data row0 col2\" >0.6565</td>\n",
       "      <td id=\"T_3609e_row0_col3\" class=\"data row0 col3\" >0</td>\n",
       "      <td id=\"T_3609e_row0_col4\" class=\"data row0 col4\" >0</td>\n",
       "      <td id=\"T_3609e_row0_col5\" class=\"data row0 col5\" >0</td>\n",
       "    </tr>\n",
       "  </tbody>\n",
       "</table>\n"
      ],
      "text/plain": [
       "<pandas.io.formats.style.Styler at 0x239f9c562d0>"
      ]
     },
     "metadata": {},
     "output_type": "display_data"
    },
    {
     "data": {
      "text/html": [],
      "text/plain": [
       "<IPython.core.display.HTML object>"
      ]
     },
     "metadata": {},
     "output_type": "display_data"
    }
   ],
   "source": [
    "setup(data = population, transformation = True, normalize = True, pca = True,\n",
    "      normalize_method = 'zscore',\n",
    "      transformation_method = 'yeo-johnson',\n",
    "      pca_method = 'linear', verbose=False)\n",
    "\n",
    "print(\"For Cluster = 3\")\n",
    "x = create_model('meanshift', num_clusters = 3)\n",
    "\n",
    "print(\"For Cluster = 4\")\n",
    "x = create_model('meanshift', num_clusters = 4)\n",
    "\n",
    "print(\"For Cluster = 5\")\n",
    "x = create_model('meanshift', num_clusters = 5)"
   ]
  }
 ],
 "metadata": {
  "kernelspec": {
   "display_name": "Python 3 (ipykernel)",
   "language": "python",
   "name": "python3"
  },
  "language_info": {
   "codemirror_mode": {
    "name": "ipython",
    "version": 3
   },
   "file_extension": ".py",
   "mimetype": "text/x-python",
   "name": "python",
   "nbconvert_exporter": "python",
   "pygments_lexer": "ipython3",
   "version": "3.11.8"
  }
 },
 "nbformat": 4,
 "nbformat_minor": 5
}
